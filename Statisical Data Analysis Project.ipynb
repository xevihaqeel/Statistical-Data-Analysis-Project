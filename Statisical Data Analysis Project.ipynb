{
 "cells": [
  {
   "cell_type": "markdown",
   "metadata": {},
   "source": [
    "<div style=\"border:solid green 2px; padding: 20px\"> <h1 style=\"color:green; margin-bottom:20px\">Reviewer's comment v1</h1>\n",
    "\n",
    "Hello Justin!\n",
    "\n",
    "I'm happy to review your project today  🙌\n",
    "\n",
    "You can find my comments under the heading **«Review»**. I will categorize my comments in green, blue or red boxes like this:\n",
    "\n",
    "<div class=\"alert alert-success\">\n",
    "    <b>Success:</b> if everything is done successfully\n",
    "</div>\n",
    "<div class=\"alert alert-warning\">\n",
    "    <b>Remarks:</b> if I can give some recommendations or ways to improve the project\n",
    "</div>\n",
    "<div class=\"alert alert-danger\">\n",
    "    <b>Needs fixing:</b> if the block requires some corrections. Work can't be accepted with the red comments\n",
    "</div>\n",
    "\n",
    "Please don't remove my comments :) If you have any questions don't hesitate to respond to my comments in a different section. \n",
    "<div class=\"alert alert-info\"> <b>Student comments: </div>    \n"
   ]
  },
  {
   "cell_type": "markdown",
   "metadata": {},
   "source": [
    "<div style=\"border:solid green 2px; padding: 20px\">\n",
    "<b>Reviewer's comment v1</b>\n",
    "    \n",
    "<b>Overall Feedback</b> \n",
    "    \n",
    "Overall, well done! I can see that a lot of effort has been put in. Your project already looks really good, and you've achieved impressive results.\n",
    "\n",
    "However, there are some comments/areas left to fix that will help you to make your project even better (in red boxes with the title - `Reviewer's comment v1`). \n",
    "    \n",
    "And of course, if you have any questions along the way, remember that you can always reach out to your tutor for clarification.\n",
    "</div>"
   ]
  },
  {
   "cell_type": "markdown",
   "metadata": {},
   "source": [
    "<div style=\"border:solid green 2px; padding: 20px\">\n",
    "<b>Reviewer's comment v2:</b>\n",
    "    \n",
    "<b>Overall Feedback</b> \n",
    "    \n",
    "Thank you for going an extra mile and enhancing your project. There are no issues left, so your project has been accepted. I wish you engaging projects in the upcoming sprints! ☘️\n",
    "    \n",
    "PS: As a final note, I can recommend cool lectures on stat analysis here: https://www.youtube.com/playlist?list=PL2SOU6wwxB0uwwH80KTQ6ht66KWxbzTIo  \n",
    "    \n",
    "Another great self-paced course that covers basic concepts in probability and statistics - Probability and Statistics by Stanford Online or you could check this one [An Introduction to Statistical Learning with Applications in R](https://www.r-bloggers.com/2014/09/in-depth-introduction-to-machine-learning-in-15-hours-of-expert-videos/) 🙌\n",
    "\n",
    "</div>"
   ]
  },
  {
   "cell_type": "markdown",
   "metadata": {},
   "source": [
    "# Which one is a better plan?\n",
    "\n",
    "You work as an analyst for the telecom operator Megaline. The company offers its clients two prepaid plans, Surf and Ultimate. The commercial department wants to know which of the plans brings in more revenue in order to adjust the advertising budget.\n",
    "\n",
    "You are going to carry out a preliminary analysis of the plans based on a relatively small client selection. You'll have the data on 500 Megaline clients: who the clients are, where they're from, which plan they use, and the number of calls they made and text messages they sent in 2018. Your job is to analyze the clients' behavior and determine which prepaid plan brings in more revenue."
   ]
  },
  {
   "cell_type": "markdown",
   "metadata": {},
   "source": [
    "[We've provided you with some commentary to guide your thinking as you complete this project. However, make sure to remove all the bracketed comments before submitting your project.]\n",
    "\n",
    "[Before you dive into analyzing your data, explain for yourself the purpose of the project and actions you plan to take.]\n",
    "\n",
    "[Please bear in mind that studying, amending, and analyzing data is an iterative process. It is normal to return to previous steps and correct/expand them to allow for further steps.]"
   ]
  },
  {
   "cell_type": "markdown",
   "metadata": {},
   "source": [
    "<div class=\"alert alert-block alert-success\">\n",
    "<b>Reviewer's comment v1</b>\n",
    " \n",
    "Great that you added additional information about the project goal and tasks."
   ]
  },
  {
   "cell_type": "markdown",
   "metadata": {},
   "source": [
    "## Initialization"
   ]
  },
  {
   "cell_type": "markdown",
   "metadata": {},
   "source": []
  },
  {
   "cell_type": "code",
   "execution_count": 1,
   "metadata": {},
   "outputs": [],
   "source": [
    "# Loading all the libraries\n",
    "import pandas as pd\n",
    "import numpy as np\n",
    "\n",
    "import matplotlib.pyplot as plt\n",
    "import math\n",
    "import random\n",
    "\n",
    "from functools import reduce\n",
    "from scipy import stats\n"
   ]
  },
  {
   "cell_type": "markdown",
   "metadata": {},
   "source": [
    "## Load data"
   ]
  },
  {
   "cell_type": "markdown",
   "metadata": {},
   "source": []
  },
  {
   "cell_type": "code",
   "execution_count": 2,
   "metadata": {},
   "outputs": [],
   "source": [
    "# Load the data files into different DataFrames\n",
    "calls_df = pd.read_csv('/datasets/megaline_calls.csv')\n",
    "internet_df = pd.read_csv('/datasets/megaline_internet.csv')\n",
    "messages_df = pd.read_csv('/datasets/megaline_messages.csv')\n",
    "plans_df = pd.read_csv('/datasets/megaline_plans.csv')\n",
    "users_df = pd.read_csv('/datasets/megaline_users.csv')\n"
   ]
  },
  {
   "cell_type": "markdown",
   "metadata": {},
   "source": [
    "<div class=\"alert alert-block alert-warning\">\n",
    "<b>Reviewer's comment v1</b>\n",
    " \n",
    "You could also apply `try/except` structure with different paths so it will work with both local and remote data paths. \n",
    "    \n",
    "You could check additional information here: https://www.w3schools.com/python/python_try_except.asp\n",
    "    \n",
    "Here's a simple example of how you can apply a try/except structure to handle both local and remote data paths:\n",
    "\n",
    "```\n",
    "local_path = 'path/to/local/orders.csv'\n",
    "users_df = '/datasets/megaline_users.csv'\n",
    "\n",
    "try:\n",
    "    users_df = pd.read_csv(local_path, sep=';')\n",
    "except FileNotFoundError:\n",
    "    users_df = pd.read_csv(tripleten_path, sep=',')\n",
    "```"
   ]
  },
  {
   "cell_type": "markdown",
   "metadata": {},
   "source": [
    "## Prepare the data"
   ]
  },
  {
   "cell_type": "markdown",
   "metadata": {},
   "source": [
    "[The data for this project is split into several tables. Explore each one to get an initial understanding of the data. Do necessary corrections to each table if necessary.]"
   ]
  },
  {
   "cell_type": "markdown",
   "metadata": {},
   "source": [
    "## Plans"
   ]
  },
  {
   "cell_type": "code",
   "execution_count": 3,
   "metadata": {},
   "outputs": [
    {
     "name": "stdout",
     "output_type": "stream",
     "text": [
      "<class 'pandas.core.frame.DataFrame'>\n",
      "RangeIndex: 2 entries, 0 to 1\n",
      "Data columns (total 8 columns):\n",
      " #   Column                 Non-Null Count  Dtype  \n",
      "---  ------                 --------------  -----  \n",
      " 0   messages_included      2 non-null      int64  \n",
      " 1   mb_per_month_included  2 non-null      int64  \n",
      " 2   minutes_included       2 non-null      int64  \n",
      " 3   usd_monthly_pay        2 non-null      int64  \n",
      " 4   usd_per_gb             2 non-null      int64  \n",
      " 5   usd_per_message        2 non-null      float64\n",
      " 6   usd_per_minute         2 non-null      float64\n",
      " 7   plan_name              2 non-null      object \n",
      "dtypes: float64(2), int64(5), object(1)\n",
      "memory usage: 256.0+ bytes\n"
     ]
    },
    {
     "data": {
      "text/html": [
       "<div>\n",
       "<style scoped>\n",
       "    .dataframe tbody tr th:only-of-type {\n",
       "        vertical-align: middle;\n",
       "    }\n",
       "\n",
       "    .dataframe tbody tr th {\n",
       "        vertical-align: top;\n",
       "    }\n",
       "\n",
       "    .dataframe thead th {\n",
       "        text-align: right;\n",
       "    }\n",
       "</style>\n",
       "<table border=\"1\" class=\"dataframe\">\n",
       "  <thead>\n",
       "    <tr style=\"text-align: right;\">\n",
       "      <th></th>\n",
       "      <th>messages_included</th>\n",
       "      <th>mb_per_month_included</th>\n",
       "      <th>minutes_included</th>\n",
       "      <th>usd_monthly_pay</th>\n",
       "      <th>usd_per_gb</th>\n",
       "      <th>usd_per_message</th>\n",
       "      <th>usd_per_minute</th>\n",
       "      <th>plan_name</th>\n",
       "    </tr>\n",
       "  </thead>\n",
       "  <tbody>\n",
       "    <tr>\n",
       "      <th>0</th>\n",
       "      <td>50</td>\n",
       "      <td>15360</td>\n",
       "      <td>500</td>\n",
       "      <td>20</td>\n",
       "      <td>10</td>\n",
       "      <td>0.03</td>\n",
       "      <td>0.03</td>\n",
       "      <td>surf</td>\n",
       "    </tr>\n",
       "    <tr>\n",
       "      <th>1</th>\n",
       "      <td>1000</td>\n",
       "      <td>30720</td>\n",
       "      <td>3000</td>\n",
       "      <td>70</td>\n",
       "      <td>7</td>\n",
       "      <td>0.01</td>\n",
       "      <td>0.01</td>\n",
       "      <td>ultimate</td>\n",
       "    </tr>\n",
       "  </tbody>\n",
       "</table>\n",
       "</div>"
      ],
      "text/plain": [
       "   messages_included  mb_per_month_included  minutes_included  \\\n",
       "0                 50                  15360               500   \n",
       "1               1000                  30720              3000   \n",
       "\n",
       "   usd_monthly_pay  usd_per_gb  usd_per_message  usd_per_minute plan_name  \n",
       "0               20          10             0.03            0.03      surf  \n",
       "1               70           7             0.01            0.01  ultimate  "
      ]
     },
     "metadata": {},
     "output_type": "display_data"
    }
   ],
   "source": [
    "# Print the general/summary information about the plans' DataFrame\n",
    "plans_df.info()\n",
    "display(plans_df)"
   ]
  },
  {
   "cell_type": "code",
   "execution_count": 4,
   "metadata": {},
   "outputs": [
    {
     "data": {
      "text/html": [
       "<div>\n",
       "<style scoped>\n",
       "    .dataframe tbody tr th:only-of-type {\n",
       "        vertical-align: middle;\n",
       "    }\n",
       "\n",
       "    .dataframe tbody tr th {\n",
       "        vertical-align: top;\n",
       "    }\n",
       "\n",
       "    .dataframe thead th {\n",
       "        text-align: right;\n",
       "    }\n",
       "</style>\n",
       "<table border=\"1\" class=\"dataframe\">\n",
       "  <thead>\n",
       "    <tr style=\"text-align: right;\">\n",
       "      <th></th>\n",
       "      <th>messages_included</th>\n",
       "      <th>mb_per_month_included</th>\n",
       "      <th>minutes_included</th>\n",
       "      <th>usd_monthly_pay</th>\n",
       "      <th>usd_per_gb</th>\n",
       "      <th>usd_per_message</th>\n",
       "      <th>usd_per_minute</th>\n",
       "      <th>plan_name</th>\n",
       "    </tr>\n",
       "  </thead>\n",
       "  <tbody>\n",
       "    <tr>\n",
       "      <th>0</th>\n",
       "      <td>50</td>\n",
       "      <td>15360</td>\n",
       "      <td>500</td>\n",
       "      <td>20</td>\n",
       "      <td>10</td>\n",
       "      <td>0.03</td>\n",
       "      <td>0.03</td>\n",
       "      <td>surf</td>\n",
       "    </tr>\n",
       "    <tr>\n",
       "      <th>1</th>\n",
       "      <td>1000</td>\n",
       "      <td>30720</td>\n",
       "      <td>3000</td>\n",
       "      <td>70</td>\n",
       "      <td>7</td>\n",
       "      <td>0.01</td>\n",
       "      <td>0.01</td>\n",
       "      <td>ultimate</td>\n",
       "    </tr>\n",
       "  </tbody>\n",
       "</table>\n",
       "</div>"
      ],
      "text/plain": [
       "   messages_included  mb_per_month_included  minutes_included  \\\n",
       "0                 50                  15360               500   \n",
       "1               1000                  30720              3000   \n",
       "\n",
       "   usd_monthly_pay  usd_per_gb  usd_per_message  usd_per_minute plan_name  \n",
       "0               20          10             0.03            0.03      surf  \n",
       "1               70           7             0.01            0.01  ultimate  "
      ]
     },
     "execution_count": 4,
     "metadata": {},
     "output_type": "execute_result"
    }
   ],
   "source": [
    "# Print a sample of data for plans\n",
    "plans_df"
   ]
  },
  {
   "cell_type": "markdown",
   "metadata": {},
   "source": [
    "From my observation it looks at though there may be some issues as far as datatypes are concerned. There are two columns that refer to usd where the values are integers (usd_monthly pay | usd_per_gb) and two where the values are floats (usd_per_message | usd_per_minute). It might be better for choose one or the other for values involving usd. I'll be choosing floats.\n",
    "\n",
    "It also seems as though the values of the \"plan_name\" columns are objects when they should be strings. "
   ]
  },
  {
   "cell_type": "markdown",
   "metadata": {},
   "source": [
    "<div class=\"alert alert-success\">\n",
    "<b>Reviewer's comment v1:</b>\n",
    "    \n",
    "Great data overview and correct conclusions. "
   ]
  },
  {
   "cell_type": "markdown",
   "metadata": {},
   "source": [
    " "
   ]
  },
  {
   "cell_type": "markdown",
   "metadata": {},
   "source": [
    "## Fix data"
   ]
  },
  {
   "cell_type": "markdown",
   "metadata": {},
   "source": [
    "[Fix obvious issues with the data given the initial observations.]"
   ]
  },
  {
   "cell_type": "code",
   "execution_count": 5,
   "metadata": {},
   "outputs": [
    {
     "name": "stdout",
     "output_type": "stream",
     "text": [
      "<class 'pandas.core.frame.DataFrame'>\n",
      "RangeIndex: 2 entries, 0 to 1\n",
      "Data columns (total 8 columns):\n",
      " #   Column                 Non-Null Count  Dtype  \n",
      "---  ------                 --------------  -----  \n",
      " 0   messages_included      2 non-null      int64  \n",
      " 1   mb_per_month_included  2 non-null      int64  \n",
      " 2   minutes_included       2 non-null      int64  \n",
      " 3   usd_monthly_pay        2 non-null      float64\n",
      " 4   usd_per_gb             2 non-null      float64\n",
      " 5   usd_per_message        2 non-null      float64\n",
      " 6   usd_per_minute         2 non-null      float64\n",
      " 7   plan_name              2 non-null      object \n",
      "dtypes: float64(4), int64(3), object(1)\n",
      "memory usage: 256.0+ bytes\n"
     ]
    },
    {
     "data": {
      "text/html": [
       "<div>\n",
       "<style scoped>\n",
       "    .dataframe tbody tr th:only-of-type {\n",
       "        vertical-align: middle;\n",
       "    }\n",
       "\n",
       "    .dataframe tbody tr th {\n",
       "        vertical-align: top;\n",
       "    }\n",
       "\n",
       "    .dataframe thead th {\n",
       "        text-align: right;\n",
       "    }\n",
       "</style>\n",
       "<table border=\"1\" class=\"dataframe\">\n",
       "  <thead>\n",
       "    <tr style=\"text-align: right;\">\n",
       "      <th></th>\n",
       "      <th>messages_included</th>\n",
       "      <th>mb_per_month_included</th>\n",
       "      <th>minutes_included</th>\n",
       "      <th>usd_monthly_pay</th>\n",
       "      <th>usd_per_gb</th>\n",
       "      <th>usd_per_message</th>\n",
       "      <th>usd_per_minute</th>\n",
       "      <th>plan_name</th>\n",
       "    </tr>\n",
       "  </thead>\n",
       "  <tbody>\n",
       "    <tr>\n",
       "      <th>0</th>\n",
       "      <td>50</td>\n",
       "      <td>15360</td>\n",
       "      <td>500</td>\n",
       "      <td>20.0</td>\n",
       "      <td>10.0</td>\n",
       "      <td>0.03</td>\n",
       "      <td>0.03</td>\n",
       "      <td>surf</td>\n",
       "    </tr>\n",
       "    <tr>\n",
       "      <th>1</th>\n",
       "      <td>1000</td>\n",
       "      <td>30720</td>\n",
       "      <td>3000</td>\n",
       "      <td>70.0</td>\n",
       "      <td>7.0</td>\n",
       "      <td>0.01</td>\n",
       "      <td>0.01</td>\n",
       "      <td>ultimate</td>\n",
       "    </tr>\n",
       "  </tbody>\n",
       "</table>\n",
       "</div>"
      ],
      "text/plain": [
       "   messages_included  mb_per_month_included  minutes_included  \\\n",
       "0                 50                  15360               500   \n",
       "1               1000                  30720              3000   \n",
       "\n",
       "   usd_monthly_pay  usd_per_gb  usd_per_message  usd_per_minute plan_name  \n",
       "0             20.0        10.0             0.03            0.03      surf  \n",
       "1             70.0         7.0             0.01            0.01  ultimate  "
      ]
     },
     "metadata": {},
     "output_type": "display_data"
    }
   ],
   "source": [
    "plans_df['usd_monthly_pay'] = plans_df['usd_monthly_pay'].astype(float)\n",
    "plans_df['usd_per_gb'] = plans_df['usd_per_gb'].astype(float)\n",
    "plans_df['plan_name'] = plans_df['plan_name'].astype(str)\n",
    "plans_df.info()\n",
    "display(plans_df)"
   ]
  },
  {
   "cell_type": "markdown",
   "metadata": {},
   "source": [
    "## Enrich data"
   ]
  },
  {
   "cell_type": "markdown",
   "metadata": {},
   "source": [
    "[Add additional factors to the data if you believe they might be useful.]"
   ]
  },
  {
   "cell_type": "code",
   "execution_count": 6,
   "metadata": {},
   "outputs": [],
   "source": [
    "#adding a \"gb_per_month_included\" column for for anyobdy uninterested in doing the calculations\n",
    "plans_df.insert(loc=plans_df.columns.get_loc('mb_per_month_included') + 1,column='gb_per_month_included', value=plans_df['mb_per_month_included']/1000)\n"
   ]
  },
  {
   "cell_type": "code",
   "execution_count": 7,
   "metadata": {},
   "outputs": [
    {
     "data": {
      "text/html": [
       "<div>\n",
       "<style scoped>\n",
       "    .dataframe tbody tr th:only-of-type {\n",
       "        vertical-align: middle;\n",
       "    }\n",
       "\n",
       "    .dataframe tbody tr th {\n",
       "        vertical-align: top;\n",
       "    }\n",
       "\n",
       "    .dataframe thead th {\n",
       "        text-align: right;\n",
       "    }\n",
       "</style>\n",
       "<table border=\"1\" class=\"dataframe\">\n",
       "  <thead>\n",
       "    <tr style=\"text-align: right;\">\n",
       "      <th></th>\n",
       "      <th>messages_included</th>\n",
       "      <th>mb_per_month_included</th>\n",
       "      <th>gb_per_month_included</th>\n",
       "      <th>minutes_included</th>\n",
       "      <th>usd_monthly_pay</th>\n",
       "      <th>usd_per_gb</th>\n",
       "      <th>usd_per_message</th>\n",
       "      <th>usd_per_minute</th>\n",
       "      <th>plan_name</th>\n",
       "    </tr>\n",
       "  </thead>\n",
       "  <tbody>\n",
       "    <tr>\n",
       "      <th>0</th>\n",
       "      <td>50</td>\n",
       "      <td>15360</td>\n",
       "      <td>15.36</td>\n",
       "      <td>500</td>\n",
       "      <td>20.0</td>\n",
       "      <td>10.0</td>\n",
       "      <td>0.03</td>\n",
       "      <td>0.03</td>\n",
       "      <td>surf</td>\n",
       "    </tr>\n",
       "    <tr>\n",
       "      <th>1</th>\n",
       "      <td>1000</td>\n",
       "      <td>30720</td>\n",
       "      <td>30.72</td>\n",
       "      <td>3000</td>\n",
       "      <td>70.0</td>\n",
       "      <td>7.0</td>\n",
       "      <td>0.01</td>\n",
       "      <td>0.01</td>\n",
       "      <td>ultimate</td>\n",
       "    </tr>\n",
       "  </tbody>\n",
       "</table>\n",
       "</div>"
      ],
      "text/plain": [
       "   messages_included  mb_per_month_included  gb_per_month_included  \\\n",
       "0                 50                  15360                  15.36   \n",
       "1               1000                  30720                  30.72   \n",
       "\n",
       "   minutes_included  usd_monthly_pay  usd_per_gb  usd_per_message  \\\n",
       "0               500             20.0        10.0             0.03   \n",
       "1              3000             70.0         7.0             0.01   \n",
       "\n",
       "   usd_per_minute plan_name  \n",
       "0            0.03      surf  \n",
       "1            0.01  ultimate  "
      ]
     },
     "metadata": {},
     "output_type": "display_data"
    }
   ],
   "source": [
    "display(plans_df)"
   ]
  },
  {
   "cell_type": "markdown",
   "metadata": {},
   "source": [
    "## Users"
   ]
  },
  {
   "cell_type": "code",
   "execution_count": 8,
   "metadata": {},
   "outputs": [
    {
     "name": "stdout",
     "output_type": "stream",
     "text": [
      "<class 'pandas.core.frame.DataFrame'>\n",
      "RangeIndex: 500 entries, 0 to 499\n",
      "Data columns (total 8 columns):\n",
      " #   Column      Non-Null Count  Dtype \n",
      "---  ------      --------------  ----- \n",
      " 0   user_id     500 non-null    int64 \n",
      " 1   first_name  500 non-null    object\n",
      " 2   last_name   500 non-null    object\n",
      " 3   age         500 non-null    int64 \n",
      " 4   city        500 non-null    object\n",
      " 5   reg_date    500 non-null    object\n",
      " 6   plan        500 non-null    object\n",
      " 7   churn_date  34 non-null     object\n",
      "dtypes: int64(2), object(6)\n",
      "memory usage: 31.4+ KB\n"
     ]
    },
    {
     "data": {
      "text/html": [
       "<div>\n",
       "<style scoped>\n",
       "    .dataframe tbody tr th:only-of-type {\n",
       "        vertical-align: middle;\n",
       "    }\n",
       "\n",
       "    .dataframe tbody tr th {\n",
       "        vertical-align: top;\n",
       "    }\n",
       "\n",
       "    .dataframe thead th {\n",
       "        text-align: right;\n",
       "    }\n",
       "</style>\n",
       "<table border=\"1\" class=\"dataframe\">\n",
       "  <thead>\n",
       "    <tr style=\"text-align: right;\">\n",
       "      <th></th>\n",
       "      <th>user_id</th>\n",
       "      <th>first_name</th>\n",
       "      <th>last_name</th>\n",
       "      <th>age</th>\n",
       "      <th>city</th>\n",
       "      <th>reg_date</th>\n",
       "      <th>plan</th>\n",
       "      <th>churn_date</th>\n",
       "    </tr>\n",
       "  </thead>\n",
       "  <tbody>\n",
       "    <tr>\n",
       "      <th>0</th>\n",
       "      <td>1000</td>\n",
       "      <td>Anamaria</td>\n",
       "      <td>Bauer</td>\n",
       "      <td>45</td>\n",
       "      <td>Atlanta-Sandy Springs-Roswell, GA MSA</td>\n",
       "      <td>2018-12-24</td>\n",
       "      <td>ultimate</td>\n",
       "      <td>NaN</td>\n",
       "    </tr>\n",
       "    <tr>\n",
       "      <th>1</th>\n",
       "      <td>1001</td>\n",
       "      <td>Mickey</td>\n",
       "      <td>Wilkerson</td>\n",
       "      <td>28</td>\n",
       "      <td>Seattle-Tacoma-Bellevue, WA MSA</td>\n",
       "      <td>2018-08-13</td>\n",
       "      <td>surf</td>\n",
       "      <td>NaN</td>\n",
       "    </tr>\n",
       "    <tr>\n",
       "      <th>2</th>\n",
       "      <td>1002</td>\n",
       "      <td>Carlee</td>\n",
       "      <td>Hoffman</td>\n",
       "      <td>36</td>\n",
       "      <td>Las Vegas-Henderson-Paradise, NV MSA</td>\n",
       "      <td>2018-10-21</td>\n",
       "      <td>surf</td>\n",
       "      <td>NaN</td>\n",
       "    </tr>\n",
       "    <tr>\n",
       "      <th>3</th>\n",
       "      <td>1003</td>\n",
       "      <td>Reynaldo</td>\n",
       "      <td>Jenkins</td>\n",
       "      <td>52</td>\n",
       "      <td>Tulsa, OK MSA</td>\n",
       "      <td>2018-01-28</td>\n",
       "      <td>surf</td>\n",
       "      <td>NaN</td>\n",
       "    </tr>\n",
       "    <tr>\n",
       "      <th>4</th>\n",
       "      <td>1004</td>\n",
       "      <td>Leonila</td>\n",
       "      <td>Thompson</td>\n",
       "      <td>40</td>\n",
       "      <td>Seattle-Tacoma-Bellevue, WA MSA</td>\n",
       "      <td>2018-05-23</td>\n",
       "      <td>surf</td>\n",
       "      <td>NaN</td>\n",
       "    </tr>\n",
       "    <tr>\n",
       "      <th>5</th>\n",
       "      <td>1005</td>\n",
       "      <td>Livia</td>\n",
       "      <td>Shields</td>\n",
       "      <td>31</td>\n",
       "      <td>Dallas-Fort Worth-Arlington, TX MSA</td>\n",
       "      <td>2018-11-29</td>\n",
       "      <td>surf</td>\n",
       "      <td>NaN</td>\n",
       "    </tr>\n",
       "    <tr>\n",
       "      <th>6</th>\n",
       "      <td>1006</td>\n",
       "      <td>Jesusa</td>\n",
       "      <td>Bradford</td>\n",
       "      <td>73</td>\n",
       "      <td>San Francisco-Oakland-Berkeley, CA MSA</td>\n",
       "      <td>2018-11-27</td>\n",
       "      <td>ultimate</td>\n",
       "      <td>2018-12-18</td>\n",
       "    </tr>\n",
       "    <tr>\n",
       "      <th>7</th>\n",
       "      <td>1007</td>\n",
       "      <td>Eusebio</td>\n",
       "      <td>Welch</td>\n",
       "      <td>42</td>\n",
       "      <td>Grand Rapids-Kentwood, MI MSA</td>\n",
       "      <td>2018-07-11</td>\n",
       "      <td>surf</td>\n",
       "      <td>NaN</td>\n",
       "    </tr>\n",
       "    <tr>\n",
       "      <th>8</th>\n",
       "      <td>1008</td>\n",
       "      <td>Emely</td>\n",
       "      <td>Hoffman</td>\n",
       "      <td>53</td>\n",
       "      <td>Orlando-Kissimmee-Sanford, FL MSA</td>\n",
       "      <td>2018-08-03</td>\n",
       "      <td>ultimate</td>\n",
       "      <td>NaN</td>\n",
       "    </tr>\n",
       "    <tr>\n",
       "      <th>9</th>\n",
       "      <td>1009</td>\n",
       "      <td>Gerry</td>\n",
       "      <td>Little</td>\n",
       "      <td>19</td>\n",
       "      <td>San Jose-Sunnyvale-Santa Clara, CA MSA</td>\n",
       "      <td>2018-04-22</td>\n",
       "      <td>surf</td>\n",
       "      <td>NaN</td>\n",
       "    </tr>\n",
       "    <tr>\n",
       "      <th>10</th>\n",
       "      <td>1010</td>\n",
       "      <td>Wilber</td>\n",
       "      <td>Blair</td>\n",
       "      <td>52</td>\n",
       "      <td>Dallas-Fort Worth-Arlington, TX MSA</td>\n",
       "      <td>2018-03-09</td>\n",
       "      <td>surf</td>\n",
       "      <td>NaN</td>\n",
       "    </tr>\n",
       "    <tr>\n",
       "      <th>11</th>\n",
       "      <td>1011</td>\n",
       "      <td>Halina</td>\n",
       "      <td>Henry</td>\n",
       "      <td>73</td>\n",
       "      <td>Cleveland-Elyria, OH MSA</td>\n",
       "      <td>2018-01-18</td>\n",
       "      <td>ultimate</td>\n",
       "      <td>NaN</td>\n",
       "    </tr>\n",
       "    <tr>\n",
       "      <th>12</th>\n",
       "      <td>1012</td>\n",
       "      <td>Jonelle</td>\n",
       "      <td>Mcbride</td>\n",
       "      <td>59</td>\n",
       "      <td>Chicago-Naperville-Elgin, IL-IN-WI MSA</td>\n",
       "      <td>2018-06-28</td>\n",
       "      <td>surf</td>\n",
       "      <td>2018-11-16</td>\n",
       "    </tr>\n",
       "    <tr>\n",
       "      <th>13</th>\n",
       "      <td>1013</td>\n",
       "      <td>Nicolas</td>\n",
       "      <td>Snider</td>\n",
       "      <td>50</td>\n",
       "      <td>Knoxville, TN MSA</td>\n",
       "      <td>2018-12-01</td>\n",
       "      <td>ultimate</td>\n",
       "      <td>NaN</td>\n",
       "    </tr>\n",
       "    <tr>\n",
       "      <th>14</th>\n",
       "      <td>1014</td>\n",
       "      <td>Edmundo</td>\n",
       "      <td>Simon</td>\n",
       "      <td>61</td>\n",
       "      <td>New York-Newark-Jersey City, NY-NJ-PA MSA</td>\n",
       "      <td>2018-11-25</td>\n",
       "      <td>surf</td>\n",
       "      <td>NaN</td>\n",
       "    </tr>\n",
       "    <tr>\n",
       "      <th>15</th>\n",
       "      <td>1015</td>\n",
       "      <td>Beata</td>\n",
       "      <td>Carpenter</td>\n",
       "      <td>26</td>\n",
       "      <td>Pittsburgh, PA MSA</td>\n",
       "      <td>2018-12-05</td>\n",
       "      <td>surf</td>\n",
       "      <td>NaN</td>\n",
       "    </tr>\n",
       "    <tr>\n",
       "      <th>16</th>\n",
       "      <td>1016</td>\n",
       "      <td>Jann</td>\n",
       "      <td>Salinas</td>\n",
       "      <td>30</td>\n",
       "      <td>Fresno, CA MSA</td>\n",
       "      <td>2018-10-25</td>\n",
       "      <td>surf</td>\n",
       "      <td>NaN</td>\n",
       "    </tr>\n",
       "    <tr>\n",
       "      <th>17</th>\n",
       "      <td>1017</td>\n",
       "      <td>Boris</td>\n",
       "      <td>Gates</td>\n",
       "      <td>61</td>\n",
       "      <td>Washington-Arlington-Alexandria, DC-VA-MD-WV MSA</td>\n",
       "      <td>2018-08-26</td>\n",
       "      <td>surf</td>\n",
       "      <td>NaN</td>\n",
       "    </tr>\n",
       "    <tr>\n",
       "      <th>18</th>\n",
       "      <td>1018</td>\n",
       "      <td>Dennis</td>\n",
       "      <td>Grimes</td>\n",
       "      <td>70</td>\n",
       "      <td>Indianapolis-Carmel-Anderson, IN MSA</td>\n",
       "      <td>2018-10-17</td>\n",
       "      <td>surf</td>\n",
       "      <td>NaN</td>\n",
       "    </tr>\n",
       "    <tr>\n",
       "      <th>19</th>\n",
       "      <td>1019</td>\n",
       "      <td>Shizue</td>\n",
       "      <td>Landry</td>\n",
       "      <td>34</td>\n",
       "      <td>Jacksonville, FL MSA</td>\n",
       "      <td>2018-01-16</td>\n",
       "      <td>surf</td>\n",
       "      <td>NaN</td>\n",
       "    </tr>\n",
       "  </tbody>\n",
       "</table>\n",
       "</div>"
      ],
      "text/plain": [
       "    user_id first_name  last_name  age  \\\n",
       "0      1000   Anamaria      Bauer   45   \n",
       "1      1001     Mickey  Wilkerson   28   \n",
       "2      1002     Carlee    Hoffman   36   \n",
       "3      1003   Reynaldo    Jenkins   52   \n",
       "4      1004    Leonila   Thompson   40   \n",
       "5      1005      Livia    Shields   31   \n",
       "6      1006     Jesusa   Bradford   73   \n",
       "7      1007    Eusebio      Welch   42   \n",
       "8      1008      Emely    Hoffman   53   \n",
       "9      1009      Gerry     Little   19   \n",
       "10     1010     Wilber      Blair   52   \n",
       "11     1011     Halina      Henry   73   \n",
       "12     1012    Jonelle    Mcbride   59   \n",
       "13     1013    Nicolas     Snider   50   \n",
       "14     1014    Edmundo      Simon   61   \n",
       "15     1015      Beata  Carpenter   26   \n",
       "16     1016       Jann    Salinas   30   \n",
       "17     1017      Boris      Gates   61   \n",
       "18     1018     Dennis     Grimes   70   \n",
       "19     1019     Shizue     Landry   34   \n",
       "\n",
       "                                                city    reg_date      plan  \\\n",
       "0              Atlanta-Sandy Springs-Roswell, GA MSA  2018-12-24  ultimate   \n",
       "1                    Seattle-Tacoma-Bellevue, WA MSA  2018-08-13      surf   \n",
       "2               Las Vegas-Henderson-Paradise, NV MSA  2018-10-21      surf   \n",
       "3                                      Tulsa, OK MSA  2018-01-28      surf   \n",
       "4                    Seattle-Tacoma-Bellevue, WA MSA  2018-05-23      surf   \n",
       "5                Dallas-Fort Worth-Arlington, TX MSA  2018-11-29      surf   \n",
       "6             San Francisco-Oakland-Berkeley, CA MSA  2018-11-27  ultimate   \n",
       "7                      Grand Rapids-Kentwood, MI MSA  2018-07-11      surf   \n",
       "8                  Orlando-Kissimmee-Sanford, FL MSA  2018-08-03  ultimate   \n",
       "9             San Jose-Sunnyvale-Santa Clara, CA MSA  2018-04-22      surf   \n",
       "10               Dallas-Fort Worth-Arlington, TX MSA  2018-03-09      surf   \n",
       "11                          Cleveland-Elyria, OH MSA  2018-01-18  ultimate   \n",
       "12            Chicago-Naperville-Elgin, IL-IN-WI MSA  2018-06-28      surf   \n",
       "13                                 Knoxville, TN MSA  2018-12-01  ultimate   \n",
       "14         New York-Newark-Jersey City, NY-NJ-PA MSA  2018-11-25      surf   \n",
       "15                                Pittsburgh, PA MSA  2018-12-05      surf   \n",
       "16                                    Fresno, CA MSA  2018-10-25      surf   \n",
       "17  Washington-Arlington-Alexandria, DC-VA-MD-WV MSA  2018-08-26      surf   \n",
       "18              Indianapolis-Carmel-Anderson, IN MSA  2018-10-17      surf   \n",
       "19                              Jacksonville, FL MSA  2018-01-16      surf   \n",
       "\n",
       "    churn_date  \n",
       "0          NaN  \n",
       "1          NaN  \n",
       "2          NaN  \n",
       "3          NaN  \n",
       "4          NaN  \n",
       "5          NaN  \n",
       "6   2018-12-18  \n",
       "7          NaN  \n",
       "8          NaN  \n",
       "9          NaN  \n",
       "10         NaN  \n",
       "11         NaN  \n",
       "12  2018-11-16  \n",
       "13         NaN  \n",
       "14         NaN  \n",
       "15         NaN  \n",
       "16         NaN  \n",
       "17         NaN  \n",
       "18         NaN  \n",
       "19         NaN  "
      ]
     },
     "metadata": {},
     "output_type": "display_data"
    }
   ],
   "source": [
    "# Print the general/summary information about the users' DataFrame\n",
    "users_df.info()\n",
    "display(users_df.head(20))"
   ]
  },
  {
   "cell_type": "code",
   "execution_count": 9,
   "metadata": {},
   "outputs": [
    {
     "data": {
      "text/html": [
       "<div>\n",
       "<style scoped>\n",
       "    .dataframe tbody tr th:only-of-type {\n",
       "        vertical-align: middle;\n",
       "    }\n",
       "\n",
       "    .dataframe tbody tr th {\n",
       "        vertical-align: top;\n",
       "    }\n",
       "\n",
       "    .dataframe thead th {\n",
       "        text-align: right;\n",
       "    }\n",
       "</style>\n",
       "<table border=\"1\" class=\"dataframe\">\n",
       "  <thead>\n",
       "    <tr style=\"text-align: right;\">\n",
       "      <th></th>\n",
       "      <th>user_id</th>\n",
       "      <th>first_name</th>\n",
       "      <th>last_name</th>\n",
       "      <th>age</th>\n",
       "      <th>city</th>\n",
       "      <th>reg_date</th>\n",
       "      <th>plan</th>\n",
       "      <th>churn_date</th>\n",
       "    </tr>\n",
       "  </thead>\n",
       "  <tbody>\n",
       "    <tr>\n",
       "      <th>375</th>\n",
       "      <td>1375</td>\n",
       "      <td>Andy</td>\n",
       "      <td>Holden</td>\n",
       "      <td>69</td>\n",
       "      <td>Philadelphia-Camden-Wilmington, PA-NJ-DE-MD MSA</td>\n",
       "      <td>2018-12-01</td>\n",
       "      <td>surf</td>\n",
       "      <td>NaN</td>\n",
       "    </tr>\n",
       "  </tbody>\n",
       "</table>\n",
       "</div>"
      ],
      "text/plain": [
       "     user_id first_name last_name  age  \\\n",
       "375     1375       Andy    Holden   69   \n",
       "\n",
       "                                                city    reg_date  plan  \\\n",
       "375  Philadelphia-Camden-Wilmington, PA-NJ-DE-MD MSA  2018-12-01  surf   \n",
       "\n",
       "    churn_date  \n",
       "375        NaN  "
      ]
     },
     "execution_count": 9,
     "metadata": {},
     "output_type": "execute_result"
    }
   ],
   "source": [
    "# Print a sample of data for users\n",
    "users_df.sample()"
   ]
  },
  {
   "cell_type": "markdown",
   "metadata": {},
   "source": [
    "[Describe what you see and notice in the general information and the printed data sample for the above price of data. Are there any issues (inappropriate data types, missing data etc) that may need further investigation and changes? How that can be fixed?]"
   ]
  },
  {
   "cell_type": "markdown",
   "metadata": {},
   "source": [
    "When examining the data, I'm noticing some things in the city column that may confusing. There are multiple hyphenated cities in the values. Looking at what I'm being ased to do, it seems as though the cities aren't important and I really only need to know/work with which state an individual is from. Based on that I'll be separating the cities into a different column and dropping that column to clean the data\n",
    "\n",
    "Beyond that, the churn column is full of NaN values. These I'd fill with \"Unknown\" as we have in previous projects. \n",
    "\n",
    "When it comes to the city issue My initial thought is to create new columns to hold additional city/state combinations that may exist in rows; This way the data looks cleaner, the strings are shorter and I won't be losing any information that might be useful in the future. "
   ]
  },
  {
   "cell_type": "markdown",
   "metadata": {},
   "source": [
    "### Fix Data"
   ]
  },
  {
   "cell_type": "markdown",
   "metadata": {},
   "source": [
    "[Fix obvious issues with the data given the initial observations.]"
   ]
  },
  {
   "cell_type": "code",
   "execution_count": 10,
   "metadata": {},
   "outputs": [
    {
     "data": {
      "text/html": [
       "<div>\n",
       "<style scoped>\n",
       "    .dataframe tbody tr th:only-of-type {\n",
       "        vertical-align: middle;\n",
       "    }\n",
       "\n",
       "    .dataframe tbody tr th {\n",
       "        vertical-align: top;\n",
       "    }\n",
       "\n",
       "    .dataframe thead th {\n",
       "        text-align: right;\n",
       "    }\n",
       "</style>\n",
       "<table border=\"1\" class=\"dataframe\">\n",
       "  <thead>\n",
       "    <tr style=\"text-align: right;\">\n",
       "      <th></th>\n",
       "      <th>user_id</th>\n",
       "      <th>first_name</th>\n",
       "      <th>last_name</th>\n",
       "      <th>age</th>\n",
       "      <th>city</th>\n",
       "      <th>reg_date</th>\n",
       "      <th>plan</th>\n",
       "      <th>churn_date</th>\n",
       "      <th>state</th>\n",
       "    </tr>\n",
       "  </thead>\n",
       "  <tbody>\n",
       "    <tr>\n",
       "      <th>0</th>\n",
       "      <td>1000</td>\n",
       "      <td>Anamaria</td>\n",
       "      <td>Bauer</td>\n",
       "      <td>45</td>\n",
       "      <td>Atlanta-Sandy Springs-Roswell</td>\n",
       "      <td>2018-12-24</td>\n",
       "      <td>ultimate</td>\n",
       "      <td>Unknown</td>\n",
       "      <td>GA MSA</td>\n",
       "    </tr>\n",
       "    <tr>\n",
       "      <th>1</th>\n",
       "      <td>1001</td>\n",
       "      <td>Mickey</td>\n",
       "      <td>Wilkerson</td>\n",
       "      <td>28</td>\n",
       "      <td>Seattle-Tacoma-Bellevue</td>\n",
       "      <td>2018-08-13</td>\n",
       "      <td>surf</td>\n",
       "      <td>Unknown</td>\n",
       "      <td>WA MSA</td>\n",
       "    </tr>\n",
       "    <tr>\n",
       "      <th>2</th>\n",
       "      <td>1002</td>\n",
       "      <td>Carlee</td>\n",
       "      <td>Hoffman</td>\n",
       "      <td>36</td>\n",
       "      <td>Las Vegas-Henderson-Paradise</td>\n",
       "      <td>2018-10-21</td>\n",
       "      <td>surf</td>\n",
       "      <td>Unknown</td>\n",
       "      <td>NV MSA</td>\n",
       "    </tr>\n",
       "    <tr>\n",
       "      <th>3</th>\n",
       "      <td>1003</td>\n",
       "      <td>Reynaldo</td>\n",
       "      <td>Jenkins</td>\n",
       "      <td>52</td>\n",
       "      <td>Tulsa</td>\n",
       "      <td>2018-01-28</td>\n",
       "      <td>surf</td>\n",
       "      <td>Unknown</td>\n",
       "      <td>OK MSA</td>\n",
       "    </tr>\n",
       "    <tr>\n",
       "      <th>4</th>\n",
       "      <td>1004</td>\n",
       "      <td>Leonila</td>\n",
       "      <td>Thompson</td>\n",
       "      <td>40</td>\n",
       "      <td>Seattle-Tacoma-Bellevue</td>\n",
       "      <td>2018-05-23</td>\n",
       "      <td>surf</td>\n",
       "      <td>Unknown</td>\n",
       "      <td>WA MSA</td>\n",
       "    </tr>\n",
       "    <tr>\n",
       "      <th>5</th>\n",
       "      <td>1005</td>\n",
       "      <td>Livia</td>\n",
       "      <td>Shields</td>\n",
       "      <td>31</td>\n",
       "      <td>Dallas-Fort Worth-Arlington</td>\n",
       "      <td>2018-11-29</td>\n",
       "      <td>surf</td>\n",
       "      <td>Unknown</td>\n",
       "      <td>TX MSA</td>\n",
       "    </tr>\n",
       "    <tr>\n",
       "      <th>6</th>\n",
       "      <td>1006</td>\n",
       "      <td>Jesusa</td>\n",
       "      <td>Bradford</td>\n",
       "      <td>73</td>\n",
       "      <td>San Francisco-Oakland-Berkeley</td>\n",
       "      <td>2018-11-27</td>\n",
       "      <td>ultimate</td>\n",
       "      <td>2018-12-18</td>\n",
       "      <td>CA MSA</td>\n",
       "    </tr>\n",
       "    <tr>\n",
       "      <th>7</th>\n",
       "      <td>1007</td>\n",
       "      <td>Eusebio</td>\n",
       "      <td>Welch</td>\n",
       "      <td>42</td>\n",
       "      <td>Grand Rapids-Kentwood</td>\n",
       "      <td>2018-07-11</td>\n",
       "      <td>surf</td>\n",
       "      <td>Unknown</td>\n",
       "      <td>MI MSA</td>\n",
       "    </tr>\n",
       "    <tr>\n",
       "      <th>8</th>\n",
       "      <td>1008</td>\n",
       "      <td>Emely</td>\n",
       "      <td>Hoffman</td>\n",
       "      <td>53</td>\n",
       "      <td>Orlando-Kissimmee-Sanford</td>\n",
       "      <td>2018-08-03</td>\n",
       "      <td>ultimate</td>\n",
       "      <td>Unknown</td>\n",
       "      <td>FL MSA</td>\n",
       "    </tr>\n",
       "    <tr>\n",
       "      <th>9</th>\n",
       "      <td>1009</td>\n",
       "      <td>Gerry</td>\n",
       "      <td>Little</td>\n",
       "      <td>19</td>\n",
       "      <td>San Jose-Sunnyvale-Santa Clara</td>\n",
       "      <td>2018-04-22</td>\n",
       "      <td>surf</td>\n",
       "      <td>Unknown</td>\n",
       "      <td>CA MSA</td>\n",
       "    </tr>\n",
       "    <tr>\n",
       "      <th>10</th>\n",
       "      <td>1010</td>\n",
       "      <td>Wilber</td>\n",
       "      <td>Blair</td>\n",
       "      <td>52</td>\n",
       "      <td>Dallas-Fort Worth-Arlington</td>\n",
       "      <td>2018-03-09</td>\n",
       "      <td>surf</td>\n",
       "      <td>Unknown</td>\n",
       "      <td>TX MSA</td>\n",
       "    </tr>\n",
       "    <tr>\n",
       "      <th>11</th>\n",
       "      <td>1011</td>\n",
       "      <td>Halina</td>\n",
       "      <td>Henry</td>\n",
       "      <td>73</td>\n",
       "      <td>Cleveland-Elyria</td>\n",
       "      <td>2018-01-18</td>\n",
       "      <td>ultimate</td>\n",
       "      <td>Unknown</td>\n",
       "      <td>OH MSA</td>\n",
       "    </tr>\n",
       "    <tr>\n",
       "      <th>12</th>\n",
       "      <td>1012</td>\n",
       "      <td>Jonelle</td>\n",
       "      <td>Mcbride</td>\n",
       "      <td>59</td>\n",
       "      <td>Chicago-Naperville-Elgin</td>\n",
       "      <td>2018-06-28</td>\n",
       "      <td>surf</td>\n",
       "      <td>2018-11-16</td>\n",
       "      <td>IL-IN-WI MSA</td>\n",
       "    </tr>\n",
       "    <tr>\n",
       "      <th>13</th>\n",
       "      <td>1013</td>\n",
       "      <td>Nicolas</td>\n",
       "      <td>Snider</td>\n",
       "      <td>50</td>\n",
       "      <td>Knoxville</td>\n",
       "      <td>2018-12-01</td>\n",
       "      <td>ultimate</td>\n",
       "      <td>Unknown</td>\n",
       "      <td>TN MSA</td>\n",
       "    </tr>\n",
       "    <tr>\n",
       "      <th>14</th>\n",
       "      <td>1014</td>\n",
       "      <td>Edmundo</td>\n",
       "      <td>Simon</td>\n",
       "      <td>61</td>\n",
       "      <td>New York-Newark-Jersey City</td>\n",
       "      <td>2018-11-25</td>\n",
       "      <td>surf</td>\n",
       "      <td>Unknown</td>\n",
       "      <td>NY-NJ-PA MSA</td>\n",
       "    </tr>\n",
       "    <tr>\n",
       "      <th>15</th>\n",
       "      <td>1015</td>\n",
       "      <td>Beata</td>\n",
       "      <td>Carpenter</td>\n",
       "      <td>26</td>\n",
       "      <td>Pittsburgh</td>\n",
       "      <td>2018-12-05</td>\n",
       "      <td>surf</td>\n",
       "      <td>Unknown</td>\n",
       "      <td>PA MSA</td>\n",
       "    </tr>\n",
       "    <tr>\n",
       "      <th>16</th>\n",
       "      <td>1016</td>\n",
       "      <td>Jann</td>\n",
       "      <td>Salinas</td>\n",
       "      <td>30</td>\n",
       "      <td>Fresno</td>\n",
       "      <td>2018-10-25</td>\n",
       "      <td>surf</td>\n",
       "      <td>Unknown</td>\n",
       "      <td>CA MSA</td>\n",
       "    </tr>\n",
       "    <tr>\n",
       "      <th>17</th>\n",
       "      <td>1017</td>\n",
       "      <td>Boris</td>\n",
       "      <td>Gates</td>\n",
       "      <td>61</td>\n",
       "      <td>Washington-Arlington-Alexandria</td>\n",
       "      <td>2018-08-26</td>\n",
       "      <td>surf</td>\n",
       "      <td>Unknown</td>\n",
       "      <td>DC-VA-MD-WV MSA</td>\n",
       "    </tr>\n",
       "    <tr>\n",
       "      <th>18</th>\n",
       "      <td>1018</td>\n",
       "      <td>Dennis</td>\n",
       "      <td>Grimes</td>\n",
       "      <td>70</td>\n",
       "      <td>Indianapolis-Carmel-Anderson</td>\n",
       "      <td>2018-10-17</td>\n",
       "      <td>surf</td>\n",
       "      <td>Unknown</td>\n",
       "      <td>IN MSA</td>\n",
       "    </tr>\n",
       "    <tr>\n",
       "      <th>19</th>\n",
       "      <td>1019</td>\n",
       "      <td>Shizue</td>\n",
       "      <td>Landry</td>\n",
       "      <td>34</td>\n",
       "      <td>Jacksonville</td>\n",
       "      <td>2018-01-16</td>\n",
       "      <td>surf</td>\n",
       "      <td>Unknown</td>\n",
       "      <td>FL MSA</td>\n",
       "    </tr>\n",
       "  </tbody>\n",
       "</table>\n",
       "</div>"
      ],
      "text/plain": [
       "    user_id first_name  last_name  age                             city  \\\n",
       "0      1000   Anamaria      Bauer   45    Atlanta-Sandy Springs-Roswell   \n",
       "1      1001     Mickey  Wilkerson   28          Seattle-Tacoma-Bellevue   \n",
       "2      1002     Carlee    Hoffman   36     Las Vegas-Henderson-Paradise   \n",
       "3      1003   Reynaldo    Jenkins   52                            Tulsa   \n",
       "4      1004    Leonila   Thompson   40          Seattle-Tacoma-Bellevue   \n",
       "5      1005      Livia    Shields   31      Dallas-Fort Worth-Arlington   \n",
       "6      1006     Jesusa   Bradford   73   San Francisco-Oakland-Berkeley   \n",
       "7      1007    Eusebio      Welch   42            Grand Rapids-Kentwood   \n",
       "8      1008      Emely    Hoffman   53        Orlando-Kissimmee-Sanford   \n",
       "9      1009      Gerry     Little   19   San Jose-Sunnyvale-Santa Clara   \n",
       "10     1010     Wilber      Blair   52      Dallas-Fort Worth-Arlington   \n",
       "11     1011     Halina      Henry   73                 Cleveland-Elyria   \n",
       "12     1012    Jonelle    Mcbride   59         Chicago-Naperville-Elgin   \n",
       "13     1013    Nicolas     Snider   50                        Knoxville   \n",
       "14     1014    Edmundo      Simon   61      New York-Newark-Jersey City   \n",
       "15     1015      Beata  Carpenter   26                       Pittsburgh   \n",
       "16     1016       Jann    Salinas   30                           Fresno   \n",
       "17     1017      Boris      Gates   61  Washington-Arlington-Alexandria   \n",
       "18     1018     Dennis     Grimes   70     Indianapolis-Carmel-Anderson   \n",
       "19     1019     Shizue     Landry   34                     Jacksonville   \n",
       "\n",
       "      reg_date      plan  churn_date             state  \n",
       "0   2018-12-24  ultimate     Unknown            GA MSA  \n",
       "1   2018-08-13      surf     Unknown            WA MSA  \n",
       "2   2018-10-21      surf     Unknown            NV MSA  \n",
       "3   2018-01-28      surf     Unknown            OK MSA  \n",
       "4   2018-05-23      surf     Unknown            WA MSA  \n",
       "5   2018-11-29      surf     Unknown            TX MSA  \n",
       "6   2018-11-27  ultimate  2018-12-18            CA MSA  \n",
       "7   2018-07-11      surf     Unknown            MI MSA  \n",
       "8   2018-08-03  ultimate     Unknown            FL MSA  \n",
       "9   2018-04-22      surf     Unknown            CA MSA  \n",
       "10  2018-03-09      surf     Unknown            TX MSA  \n",
       "11  2018-01-18  ultimate     Unknown            OH MSA  \n",
       "12  2018-06-28      surf  2018-11-16      IL-IN-WI MSA  \n",
       "13  2018-12-01  ultimate     Unknown            TN MSA  \n",
       "14  2018-11-25      surf     Unknown      NY-NJ-PA MSA  \n",
       "15  2018-12-05      surf     Unknown            PA MSA  \n",
       "16  2018-10-25      surf     Unknown            CA MSA  \n",
       "17  2018-08-26      surf     Unknown   DC-VA-MD-WV MSA  \n",
       "18  2018-10-17      surf     Unknown            IN MSA  \n",
       "19  2018-01-16      surf     Unknown            FL MSA  "
      ]
     },
     "metadata": {},
     "output_type": "display_data"
    }
   ],
   "source": [
    "#splitting the cities into two new columns\n",
    "users_df[['city','state']] = users_df['city'].str.split(',', expand=True)\n",
    "#filling missing values with \"Unknown\"\n",
    "users_df.fillna(\"Unknown\", inplace=True)\n",
    "display(users_df.head(20))\n"
   ]
  },
  {
   "cell_type": "markdown",
   "metadata": {},
   "source": [
    "### Enrich Data"
   ]
  },
  {
   "cell_type": "markdown",
   "metadata": {},
   "source": [
    "[Add additional factors to the data if you believe they might be useful.]"
   ]
  },
  {
   "cell_type": "code",
   "execution_count": null,
   "metadata": {},
   "outputs": [],
   "source": []
  },
  {
   "cell_type": "markdown",
   "metadata": {},
   "source": [
    "## Calls"
   ]
  },
  {
   "cell_type": "code",
   "execution_count": 11,
   "metadata": {},
   "outputs": [
    {
     "name": "stdout",
     "output_type": "stream",
     "text": [
      "<class 'pandas.core.frame.DataFrame'>\n",
      "RangeIndex: 137735 entries, 0 to 137734\n",
      "Data columns (total 4 columns):\n",
      " #   Column     Non-Null Count   Dtype  \n",
      "---  ------     --------------   -----  \n",
      " 0   id         137735 non-null  object \n",
      " 1   user_id    137735 non-null  int64  \n",
      " 2   call_date  137735 non-null  object \n",
      " 3   duration   137735 non-null  float64\n",
      "dtypes: float64(1), int64(1), object(2)\n",
      "memory usage: 4.2+ MB\n"
     ]
    },
    {
     "data": {
      "text/html": [
       "<div>\n",
       "<style scoped>\n",
       "    .dataframe tbody tr th:only-of-type {\n",
       "        vertical-align: middle;\n",
       "    }\n",
       "\n",
       "    .dataframe tbody tr th {\n",
       "        vertical-align: top;\n",
       "    }\n",
       "\n",
       "    .dataframe thead th {\n",
       "        text-align: right;\n",
       "    }\n",
       "</style>\n",
       "<table border=\"1\" class=\"dataframe\">\n",
       "  <thead>\n",
       "    <tr style=\"text-align: right;\">\n",
       "      <th></th>\n",
       "      <th>id</th>\n",
       "      <th>user_id</th>\n",
       "      <th>call_date</th>\n",
       "      <th>duration</th>\n",
       "    </tr>\n",
       "  </thead>\n",
       "  <tbody>\n",
       "    <tr>\n",
       "      <th>0</th>\n",
       "      <td>1000_93</td>\n",
       "      <td>1000</td>\n",
       "      <td>2018-12-27</td>\n",
       "      <td>8.52</td>\n",
       "    </tr>\n",
       "    <tr>\n",
       "      <th>1</th>\n",
       "      <td>1000_145</td>\n",
       "      <td>1000</td>\n",
       "      <td>2018-12-27</td>\n",
       "      <td>13.66</td>\n",
       "    </tr>\n",
       "    <tr>\n",
       "      <th>2</th>\n",
       "      <td>1000_247</td>\n",
       "      <td>1000</td>\n",
       "      <td>2018-12-27</td>\n",
       "      <td>14.48</td>\n",
       "    </tr>\n",
       "    <tr>\n",
       "      <th>3</th>\n",
       "      <td>1000_309</td>\n",
       "      <td>1000</td>\n",
       "      <td>2018-12-28</td>\n",
       "      <td>5.76</td>\n",
       "    </tr>\n",
       "    <tr>\n",
       "      <th>4</th>\n",
       "      <td>1000_380</td>\n",
       "      <td>1000</td>\n",
       "      <td>2018-12-30</td>\n",
       "      <td>4.22</td>\n",
       "    </tr>\n",
       "    <tr>\n",
       "      <th>5</th>\n",
       "      <td>1000_388</td>\n",
       "      <td>1000</td>\n",
       "      <td>2018-12-31</td>\n",
       "      <td>2.20</td>\n",
       "    </tr>\n",
       "    <tr>\n",
       "      <th>6</th>\n",
       "      <td>1000_510</td>\n",
       "      <td>1000</td>\n",
       "      <td>2018-12-27</td>\n",
       "      <td>5.75</td>\n",
       "    </tr>\n",
       "    <tr>\n",
       "      <th>7</th>\n",
       "      <td>1000_521</td>\n",
       "      <td>1000</td>\n",
       "      <td>2018-12-28</td>\n",
       "      <td>14.18</td>\n",
       "    </tr>\n",
       "    <tr>\n",
       "      <th>8</th>\n",
       "      <td>1000_530</td>\n",
       "      <td>1000</td>\n",
       "      <td>2018-12-28</td>\n",
       "      <td>5.77</td>\n",
       "    </tr>\n",
       "    <tr>\n",
       "      <th>9</th>\n",
       "      <td>1000_544</td>\n",
       "      <td>1000</td>\n",
       "      <td>2018-12-26</td>\n",
       "      <td>4.40</td>\n",
       "    </tr>\n",
       "    <tr>\n",
       "      <th>10</th>\n",
       "      <td>1000_693</td>\n",
       "      <td>1000</td>\n",
       "      <td>2018-12-31</td>\n",
       "      <td>4.31</td>\n",
       "    </tr>\n",
       "    <tr>\n",
       "      <th>11</th>\n",
       "      <td>1000_705</td>\n",
       "      <td>1000</td>\n",
       "      <td>2018-12-31</td>\n",
       "      <td>12.78</td>\n",
       "    </tr>\n",
       "    <tr>\n",
       "      <th>12</th>\n",
       "      <td>1000_735</td>\n",
       "      <td>1000</td>\n",
       "      <td>2018-12-29</td>\n",
       "      <td>1.70</td>\n",
       "    </tr>\n",
       "    <tr>\n",
       "      <th>13</th>\n",
       "      <td>1000_778</td>\n",
       "      <td>1000</td>\n",
       "      <td>2018-12-28</td>\n",
       "      <td>3.29</td>\n",
       "    </tr>\n",
       "    <tr>\n",
       "      <th>14</th>\n",
       "      <td>1000_826</td>\n",
       "      <td>1000</td>\n",
       "      <td>2018-12-26</td>\n",
       "      <td>9.96</td>\n",
       "    </tr>\n",
       "    <tr>\n",
       "      <th>15</th>\n",
       "      <td>1000_842</td>\n",
       "      <td>1000</td>\n",
       "      <td>2018-12-27</td>\n",
       "      <td>5.85</td>\n",
       "    </tr>\n",
       "    <tr>\n",
       "      <th>16</th>\n",
       "      <td>1001_0</td>\n",
       "      <td>1001</td>\n",
       "      <td>2018-09-06</td>\n",
       "      <td>10.06</td>\n",
       "    </tr>\n",
       "    <tr>\n",
       "      <th>17</th>\n",
       "      <td>1001_1</td>\n",
       "      <td>1001</td>\n",
       "      <td>2018-10-12</td>\n",
       "      <td>1.00</td>\n",
       "    </tr>\n",
       "    <tr>\n",
       "      <th>18</th>\n",
       "      <td>1001_2</td>\n",
       "      <td>1001</td>\n",
       "      <td>2018-10-17</td>\n",
       "      <td>15.83</td>\n",
       "    </tr>\n",
       "    <tr>\n",
       "      <th>19</th>\n",
       "      <td>1001_4</td>\n",
       "      <td>1001</td>\n",
       "      <td>2018-12-05</td>\n",
       "      <td>0.00</td>\n",
       "    </tr>\n",
       "  </tbody>\n",
       "</table>\n",
       "</div>"
      ],
      "text/plain": [
       "          id  user_id   call_date  duration\n",
       "0    1000_93     1000  2018-12-27      8.52\n",
       "1   1000_145     1000  2018-12-27     13.66\n",
       "2   1000_247     1000  2018-12-27     14.48\n",
       "3   1000_309     1000  2018-12-28      5.76\n",
       "4   1000_380     1000  2018-12-30      4.22\n",
       "5   1000_388     1000  2018-12-31      2.20\n",
       "6   1000_510     1000  2018-12-27      5.75\n",
       "7   1000_521     1000  2018-12-28     14.18\n",
       "8   1000_530     1000  2018-12-28      5.77\n",
       "9   1000_544     1000  2018-12-26      4.40\n",
       "10  1000_693     1000  2018-12-31      4.31\n",
       "11  1000_705     1000  2018-12-31     12.78\n",
       "12  1000_735     1000  2018-12-29      1.70\n",
       "13  1000_778     1000  2018-12-28      3.29\n",
       "14  1000_826     1000  2018-12-26      9.96\n",
       "15  1000_842     1000  2018-12-27      5.85\n",
       "16    1001_0     1001  2018-09-06     10.06\n",
       "17    1001_1     1001  2018-10-12      1.00\n",
       "18    1001_2     1001  2018-10-17     15.83\n",
       "19    1001_4     1001  2018-12-05      0.00"
      ]
     },
     "metadata": {},
     "output_type": "display_data"
    }
   ],
   "source": [
    "# Print the general/summary information about the calls' DataFrame\n",
    "calls_df.info()\n",
    "display(calls_df.head(20))\n"
   ]
  },
  {
   "cell_type": "code",
   "execution_count": 12,
   "metadata": {},
   "outputs": [
    {
     "data": {
      "text/html": [
       "<div>\n",
       "<style scoped>\n",
       "    .dataframe tbody tr th:only-of-type {\n",
       "        vertical-align: middle;\n",
       "    }\n",
       "\n",
       "    .dataframe tbody tr th {\n",
       "        vertical-align: top;\n",
       "    }\n",
       "\n",
       "    .dataframe thead th {\n",
       "        text-align: right;\n",
       "    }\n",
       "</style>\n",
       "<table border=\"1\" class=\"dataframe\">\n",
       "  <thead>\n",
       "    <tr style=\"text-align: right;\">\n",
       "      <th></th>\n",
       "      <th>id</th>\n",
       "      <th>user_id</th>\n",
       "      <th>call_date</th>\n",
       "      <th>duration</th>\n",
       "    </tr>\n",
       "  </thead>\n",
       "  <tbody>\n",
       "    <tr>\n",
       "      <th>7138</th>\n",
       "      <td>1033_154</td>\n",
       "      <td>1033</td>\n",
       "      <td>2018-12-12</td>\n",
       "      <td>8.68</td>\n",
       "    </tr>\n",
       "  </tbody>\n",
       "</table>\n",
       "</div>"
      ],
      "text/plain": [
       "            id  user_id   call_date  duration\n",
       "7138  1033_154     1033  2018-12-12      8.68"
      ]
     },
     "execution_count": 12,
     "metadata": {},
     "output_type": "execute_result"
    }
   ],
   "source": [
    "# Print a sample of data for calls\n",
    "\n",
    "calls_df.sample()"
   ]
  },
  {
   "cell_type": "markdown",
   "metadata": {},
   "source": [
    "Possible issues: \n",
    "- the values in the id column are being represented by strings when it should instead be ints much like the user_id_column\n",
    "- call values are represented as floats when they should be rounded up and shown as ints\n",
    "- For the sake of clarity, the \"id\" column probably shouldn't also include the user id and an underscore\n",
    "- \"id\" title should likely be changed to \"call_id\"\n"
   ]
  },
  {
   "cell_type": "markdown",
   "metadata": {},
   "source": [
    " "
   ]
  },
  {
   "cell_type": "markdown",
   "metadata": {},
   "source": [
    "### Fix data"
   ]
  },
  {
   "cell_type": "markdown",
   "metadata": {},
   "source": [
    "[Fix obvious issues with the data given the initial observations.]"
   ]
  },
  {
   "cell_type": "code",
   "execution_count": 13,
   "metadata": {},
   "outputs": [
    {
     "data": {
      "text/html": [
       "<div>\n",
       "<style scoped>\n",
       "    .dataframe tbody tr th:only-of-type {\n",
       "        vertical-align: middle;\n",
       "    }\n",
       "\n",
       "    .dataframe tbody tr th {\n",
       "        vertical-align: top;\n",
       "    }\n",
       "\n",
       "    .dataframe thead th {\n",
       "        text-align: right;\n",
       "    }\n",
       "</style>\n",
       "<table border=\"1\" class=\"dataframe\">\n",
       "  <thead>\n",
       "    <tr style=\"text-align: right;\">\n",
       "      <th></th>\n",
       "      <th>call_id</th>\n",
       "      <th>user_id</th>\n",
       "      <th>call_date</th>\n",
       "      <th>duration</th>\n",
       "    </tr>\n",
       "  </thead>\n",
       "  <tbody>\n",
       "    <tr>\n",
       "      <th>0</th>\n",
       "      <td>1000_93</td>\n",
       "      <td>1000</td>\n",
       "      <td>2018-12-27</td>\n",
       "      <td>9</td>\n",
       "    </tr>\n",
       "    <tr>\n",
       "      <th>1</th>\n",
       "      <td>1000_145</td>\n",
       "      <td>1000</td>\n",
       "      <td>2018-12-27</td>\n",
       "      <td>14</td>\n",
       "    </tr>\n",
       "    <tr>\n",
       "      <th>2</th>\n",
       "      <td>1000_247</td>\n",
       "      <td>1000</td>\n",
       "      <td>2018-12-27</td>\n",
       "      <td>15</td>\n",
       "    </tr>\n",
       "    <tr>\n",
       "      <th>3</th>\n",
       "      <td>1000_309</td>\n",
       "      <td>1000</td>\n",
       "      <td>2018-12-28</td>\n",
       "      <td>6</td>\n",
       "    </tr>\n",
       "    <tr>\n",
       "      <th>4</th>\n",
       "      <td>1000_380</td>\n",
       "      <td>1000</td>\n",
       "      <td>2018-12-30</td>\n",
       "      <td>5</td>\n",
       "    </tr>\n",
       "    <tr>\n",
       "      <th>5</th>\n",
       "      <td>1000_388</td>\n",
       "      <td>1000</td>\n",
       "      <td>2018-12-31</td>\n",
       "      <td>3</td>\n",
       "    </tr>\n",
       "    <tr>\n",
       "      <th>6</th>\n",
       "      <td>1000_510</td>\n",
       "      <td>1000</td>\n",
       "      <td>2018-12-27</td>\n",
       "      <td>6</td>\n",
       "    </tr>\n",
       "    <tr>\n",
       "      <th>7</th>\n",
       "      <td>1000_521</td>\n",
       "      <td>1000</td>\n",
       "      <td>2018-12-28</td>\n",
       "      <td>15</td>\n",
       "    </tr>\n",
       "    <tr>\n",
       "      <th>8</th>\n",
       "      <td>1000_530</td>\n",
       "      <td>1000</td>\n",
       "      <td>2018-12-28</td>\n",
       "      <td>6</td>\n",
       "    </tr>\n",
       "    <tr>\n",
       "      <th>9</th>\n",
       "      <td>1000_544</td>\n",
       "      <td>1000</td>\n",
       "      <td>2018-12-26</td>\n",
       "      <td>5</td>\n",
       "    </tr>\n",
       "    <tr>\n",
       "      <th>10</th>\n",
       "      <td>1000_693</td>\n",
       "      <td>1000</td>\n",
       "      <td>2018-12-31</td>\n",
       "      <td>5</td>\n",
       "    </tr>\n",
       "    <tr>\n",
       "      <th>11</th>\n",
       "      <td>1000_705</td>\n",
       "      <td>1000</td>\n",
       "      <td>2018-12-31</td>\n",
       "      <td>13</td>\n",
       "    </tr>\n",
       "    <tr>\n",
       "      <th>12</th>\n",
       "      <td>1000_735</td>\n",
       "      <td>1000</td>\n",
       "      <td>2018-12-29</td>\n",
       "      <td>2</td>\n",
       "    </tr>\n",
       "    <tr>\n",
       "      <th>13</th>\n",
       "      <td>1000_778</td>\n",
       "      <td>1000</td>\n",
       "      <td>2018-12-28</td>\n",
       "      <td>4</td>\n",
       "    </tr>\n",
       "    <tr>\n",
       "      <th>14</th>\n",
       "      <td>1000_826</td>\n",
       "      <td>1000</td>\n",
       "      <td>2018-12-26</td>\n",
       "      <td>10</td>\n",
       "    </tr>\n",
       "    <tr>\n",
       "      <th>15</th>\n",
       "      <td>1000_842</td>\n",
       "      <td>1000</td>\n",
       "      <td>2018-12-27</td>\n",
       "      <td>6</td>\n",
       "    </tr>\n",
       "    <tr>\n",
       "      <th>16</th>\n",
       "      <td>1001_0</td>\n",
       "      <td>1001</td>\n",
       "      <td>2018-09-06</td>\n",
       "      <td>11</td>\n",
       "    </tr>\n",
       "    <tr>\n",
       "      <th>17</th>\n",
       "      <td>1001_1</td>\n",
       "      <td>1001</td>\n",
       "      <td>2018-10-12</td>\n",
       "      <td>1</td>\n",
       "    </tr>\n",
       "    <tr>\n",
       "      <th>18</th>\n",
       "      <td>1001_2</td>\n",
       "      <td>1001</td>\n",
       "      <td>2018-10-17</td>\n",
       "      <td>16</td>\n",
       "    </tr>\n",
       "    <tr>\n",
       "      <th>19</th>\n",
       "      <td>1001_4</td>\n",
       "      <td>1001</td>\n",
       "      <td>2018-12-05</td>\n",
       "      <td>0</td>\n",
       "    </tr>\n",
       "  </tbody>\n",
       "</table>\n",
       "</div>"
      ],
      "text/plain": [
       "     call_id  user_id   call_date  duration\n",
       "0    1000_93     1000  2018-12-27         9\n",
       "1   1000_145     1000  2018-12-27        14\n",
       "2   1000_247     1000  2018-12-27        15\n",
       "3   1000_309     1000  2018-12-28         6\n",
       "4   1000_380     1000  2018-12-30         5\n",
       "5   1000_388     1000  2018-12-31         3\n",
       "6   1000_510     1000  2018-12-27         6\n",
       "7   1000_521     1000  2018-12-28        15\n",
       "8   1000_530     1000  2018-12-28         6\n",
       "9   1000_544     1000  2018-12-26         5\n",
       "10  1000_693     1000  2018-12-31         5\n",
       "11  1000_705     1000  2018-12-31        13\n",
       "12  1000_735     1000  2018-12-29         2\n",
       "13  1000_778     1000  2018-12-28         4\n",
       "14  1000_826     1000  2018-12-26        10\n",
       "15  1000_842     1000  2018-12-27         6\n",
       "16    1001_0     1001  2018-09-06        11\n",
       "17    1001_1     1001  2018-10-12         1\n",
       "18    1001_2     1001  2018-10-17        16\n",
       "19    1001_4     1001  2018-12-05         0"
      ]
     },
     "metadata": {},
     "output_type": "display_data"
    }
   ],
   "source": [
    "#renaming the \"id\" column to \"call_id\"\n",
    "calls_df.rename(columns={'id': 'call_id'}, inplace=True)\n",
    "#rounding up call duration and changing them from floats to ints\n",
    "calls_df['duration'] = np.ceil(calls_df['duration']).astype(int)\n",
    "display(calls_df.head(20))"
   ]
  },
  {
   "cell_type": "markdown",
   "metadata": {},
   "source": [
    "<div class=\"alert alert-block alert-success\">\n",
    "<b>Reviewer's comment v1</b>\n",
    " \n",
    "Good that you did not forget about data rounding. Also, great choice of np.ceil () function :)\n"
   ]
  },
  {
   "cell_type": "markdown",
   "metadata": {},
   "source": [
    "### Enrich data"
   ]
  },
  {
   "cell_type": "markdown",
   "metadata": {},
   "source": [
    "[Add additional factors to the data if you believe they might be useful.]"
   ]
  },
  {
   "cell_type": "code",
   "execution_count": 14,
   "metadata": {},
   "outputs": [
    {
     "data": {
      "text/html": [
       "<div>\n",
       "<style scoped>\n",
       "    .dataframe tbody tr th:only-of-type {\n",
       "        vertical-align: middle;\n",
       "    }\n",
       "\n",
       "    .dataframe tbody tr th {\n",
       "        vertical-align: top;\n",
       "    }\n",
       "\n",
       "    .dataframe thead th {\n",
       "        text-align: right;\n",
       "    }\n",
       "</style>\n",
       "<table border=\"1\" class=\"dataframe\">\n",
       "  <thead>\n",
       "    <tr style=\"text-align: right;\">\n",
       "      <th></th>\n",
       "      <th>call_id</th>\n",
       "      <th>user_id</th>\n",
       "      <th>call_date</th>\n",
       "      <th>duration</th>\n",
       "    </tr>\n",
       "  </thead>\n",
       "  <tbody>\n",
       "    <tr>\n",
       "      <th>134678</th>\n",
       "      <td>6</td>\n",
       "      <td>1489</td>\n",
       "      <td>2018-10-23</td>\n",
       "      <td>6</td>\n",
       "    </tr>\n",
       "  </tbody>\n",
       "</table>\n",
       "</div>"
      ],
      "text/plain": [
       "       call_id  user_id   call_date  duration\n",
       "134678       6     1489  2018-10-23         6"
      ]
     },
     "execution_count": 14,
     "metadata": {},
     "output_type": "execute_result"
    }
   ],
   "source": [
    "calls_df['call_id'] = calls_df['call_id'].apply(lambda x: x.split('_')[-1] if '_' in x else x)\n",
    "calls_df['call_id'].astype(int)\n",
    "calls_df.sample()"
   ]
  },
  {
   "cell_type": "markdown",
   "metadata": {},
   "source": [
    "## Messages"
   ]
  },
  {
   "cell_type": "code",
   "execution_count": 15,
   "metadata": {},
   "outputs": [
    {
     "name": "stdout",
     "output_type": "stream",
     "text": [
      "<class 'pandas.core.frame.DataFrame'>\n",
      "RangeIndex: 76051 entries, 0 to 76050\n",
      "Data columns (total 3 columns):\n",
      " #   Column        Non-Null Count  Dtype \n",
      "---  ------        --------------  ----- \n",
      " 0   id            76051 non-null  object\n",
      " 1   user_id       76051 non-null  int64 \n",
      " 2   message_date  76051 non-null  object\n",
      "dtypes: int64(1), object(2)\n",
      "memory usage: 1.7+ MB\n"
     ]
    },
    {
     "data": {
      "text/html": [
       "<div>\n",
       "<style scoped>\n",
       "    .dataframe tbody tr th:only-of-type {\n",
       "        vertical-align: middle;\n",
       "    }\n",
       "\n",
       "    .dataframe tbody tr th {\n",
       "        vertical-align: top;\n",
       "    }\n",
       "\n",
       "    .dataframe thead th {\n",
       "        text-align: right;\n",
       "    }\n",
       "</style>\n",
       "<table border=\"1\" class=\"dataframe\">\n",
       "  <thead>\n",
       "    <tr style=\"text-align: right;\">\n",
       "      <th></th>\n",
       "      <th>id</th>\n",
       "      <th>user_id</th>\n",
       "      <th>message_date</th>\n",
       "    </tr>\n",
       "  </thead>\n",
       "  <tbody>\n",
       "    <tr>\n",
       "      <th>0</th>\n",
       "      <td>1000_125</td>\n",
       "      <td>1000</td>\n",
       "      <td>2018-12-27</td>\n",
       "    </tr>\n",
       "    <tr>\n",
       "      <th>1</th>\n",
       "      <td>1000_160</td>\n",
       "      <td>1000</td>\n",
       "      <td>2018-12-31</td>\n",
       "    </tr>\n",
       "    <tr>\n",
       "      <th>2</th>\n",
       "      <td>1000_223</td>\n",
       "      <td>1000</td>\n",
       "      <td>2018-12-31</td>\n",
       "    </tr>\n",
       "    <tr>\n",
       "      <th>3</th>\n",
       "      <td>1000_251</td>\n",
       "      <td>1000</td>\n",
       "      <td>2018-12-27</td>\n",
       "    </tr>\n",
       "    <tr>\n",
       "      <th>4</th>\n",
       "      <td>1000_255</td>\n",
       "      <td>1000</td>\n",
       "      <td>2018-12-26</td>\n",
       "    </tr>\n",
       "    <tr>\n",
       "      <th>5</th>\n",
       "      <td>1000_346</td>\n",
       "      <td>1000</td>\n",
       "      <td>2018-12-29</td>\n",
       "    </tr>\n",
       "    <tr>\n",
       "      <th>6</th>\n",
       "      <td>1000_386</td>\n",
       "      <td>1000</td>\n",
       "      <td>2018-12-30</td>\n",
       "    </tr>\n",
       "    <tr>\n",
       "      <th>7</th>\n",
       "      <td>1000_413</td>\n",
       "      <td>1000</td>\n",
       "      <td>2018-12-31</td>\n",
       "    </tr>\n",
       "    <tr>\n",
       "      <th>8</th>\n",
       "      <td>1000_502</td>\n",
       "      <td>1000</td>\n",
       "      <td>2018-12-27</td>\n",
       "    </tr>\n",
       "    <tr>\n",
       "      <th>9</th>\n",
       "      <td>1000_525</td>\n",
       "      <td>1000</td>\n",
       "      <td>2018-12-28</td>\n",
       "    </tr>\n",
       "    <tr>\n",
       "      <th>10</th>\n",
       "      <td>1000_567</td>\n",
       "      <td>1000</td>\n",
       "      <td>2018-12-25</td>\n",
       "    </tr>\n",
       "    <tr>\n",
       "      <th>11</th>\n",
       "      <td>1001_1</td>\n",
       "      <td>1001</td>\n",
       "      <td>2018-11-14</td>\n",
       "    </tr>\n",
       "    <tr>\n",
       "      <th>12</th>\n",
       "      <td>1001_2</td>\n",
       "      <td>1001</td>\n",
       "      <td>2018-08-17</td>\n",
       "    </tr>\n",
       "    <tr>\n",
       "      <th>13</th>\n",
       "      <td>1001_5</td>\n",
       "      <td>1001</td>\n",
       "      <td>2018-12-05</td>\n",
       "    </tr>\n",
       "    <tr>\n",
       "      <th>14</th>\n",
       "      <td>1001_7</td>\n",
       "      <td>1001</td>\n",
       "      <td>2018-11-28</td>\n",
       "    </tr>\n",
       "    <tr>\n",
       "      <th>15</th>\n",
       "      <td>1001_9</td>\n",
       "      <td>1001</td>\n",
       "      <td>2018-10-23</td>\n",
       "    </tr>\n",
       "    <tr>\n",
       "      <th>16</th>\n",
       "      <td>1001_10</td>\n",
       "      <td>1001</td>\n",
       "      <td>2018-09-01</td>\n",
       "    </tr>\n",
       "    <tr>\n",
       "      <th>17</th>\n",
       "      <td>1001_11</td>\n",
       "      <td>1001</td>\n",
       "      <td>2018-11-18</td>\n",
       "    </tr>\n",
       "    <tr>\n",
       "      <th>18</th>\n",
       "      <td>1001_17</td>\n",
       "      <td>1001</td>\n",
       "      <td>2018-12-11</td>\n",
       "    </tr>\n",
       "    <tr>\n",
       "      <th>19</th>\n",
       "      <td>1001_18</td>\n",
       "      <td>1001</td>\n",
       "      <td>2018-10-01</td>\n",
       "    </tr>\n",
       "  </tbody>\n",
       "</table>\n",
       "</div>"
      ],
      "text/plain": [
       "          id  user_id message_date\n",
       "0   1000_125     1000   2018-12-27\n",
       "1   1000_160     1000   2018-12-31\n",
       "2   1000_223     1000   2018-12-31\n",
       "3   1000_251     1000   2018-12-27\n",
       "4   1000_255     1000   2018-12-26\n",
       "5   1000_346     1000   2018-12-29\n",
       "6   1000_386     1000   2018-12-30\n",
       "7   1000_413     1000   2018-12-31\n",
       "8   1000_502     1000   2018-12-27\n",
       "9   1000_525     1000   2018-12-28\n",
       "10  1000_567     1000   2018-12-25\n",
       "11    1001_1     1001   2018-11-14\n",
       "12    1001_2     1001   2018-08-17\n",
       "13    1001_5     1001   2018-12-05\n",
       "14    1001_7     1001   2018-11-28\n",
       "15    1001_9     1001   2018-10-23\n",
       "16   1001_10     1001   2018-09-01\n",
       "17   1001_11     1001   2018-11-18\n",
       "18   1001_17     1001   2018-12-11\n",
       "19   1001_18     1001   2018-10-01"
      ]
     },
     "metadata": {},
     "output_type": "display_data"
    }
   ],
   "source": [
    "# Print the general/summary information about the messages' DataFrame\n",
    "\n",
    "messages_df.info()\n",
    "display(messages_df.head(20))"
   ]
  },
  {
   "cell_type": "code",
   "execution_count": 16,
   "metadata": {},
   "outputs": [
    {
     "data": {
      "text/html": [
       "<div>\n",
       "<style scoped>\n",
       "    .dataframe tbody tr th:only-of-type {\n",
       "        vertical-align: middle;\n",
       "    }\n",
       "\n",
       "    .dataframe tbody tr th {\n",
       "        vertical-align: top;\n",
       "    }\n",
       "\n",
       "    .dataframe thead th {\n",
       "        text-align: right;\n",
       "    }\n",
       "</style>\n",
       "<table border=\"1\" class=\"dataframe\">\n",
       "  <thead>\n",
       "    <tr style=\"text-align: right;\">\n",
       "      <th></th>\n",
       "      <th>id</th>\n",
       "      <th>user_id</th>\n",
       "      <th>message_date</th>\n",
       "    </tr>\n",
       "  </thead>\n",
       "  <tbody>\n",
       "    <tr>\n",
       "      <th>7321</th>\n",
       "      <td>1059_194</td>\n",
       "      <td>1059</td>\n",
       "      <td>2018-11-28</td>\n",
       "    </tr>\n",
       "  </tbody>\n",
       "</table>\n",
       "</div>"
      ],
      "text/plain": [
       "            id  user_id message_date\n",
       "7321  1059_194     1059   2018-11-28"
      ]
     },
     "execution_count": 16,
     "metadata": {},
     "output_type": "execute_result"
    }
   ],
   "source": [
    "# Print a sample of data for messages\n",
    "messages_df.sample()"
   ]
  },
  {
   "cell_type": "markdown",
   "metadata": {},
   "source": [
    "[Describe what you see and notice in the general information and the printed data sample for the above price of data. Are there any issues (inappropriate data types, missing data etc) that may need further investigation and changes? How that can be fixed?]"
   ]
  },
  {
   "cell_type": "markdown",
   "metadata": {},
   "source": [
    "Possible issues: \n",
    "- Much like with the calls dataframe I feel as though I'd want to change the \"id\" column values to ints as well as renaming the title of the column from \"id\" to \"message_id\"\n"
   ]
  },
  {
   "cell_type": "markdown",
   "metadata": {},
   "source": [
    " "
   ]
  },
  {
   "cell_type": "markdown",
   "metadata": {},
   "source": [
    "### Fix data"
   ]
  },
  {
   "cell_type": "markdown",
   "metadata": {},
   "source": [
    "[Fix obvious issues with the data given the initial observations.]"
   ]
  },
  {
   "cell_type": "code",
   "execution_count": 17,
   "metadata": {},
   "outputs": [
    {
     "data": {
      "text/html": [
       "<div>\n",
       "<style scoped>\n",
       "    .dataframe tbody tr th:only-of-type {\n",
       "        vertical-align: middle;\n",
       "    }\n",
       "\n",
       "    .dataframe tbody tr th {\n",
       "        vertical-align: top;\n",
       "    }\n",
       "\n",
       "    .dataframe thead th {\n",
       "        text-align: right;\n",
       "    }\n",
       "</style>\n",
       "<table border=\"1\" class=\"dataframe\">\n",
       "  <thead>\n",
       "    <tr style=\"text-align: right;\">\n",
       "      <th></th>\n",
       "      <th>message_id</th>\n",
       "      <th>user_id</th>\n",
       "      <th>message_date</th>\n",
       "    </tr>\n",
       "  </thead>\n",
       "  <tbody>\n",
       "    <tr>\n",
       "      <th>33694</th>\n",
       "      <td>116</td>\n",
       "      <td>1212</td>\n",
       "      <td>2018-11-20</td>\n",
       "    </tr>\n",
       "  </tbody>\n",
       "</table>\n",
       "</div>"
      ],
      "text/plain": [
       "      message_id  user_id message_date\n",
       "33694        116     1212   2018-11-20"
      ]
     },
     "execution_count": 17,
     "metadata": {},
     "output_type": "execute_result"
    }
   ],
   "source": [
    "messages_df.rename(columns={'id': 'message_id'}, inplace=True)\n",
    "messages_df['message_id'] = messages_df['message_id'].apply(lambda x: x.split('_')[-1] if '_' in x else x)\n",
    "messages_df['message_id'].astype(int)\n",
    "messages_df.sample()"
   ]
  },
  {
   "cell_type": "markdown",
   "metadata": {},
   "source": [
    "### Enrich data"
   ]
  },
  {
   "cell_type": "markdown",
   "metadata": {},
   "source": [
    "[Add additional factors to the data if you believe they might be useful.]"
   ]
  },
  {
   "cell_type": "code",
   "execution_count": null,
   "metadata": {},
   "outputs": [],
   "source": []
  },
  {
   "cell_type": "markdown",
   "metadata": {},
   "source": [
    "## Internet"
   ]
  },
  {
   "cell_type": "code",
   "execution_count": 18,
   "metadata": {},
   "outputs": [
    {
     "name": "stdout",
     "output_type": "stream",
     "text": [
      "<class 'pandas.core.frame.DataFrame'>\n",
      "RangeIndex: 104825 entries, 0 to 104824\n",
      "Data columns (total 4 columns):\n",
      " #   Column        Non-Null Count   Dtype  \n",
      "---  ------        --------------   -----  \n",
      " 0   id            104825 non-null  object \n",
      " 1   user_id       104825 non-null  int64  \n",
      " 2   session_date  104825 non-null  object \n",
      " 3   mb_used       104825 non-null  float64\n",
      "dtypes: float64(1), int64(1), object(2)\n",
      "memory usage: 3.2+ MB\n"
     ]
    },
    {
     "data": {
      "text/html": [
       "<div>\n",
       "<style scoped>\n",
       "    .dataframe tbody tr th:only-of-type {\n",
       "        vertical-align: middle;\n",
       "    }\n",
       "\n",
       "    .dataframe tbody tr th {\n",
       "        vertical-align: top;\n",
       "    }\n",
       "\n",
       "    .dataframe thead th {\n",
       "        text-align: right;\n",
       "    }\n",
       "</style>\n",
       "<table border=\"1\" class=\"dataframe\">\n",
       "  <thead>\n",
       "    <tr style=\"text-align: right;\">\n",
       "      <th></th>\n",
       "      <th>id</th>\n",
       "      <th>user_id</th>\n",
       "      <th>session_date</th>\n",
       "      <th>mb_used</th>\n",
       "    </tr>\n",
       "  </thead>\n",
       "  <tbody>\n",
       "    <tr>\n",
       "      <th>0</th>\n",
       "      <td>1000_13</td>\n",
       "      <td>1000</td>\n",
       "      <td>2018-12-29</td>\n",
       "      <td>89.86</td>\n",
       "    </tr>\n",
       "    <tr>\n",
       "      <th>1</th>\n",
       "      <td>1000_204</td>\n",
       "      <td>1000</td>\n",
       "      <td>2018-12-31</td>\n",
       "      <td>0.00</td>\n",
       "    </tr>\n",
       "    <tr>\n",
       "      <th>2</th>\n",
       "      <td>1000_379</td>\n",
       "      <td>1000</td>\n",
       "      <td>2018-12-28</td>\n",
       "      <td>660.40</td>\n",
       "    </tr>\n",
       "    <tr>\n",
       "      <th>3</th>\n",
       "      <td>1000_413</td>\n",
       "      <td>1000</td>\n",
       "      <td>2018-12-26</td>\n",
       "      <td>270.99</td>\n",
       "    </tr>\n",
       "    <tr>\n",
       "      <th>4</th>\n",
       "      <td>1000_442</td>\n",
       "      <td>1000</td>\n",
       "      <td>2018-12-27</td>\n",
       "      <td>880.22</td>\n",
       "    </tr>\n",
       "    <tr>\n",
       "      <th>5</th>\n",
       "      <td>1001_0</td>\n",
       "      <td>1001</td>\n",
       "      <td>2018-08-24</td>\n",
       "      <td>284.68</td>\n",
       "    </tr>\n",
       "    <tr>\n",
       "      <th>6</th>\n",
       "      <td>1001_3</td>\n",
       "      <td>1001</td>\n",
       "      <td>2018-12-09</td>\n",
       "      <td>656.04</td>\n",
       "    </tr>\n",
       "    <tr>\n",
       "      <th>7</th>\n",
       "      <td>1001_4</td>\n",
       "      <td>1001</td>\n",
       "      <td>2018-11-04</td>\n",
       "      <td>16.97</td>\n",
       "    </tr>\n",
       "    <tr>\n",
       "      <th>8</th>\n",
       "      <td>1001_10</td>\n",
       "      <td>1001</td>\n",
       "      <td>2018-11-27</td>\n",
       "      <td>135.18</td>\n",
       "    </tr>\n",
       "    <tr>\n",
       "      <th>9</th>\n",
       "      <td>1001_15</td>\n",
       "      <td>1001</td>\n",
       "      <td>2018-12-13</td>\n",
       "      <td>761.92</td>\n",
       "    </tr>\n",
       "    <tr>\n",
       "      <th>10</th>\n",
       "      <td>1001_16</td>\n",
       "      <td>1001</td>\n",
       "      <td>2018-10-28</td>\n",
       "      <td>501.53</td>\n",
       "    </tr>\n",
       "    <tr>\n",
       "      <th>11</th>\n",
       "      <td>1001_17</td>\n",
       "      <td>1001</td>\n",
       "      <td>2018-09-05</td>\n",
       "      <td>727.29</td>\n",
       "    </tr>\n",
       "    <tr>\n",
       "      <th>12</th>\n",
       "      <td>1001_24</td>\n",
       "      <td>1001</td>\n",
       "      <td>2018-09-05</td>\n",
       "      <td>622.03</td>\n",
       "    </tr>\n",
       "    <tr>\n",
       "      <th>13</th>\n",
       "      <td>1001_25</td>\n",
       "      <td>1001</td>\n",
       "      <td>2018-10-14</td>\n",
       "      <td>310.43</td>\n",
       "    </tr>\n",
       "    <tr>\n",
       "      <th>14</th>\n",
       "      <td>1001_26</td>\n",
       "      <td>1001</td>\n",
       "      <td>2018-09-17</td>\n",
       "      <td>0.00</td>\n",
       "    </tr>\n",
       "    <tr>\n",
       "      <th>15</th>\n",
       "      <td>1001_27</td>\n",
       "      <td>1001</td>\n",
       "      <td>2018-12-13</td>\n",
       "      <td>149.17</td>\n",
       "    </tr>\n",
       "    <tr>\n",
       "      <th>16</th>\n",
       "      <td>1001_28</td>\n",
       "      <td>1001</td>\n",
       "      <td>2018-10-17</td>\n",
       "      <td>0.00</td>\n",
       "    </tr>\n",
       "    <tr>\n",
       "      <th>17</th>\n",
       "      <td>1001_29</td>\n",
       "      <td>1001</td>\n",
       "      <td>2018-10-09</td>\n",
       "      <td>1067.99</td>\n",
       "    </tr>\n",
       "    <tr>\n",
       "      <th>18</th>\n",
       "      <td>1001_30</td>\n",
       "      <td>1001</td>\n",
       "      <td>2018-12-27</td>\n",
       "      <td>157.20</td>\n",
       "    </tr>\n",
       "    <tr>\n",
       "      <th>19</th>\n",
       "      <td>1001_33</td>\n",
       "      <td>1001</td>\n",
       "      <td>2018-09-27</td>\n",
       "      <td>236.40</td>\n",
       "    </tr>\n",
       "  </tbody>\n",
       "</table>\n",
       "</div>"
      ],
      "text/plain": [
       "          id  user_id session_date  mb_used\n",
       "0    1000_13     1000   2018-12-29    89.86\n",
       "1   1000_204     1000   2018-12-31     0.00\n",
       "2   1000_379     1000   2018-12-28   660.40\n",
       "3   1000_413     1000   2018-12-26   270.99\n",
       "4   1000_442     1000   2018-12-27   880.22\n",
       "5     1001_0     1001   2018-08-24   284.68\n",
       "6     1001_3     1001   2018-12-09   656.04\n",
       "7     1001_4     1001   2018-11-04    16.97\n",
       "8    1001_10     1001   2018-11-27   135.18\n",
       "9    1001_15     1001   2018-12-13   761.92\n",
       "10   1001_16     1001   2018-10-28   501.53\n",
       "11   1001_17     1001   2018-09-05   727.29\n",
       "12   1001_24     1001   2018-09-05   622.03\n",
       "13   1001_25     1001   2018-10-14   310.43\n",
       "14   1001_26     1001   2018-09-17     0.00\n",
       "15   1001_27     1001   2018-12-13   149.17\n",
       "16   1001_28     1001   2018-10-17     0.00\n",
       "17   1001_29     1001   2018-10-09  1067.99\n",
       "18   1001_30     1001   2018-12-27   157.20\n",
       "19   1001_33     1001   2018-09-27   236.40"
      ]
     },
     "metadata": {},
     "output_type": "display_data"
    }
   ],
   "source": [
    "# Print the general/summary information about the internet DataFrame\n",
    "internet_df.info()\n",
    "display(internet_df.head(20))"
   ]
  },
  {
   "cell_type": "code",
   "execution_count": 19,
   "metadata": {},
   "outputs": [
    {
     "data": {
      "text/html": [
       "<div>\n",
       "<style scoped>\n",
       "    .dataframe tbody tr th:only-of-type {\n",
       "        vertical-align: middle;\n",
       "    }\n",
       "\n",
       "    .dataframe tbody tr th {\n",
       "        vertical-align: top;\n",
       "    }\n",
       "\n",
       "    .dataframe thead th {\n",
       "        text-align: right;\n",
       "    }\n",
       "</style>\n",
       "<table border=\"1\" class=\"dataframe\">\n",
       "  <thead>\n",
       "    <tr style=\"text-align: right;\">\n",
       "      <th></th>\n",
       "      <th>id</th>\n",
       "      <th>user_id</th>\n",
       "      <th>session_date</th>\n",
       "      <th>mb_used</th>\n",
       "    </tr>\n",
       "  </thead>\n",
       "  <tbody>\n",
       "    <tr>\n",
       "      <th>5026</th>\n",
       "      <td>1028_602</td>\n",
       "      <td>1028</td>\n",
       "      <td>2018-08-02</td>\n",
       "      <td>324.76</td>\n",
       "    </tr>\n",
       "  </tbody>\n",
       "</table>\n",
       "</div>"
      ],
      "text/plain": [
       "            id  user_id session_date  mb_used\n",
       "5026  1028_602     1028   2018-08-02   324.76"
      ]
     },
     "execution_count": 19,
     "metadata": {},
     "output_type": "execute_result"
    }
   ],
   "source": [
    "# Print a sample of data for the internet traffic\n",
    "internet_df.sample()\n"
   ]
  },
  {
   "cell_type": "markdown",
   "metadata": {},
   "source": [
    "Possible issues\n",
    "- mb_used needs rounding\n",
    "- id column name and values "
   ]
  },
  {
   "cell_type": "markdown",
   "metadata": {},
   "source": [
    " "
   ]
  },
  {
   "cell_type": "markdown",
   "metadata": {},
   "source": [
    "### Fix data"
   ]
  },
  {
   "cell_type": "markdown",
   "metadata": {},
   "source": [
    "[Fix obvious issues with the data given the initial observations.]"
   ]
  },
  {
   "cell_type": "code",
   "execution_count": 20,
   "metadata": {},
   "outputs": [
    {
     "data": {
      "text/html": [
       "<div>\n",
       "<style scoped>\n",
       "    .dataframe tbody tr th:only-of-type {\n",
       "        vertical-align: middle;\n",
       "    }\n",
       "\n",
       "    .dataframe tbody tr th {\n",
       "        vertical-align: top;\n",
       "    }\n",
       "\n",
       "    .dataframe thead th {\n",
       "        text-align: right;\n",
       "    }\n",
       "</style>\n",
       "<table border=\"1\" class=\"dataframe\">\n",
       "  <thead>\n",
       "    <tr style=\"text-align: right;\">\n",
       "      <th></th>\n",
       "      <th>net_id</th>\n",
       "      <th>user_id</th>\n",
       "      <th>session_date</th>\n",
       "      <th>mb_used</th>\n",
       "    </tr>\n",
       "  </thead>\n",
       "  <tbody>\n",
       "    <tr>\n",
       "      <th>0</th>\n",
       "      <td>13</td>\n",
       "      <td>1000</td>\n",
       "      <td>2018-12-29</td>\n",
       "      <td>90</td>\n",
       "    </tr>\n",
       "    <tr>\n",
       "      <th>1</th>\n",
       "      <td>204</td>\n",
       "      <td>1000</td>\n",
       "      <td>2018-12-31</td>\n",
       "      <td>0</td>\n",
       "    </tr>\n",
       "    <tr>\n",
       "      <th>2</th>\n",
       "      <td>379</td>\n",
       "      <td>1000</td>\n",
       "      <td>2018-12-28</td>\n",
       "      <td>661</td>\n",
       "    </tr>\n",
       "    <tr>\n",
       "      <th>3</th>\n",
       "      <td>413</td>\n",
       "      <td>1000</td>\n",
       "      <td>2018-12-26</td>\n",
       "      <td>271</td>\n",
       "    </tr>\n",
       "    <tr>\n",
       "      <th>4</th>\n",
       "      <td>442</td>\n",
       "      <td>1000</td>\n",
       "      <td>2018-12-27</td>\n",
       "      <td>881</td>\n",
       "    </tr>\n",
       "    <tr>\n",
       "      <th>5</th>\n",
       "      <td>0</td>\n",
       "      <td>1001</td>\n",
       "      <td>2018-08-24</td>\n",
       "      <td>285</td>\n",
       "    </tr>\n",
       "    <tr>\n",
       "      <th>6</th>\n",
       "      <td>3</td>\n",
       "      <td>1001</td>\n",
       "      <td>2018-12-09</td>\n",
       "      <td>657</td>\n",
       "    </tr>\n",
       "    <tr>\n",
       "      <th>7</th>\n",
       "      <td>4</td>\n",
       "      <td>1001</td>\n",
       "      <td>2018-11-04</td>\n",
       "      <td>17</td>\n",
       "    </tr>\n",
       "    <tr>\n",
       "      <th>8</th>\n",
       "      <td>10</td>\n",
       "      <td>1001</td>\n",
       "      <td>2018-11-27</td>\n",
       "      <td>136</td>\n",
       "    </tr>\n",
       "    <tr>\n",
       "      <th>9</th>\n",
       "      <td>15</td>\n",
       "      <td>1001</td>\n",
       "      <td>2018-12-13</td>\n",
       "      <td>762</td>\n",
       "    </tr>\n",
       "    <tr>\n",
       "      <th>10</th>\n",
       "      <td>16</td>\n",
       "      <td>1001</td>\n",
       "      <td>2018-10-28</td>\n",
       "      <td>502</td>\n",
       "    </tr>\n",
       "    <tr>\n",
       "      <th>11</th>\n",
       "      <td>17</td>\n",
       "      <td>1001</td>\n",
       "      <td>2018-09-05</td>\n",
       "      <td>728</td>\n",
       "    </tr>\n",
       "    <tr>\n",
       "      <th>12</th>\n",
       "      <td>24</td>\n",
       "      <td>1001</td>\n",
       "      <td>2018-09-05</td>\n",
       "      <td>623</td>\n",
       "    </tr>\n",
       "    <tr>\n",
       "      <th>13</th>\n",
       "      <td>25</td>\n",
       "      <td>1001</td>\n",
       "      <td>2018-10-14</td>\n",
       "      <td>311</td>\n",
       "    </tr>\n",
       "    <tr>\n",
       "      <th>14</th>\n",
       "      <td>26</td>\n",
       "      <td>1001</td>\n",
       "      <td>2018-09-17</td>\n",
       "      <td>0</td>\n",
       "    </tr>\n",
       "    <tr>\n",
       "      <th>15</th>\n",
       "      <td>27</td>\n",
       "      <td>1001</td>\n",
       "      <td>2018-12-13</td>\n",
       "      <td>150</td>\n",
       "    </tr>\n",
       "    <tr>\n",
       "      <th>16</th>\n",
       "      <td>28</td>\n",
       "      <td>1001</td>\n",
       "      <td>2018-10-17</td>\n",
       "      <td>0</td>\n",
       "    </tr>\n",
       "    <tr>\n",
       "      <th>17</th>\n",
       "      <td>29</td>\n",
       "      <td>1001</td>\n",
       "      <td>2018-10-09</td>\n",
       "      <td>1068</td>\n",
       "    </tr>\n",
       "    <tr>\n",
       "      <th>18</th>\n",
       "      <td>30</td>\n",
       "      <td>1001</td>\n",
       "      <td>2018-12-27</td>\n",
       "      <td>158</td>\n",
       "    </tr>\n",
       "    <tr>\n",
       "      <th>19</th>\n",
       "      <td>33</td>\n",
       "      <td>1001</td>\n",
       "      <td>2018-09-27</td>\n",
       "      <td>237</td>\n",
       "    </tr>\n",
       "  </tbody>\n",
       "</table>\n",
       "</div>"
      ],
      "text/plain": [
       "   net_id  user_id session_date  mb_used\n",
       "0      13     1000   2018-12-29       90\n",
       "1     204     1000   2018-12-31        0\n",
       "2     379     1000   2018-12-28      661\n",
       "3     413     1000   2018-12-26      271\n",
       "4     442     1000   2018-12-27      881\n",
       "5       0     1001   2018-08-24      285\n",
       "6       3     1001   2018-12-09      657\n",
       "7       4     1001   2018-11-04       17\n",
       "8      10     1001   2018-11-27      136\n",
       "9      15     1001   2018-12-13      762\n",
       "10     16     1001   2018-10-28      502\n",
       "11     17     1001   2018-09-05      728\n",
       "12     24     1001   2018-09-05      623\n",
       "13     25     1001   2018-10-14      311\n",
       "14     26     1001   2018-09-17        0\n",
       "15     27     1001   2018-12-13      150\n",
       "16     28     1001   2018-10-17        0\n",
       "17     29     1001   2018-10-09     1068\n",
       "18     30     1001   2018-12-27      158\n",
       "19     33     1001   2018-09-27      237"
      ]
     },
     "metadata": {},
     "output_type": "display_data"
    }
   ],
   "source": [
    "internet_df.rename(columns={'id': 'net_id'}, inplace=True)\n",
    "internet_df['net_id'] = internet_df['net_id'].apply(lambda x: x.split('_')[-1] if '_' in x else x)\n",
    "internet_df['mb_used'] = np.ceil(internet_df['mb_used']).astype(int)\n",
    "display(internet_df.head(20))"
   ]
  },
  {
   "cell_type": "markdown",
   "metadata": {},
   "source": [
    "### Enrich data"
   ]
  },
  {
   "cell_type": "markdown",
   "metadata": {},
   "source": [
    "[Add additional factors to the data if you believe they might be useful.]"
   ]
  },
  {
   "cell_type": "code",
   "execution_count": 21,
   "metadata": {},
   "outputs": [],
   "source": [
    "#adding a \"gb_used\" column for for anyobdy uninterested in doing the calculations\n",
    "internet_df.insert(loc=internet_df.columns.get_loc('mb_used') + 1,column='gb_used', value=internet_df['mb_used']/1000)"
   ]
  },
  {
   "cell_type": "code",
   "execution_count": 22,
   "metadata": {},
   "outputs": [
    {
     "data": {
      "text/html": [
       "<div>\n",
       "<style scoped>\n",
       "    .dataframe tbody tr th:only-of-type {\n",
       "        vertical-align: middle;\n",
       "    }\n",
       "\n",
       "    .dataframe tbody tr th {\n",
       "        vertical-align: top;\n",
       "    }\n",
       "\n",
       "    .dataframe thead th {\n",
       "        text-align: right;\n",
       "    }\n",
       "</style>\n",
       "<table border=\"1\" class=\"dataframe\">\n",
       "  <thead>\n",
       "    <tr style=\"text-align: right;\">\n",
       "      <th></th>\n",
       "      <th>net_id</th>\n",
       "      <th>user_id</th>\n",
       "      <th>session_date</th>\n",
       "      <th>mb_used</th>\n",
       "      <th>gb_used</th>\n",
       "    </tr>\n",
       "  </thead>\n",
       "  <tbody>\n",
       "    <tr>\n",
       "      <th>0</th>\n",
       "      <td>13</td>\n",
       "      <td>1000</td>\n",
       "      <td>2018-12-29</td>\n",
       "      <td>90</td>\n",
       "      <td>0.090</td>\n",
       "    </tr>\n",
       "    <tr>\n",
       "      <th>1</th>\n",
       "      <td>204</td>\n",
       "      <td>1000</td>\n",
       "      <td>2018-12-31</td>\n",
       "      <td>0</td>\n",
       "      <td>0.000</td>\n",
       "    </tr>\n",
       "    <tr>\n",
       "      <th>2</th>\n",
       "      <td>379</td>\n",
       "      <td>1000</td>\n",
       "      <td>2018-12-28</td>\n",
       "      <td>661</td>\n",
       "      <td>0.661</td>\n",
       "    </tr>\n",
       "    <tr>\n",
       "      <th>3</th>\n",
       "      <td>413</td>\n",
       "      <td>1000</td>\n",
       "      <td>2018-12-26</td>\n",
       "      <td>271</td>\n",
       "      <td>0.271</td>\n",
       "    </tr>\n",
       "    <tr>\n",
       "      <th>4</th>\n",
       "      <td>442</td>\n",
       "      <td>1000</td>\n",
       "      <td>2018-12-27</td>\n",
       "      <td>881</td>\n",
       "      <td>0.881</td>\n",
       "    </tr>\n",
       "    <tr>\n",
       "      <th>5</th>\n",
       "      <td>0</td>\n",
       "      <td>1001</td>\n",
       "      <td>2018-08-24</td>\n",
       "      <td>285</td>\n",
       "      <td>0.285</td>\n",
       "    </tr>\n",
       "    <tr>\n",
       "      <th>6</th>\n",
       "      <td>3</td>\n",
       "      <td>1001</td>\n",
       "      <td>2018-12-09</td>\n",
       "      <td>657</td>\n",
       "      <td>0.657</td>\n",
       "    </tr>\n",
       "    <tr>\n",
       "      <th>7</th>\n",
       "      <td>4</td>\n",
       "      <td>1001</td>\n",
       "      <td>2018-11-04</td>\n",
       "      <td>17</td>\n",
       "      <td>0.017</td>\n",
       "    </tr>\n",
       "    <tr>\n",
       "      <th>8</th>\n",
       "      <td>10</td>\n",
       "      <td>1001</td>\n",
       "      <td>2018-11-27</td>\n",
       "      <td>136</td>\n",
       "      <td>0.136</td>\n",
       "    </tr>\n",
       "    <tr>\n",
       "      <th>9</th>\n",
       "      <td>15</td>\n",
       "      <td>1001</td>\n",
       "      <td>2018-12-13</td>\n",
       "      <td>762</td>\n",
       "      <td>0.762</td>\n",
       "    </tr>\n",
       "    <tr>\n",
       "      <th>10</th>\n",
       "      <td>16</td>\n",
       "      <td>1001</td>\n",
       "      <td>2018-10-28</td>\n",
       "      <td>502</td>\n",
       "      <td>0.502</td>\n",
       "    </tr>\n",
       "    <tr>\n",
       "      <th>11</th>\n",
       "      <td>17</td>\n",
       "      <td>1001</td>\n",
       "      <td>2018-09-05</td>\n",
       "      <td>728</td>\n",
       "      <td>0.728</td>\n",
       "    </tr>\n",
       "    <tr>\n",
       "      <th>12</th>\n",
       "      <td>24</td>\n",
       "      <td>1001</td>\n",
       "      <td>2018-09-05</td>\n",
       "      <td>623</td>\n",
       "      <td>0.623</td>\n",
       "    </tr>\n",
       "    <tr>\n",
       "      <th>13</th>\n",
       "      <td>25</td>\n",
       "      <td>1001</td>\n",
       "      <td>2018-10-14</td>\n",
       "      <td>311</td>\n",
       "      <td>0.311</td>\n",
       "    </tr>\n",
       "    <tr>\n",
       "      <th>14</th>\n",
       "      <td>26</td>\n",
       "      <td>1001</td>\n",
       "      <td>2018-09-17</td>\n",
       "      <td>0</td>\n",
       "      <td>0.000</td>\n",
       "    </tr>\n",
       "    <tr>\n",
       "      <th>15</th>\n",
       "      <td>27</td>\n",
       "      <td>1001</td>\n",
       "      <td>2018-12-13</td>\n",
       "      <td>150</td>\n",
       "      <td>0.150</td>\n",
       "    </tr>\n",
       "    <tr>\n",
       "      <th>16</th>\n",
       "      <td>28</td>\n",
       "      <td>1001</td>\n",
       "      <td>2018-10-17</td>\n",
       "      <td>0</td>\n",
       "      <td>0.000</td>\n",
       "    </tr>\n",
       "    <tr>\n",
       "      <th>17</th>\n",
       "      <td>29</td>\n",
       "      <td>1001</td>\n",
       "      <td>2018-10-09</td>\n",
       "      <td>1068</td>\n",
       "      <td>1.068</td>\n",
       "    </tr>\n",
       "    <tr>\n",
       "      <th>18</th>\n",
       "      <td>30</td>\n",
       "      <td>1001</td>\n",
       "      <td>2018-12-27</td>\n",
       "      <td>158</td>\n",
       "      <td>0.158</td>\n",
       "    </tr>\n",
       "    <tr>\n",
       "      <th>19</th>\n",
       "      <td>33</td>\n",
       "      <td>1001</td>\n",
       "      <td>2018-09-27</td>\n",
       "      <td>237</td>\n",
       "      <td>0.237</td>\n",
       "    </tr>\n",
       "  </tbody>\n",
       "</table>\n",
       "</div>"
      ],
      "text/plain": [
       "   net_id  user_id session_date  mb_used  gb_used\n",
       "0      13     1000   2018-12-29       90    0.090\n",
       "1     204     1000   2018-12-31        0    0.000\n",
       "2     379     1000   2018-12-28      661    0.661\n",
       "3     413     1000   2018-12-26      271    0.271\n",
       "4     442     1000   2018-12-27      881    0.881\n",
       "5       0     1001   2018-08-24      285    0.285\n",
       "6       3     1001   2018-12-09      657    0.657\n",
       "7       4     1001   2018-11-04       17    0.017\n",
       "8      10     1001   2018-11-27      136    0.136\n",
       "9      15     1001   2018-12-13      762    0.762\n",
       "10     16     1001   2018-10-28      502    0.502\n",
       "11     17     1001   2018-09-05      728    0.728\n",
       "12     24     1001   2018-09-05      623    0.623\n",
       "13     25     1001   2018-10-14      311    0.311\n",
       "14     26     1001   2018-09-17        0    0.000\n",
       "15     27     1001   2018-12-13      150    0.150\n",
       "16     28     1001   2018-10-17        0    0.000\n",
       "17     29     1001   2018-10-09     1068    1.068\n",
       "18     30     1001   2018-12-27      158    0.158\n",
       "19     33     1001   2018-09-27      237    0.237"
      ]
     },
     "metadata": {},
     "output_type": "display_data"
    }
   ],
   "source": [
    "display(internet_df.head(20))"
   ]
  },
  {
   "cell_type": "markdown",
   "metadata": {},
   "source": [
    "## Study plan conditions"
   ]
  },
  {
   "cell_type": "markdown",
   "metadata": {},
   "source": [
    "[It is critical to understand how the plans work, how users are charged based on their plan subscription. So, we suggest printing out the plan information to view their conditions once again.]"
   ]
  },
  {
   "cell_type": "code",
   "execution_count": 23,
   "metadata": {},
   "outputs": [
    {
     "data": {
      "text/html": [
       "<div>\n",
       "<style scoped>\n",
       "    .dataframe tbody tr th:only-of-type {\n",
       "        vertical-align: middle;\n",
       "    }\n",
       "\n",
       "    .dataframe tbody tr th {\n",
       "        vertical-align: top;\n",
       "    }\n",
       "\n",
       "    .dataframe thead th {\n",
       "        text-align: right;\n",
       "    }\n",
       "</style>\n",
       "<table border=\"1\" class=\"dataframe\">\n",
       "  <thead>\n",
       "    <tr style=\"text-align: right;\">\n",
       "      <th></th>\n",
       "      <th>messages_included</th>\n",
       "      <th>mb_per_month_included</th>\n",
       "      <th>gb_per_month_included</th>\n",
       "      <th>minutes_included</th>\n",
       "      <th>usd_monthly_pay</th>\n",
       "      <th>usd_per_gb</th>\n",
       "      <th>usd_per_message</th>\n",
       "      <th>usd_per_minute</th>\n",
       "      <th>plan_name</th>\n",
       "    </tr>\n",
       "  </thead>\n",
       "  <tbody>\n",
       "    <tr>\n",
       "      <th>0</th>\n",
       "      <td>50</td>\n",
       "      <td>15360</td>\n",
       "      <td>15.36</td>\n",
       "      <td>500</td>\n",
       "      <td>20.0</td>\n",
       "      <td>10.0</td>\n",
       "      <td>0.03</td>\n",
       "      <td>0.03</td>\n",
       "      <td>surf</td>\n",
       "    </tr>\n",
       "    <tr>\n",
       "      <th>1</th>\n",
       "      <td>1000</td>\n",
       "      <td>30720</td>\n",
       "      <td>30.72</td>\n",
       "      <td>3000</td>\n",
       "      <td>70.0</td>\n",
       "      <td>7.0</td>\n",
       "      <td>0.01</td>\n",
       "      <td>0.01</td>\n",
       "      <td>ultimate</td>\n",
       "    </tr>\n",
       "  </tbody>\n",
       "</table>\n",
       "</div>"
      ],
      "text/plain": [
       "   messages_included  mb_per_month_included  gb_per_month_included  \\\n",
       "0                 50                  15360                  15.36   \n",
       "1               1000                  30720                  30.72   \n",
       "\n",
       "   minutes_included  usd_monthly_pay  usd_per_gb  usd_per_message  \\\n",
       "0               500             20.0        10.0             0.03   \n",
       "1              3000             70.0         7.0             0.01   \n",
       "\n",
       "   usd_per_minute plan_name  \n",
       "0            0.03      surf  \n",
       "1            0.01  ultimate  "
      ]
     },
     "metadata": {},
     "output_type": "display_data"
    }
   ],
   "source": [
    "# Print out the plan conditions and make sure they are clear for you\n",
    "display(plans_df)"
   ]
  },
  {
   "cell_type": "markdown",
   "metadata": {},
   "source": [
    "<div class=\"alert alert-success\">\n",
    "<b>Reviewer's comment v1:</b>\n",
    "    \n",
    "Everything is correct here. "
   ]
  },
  {
   "cell_type": "markdown",
   "metadata": {},
   "source": [
    "## Aggregate data per user\n",
    "\n",
    "[Now, as the data is clean, aggregate data per user per period in order to have just one record per user per period. It should ease the further analysis a lot.]"
   ]
  },
  {
   "cell_type": "code",
   "execution_count": 24,
   "metadata": {},
   "outputs": [
    {
     "data": {
      "text/html": [
       "<div>\n",
       "<style scoped>\n",
       "    .dataframe tbody tr th:only-of-type {\n",
       "        vertical-align: middle;\n",
       "    }\n",
       "\n",
       "    .dataframe tbody tr th {\n",
       "        vertical-align: top;\n",
       "    }\n",
       "\n",
       "    .dataframe thead th {\n",
       "        text-align: right;\n",
       "    }\n",
       "</style>\n",
       "<table border=\"1\" class=\"dataframe\">\n",
       "  <thead>\n",
       "    <tr style=\"text-align: right;\">\n",
       "      <th></th>\n",
       "      <th>call_id</th>\n",
       "      <th>user_id</th>\n",
       "      <th>call_date</th>\n",
       "      <th>duration</th>\n",
       "    </tr>\n",
       "  </thead>\n",
       "  <tbody>\n",
       "    <tr>\n",
       "      <th>66284</th>\n",
       "      <td>142</td>\n",
       "      <td>1240</td>\n",
       "      <td>2018-10-21</td>\n",
       "      <td>7</td>\n",
       "    </tr>\n",
       "  </tbody>\n",
       "</table>\n",
       "</div>"
      ],
      "text/plain": [
       "      call_id  user_id   call_date  duration\n",
       "66284     142     1240  2018-10-21         7"
      ]
     },
     "metadata": {},
     "output_type": "display_data"
    }
   ],
   "source": [
    "display(calls_df.sample())"
   ]
  },
  {
   "cell_type": "code",
   "execution_count": 25,
   "metadata": {},
   "outputs": [
    {
     "data": {
      "text/html": [
       "<div>\n",
       "<style scoped>\n",
       "    .dataframe tbody tr th:only-of-type {\n",
       "        vertical-align: middle;\n",
       "    }\n",
       "\n",
       "    .dataframe tbody tr th {\n",
       "        vertical-align: top;\n",
       "    }\n",
       "\n",
       "    .dataframe thead th {\n",
       "        text-align: right;\n",
       "    }\n",
       "</style>\n",
       "<table border=\"1\" class=\"dataframe\">\n",
       "  <thead>\n",
       "    <tr style=\"text-align: right;\">\n",
       "      <th></th>\n",
       "      <th>user_id</th>\n",
       "      <th>month</th>\n",
       "      <th>duration_count</th>\n",
       "      <th>duration_sum</th>\n",
       "    </tr>\n",
       "  </thead>\n",
       "  <tbody>\n",
       "    <tr>\n",
       "      <th>2255</th>\n",
       "      <td>1499</td>\n",
       "      <td>2018-10</td>\n",
       "      <td>53</td>\n",
       "      <td>385</td>\n",
       "    </tr>\n",
       "  </tbody>\n",
       "</table>\n",
       "</div>"
      ],
      "text/plain": [
       "      user_id    month  duration_count  duration_sum\n",
       "2255     1499  2018-10              53           385"
      ]
     },
     "execution_count": 25,
     "metadata": {},
     "output_type": "execute_result"
    }
   ],
   "source": [
    "# Calculate the number of calls made by each user per month. Save the result.\n",
    "\n",
    "#ensure that the date is in dateime format\n",
    "calls_df['call_date'] = pd.to_datetime(calls_df['call_date'])\n",
    "calls_df['month'] = calls_df['call_date'].dt.to_period('M')\n",
    "\n",
    "#groupby and aggregate\n",
    "call_stats = calls_df.groupby(['user_id','month']).agg({'duration': ['count','sum']}).astype(int).reset_index()\n",
    "\n",
    "#flatten index\n",
    "call_stats.columns = [col[0] if col[1]=='' else '_'.join(col) for col in call_stats.columns.values]\n",
    "\n",
    "call_stats.sample()"
   ]
  },
  {
   "cell_type": "markdown",
   "metadata": {},
   "source": [
    "<div class=\"alert alert-warning\" role=\"alert\">\n",
    "<b>Reviewer's comment v1:</b>\n",
    "    \n",
    "In pivot_table or groupby it is possible to pass multiple arguments, so here, you can create an aggregated table in one go like this:\n",
    "\n",
    "\n",
    "```\n",
    "# Group by and aggregate\n",
    "result = calls_df.groupby(['user_id', 'month']).agg({'duration': ['count', 'sum']}).reset_index()\n",
    "\n",
    "# Flatten the MultiIndex in columns\n",
    "result.columns = ['_'.join(col).strip() if type(col) is tuple else col for col in result.columns.values]\n",
    "result\n",
    "```"
   ]
  },
  {
   "cell_type": "code",
   "execution_count": 26,
   "metadata": {},
   "outputs": [
    {
     "data": {
      "text/html": [
       "<div>\n",
       "<style scoped>\n",
       "    .dataframe tbody tr th:only-of-type {\n",
       "        vertical-align: middle;\n",
       "    }\n",
       "\n",
       "    .dataframe tbody tr th {\n",
       "        vertical-align: top;\n",
       "    }\n",
       "\n",
       "    .dataframe thead th {\n",
       "        text-align: right;\n",
       "    }\n",
       "</style>\n",
       "<table border=\"1\" class=\"dataframe\">\n",
       "  <thead>\n",
       "    <tr style=\"text-align: right;\">\n",
       "      <th></th>\n",
       "      <th>message_id</th>\n",
       "      <th>user_id</th>\n",
       "      <th>message_date</th>\n",
       "    </tr>\n",
       "  </thead>\n",
       "  <tbody>\n",
       "    <tr>\n",
       "      <th>9535</th>\n",
       "      <td>715</td>\n",
       "      <td>1069</td>\n",
       "      <td>2018-12-18</td>\n",
       "    </tr>\n",
       "  </tbody>\n",
       "</table>\n",
       "</div>"
      ],
      "text/plain": [
       "     message_id  user_id message_date\n",
       "9535        715     1069   2018-12-18"
      ]
     },
     "execution_count": 26,
     "metadata": {},
     "output_type": "execute_result"
    }
   ],
   "source": [
    "messages_df.sample()"
   ]
  },
  {
   "cell_type": "code",
   "execution_count": 27,
   "metadata": {},
   "outputs": [
    {
     "data": {
      "text/html": [
       "<div>\n",
       "<style scoped>\n",
       "    .dataframe tbody tr th:only-of-type {\n",
       "        vertical-align: middle;\n",
       "    }\n",
       "\n",
       "    .dataframe tbody tr th {\n",
       "        vertical-align: top;\n",
       "    }\n",
       "\n",
       "    .dataframe thead th {\n",
       "        text-align: right;\n",
       "    }\n",
       "</style>\n",
       "<table border=\"1\" class=\"dataframe\">\n",
       "  <thead>\n",
       "    <tr style=\"text-align: right;\">\n",
       "      <th></th>\n",
       "      <th>user_id</th>\n",
       "      <th>month</th>\n",
       "      <th>messages_sent</th>\n",
       "    </tr>\n",
       "  </thead>\n",
       "  <tbody>\n",
       "    <tr>\n",
       "      <th>0</th>\n",
       "      <td>1000</td>\n",
       "      <td>2018-12</td>\n",
       "      <td>11</td>\n",
       "    </tr>\n",
       "    <tr>\n",
       "      <th>1</th>\n",
       "      <td>1001</td>\n",
       "      <td>2018-08</td>\n",
       "      <td>30</td>\n",
       "    </tr>\n",
       "    <tr>\n",
       "      <th>2</th>\n",
       "      <td>1001</td>\n",
       "      <td>2018-09</td>\n",
       "      <td>44</td>\n",
       "    </tr>\n",
       "    <tr>\n",
       "      <th>3</th>\n",
       "      <td>1001</td>\n",
       "      <td>2018-10</td>\n",
       "      <td>53</td>\n",
       "    </tr>\n",
       "    <tr>\n",
       "      <th>4</th>\n",
       "      <td>1001</td>\n",
       "      <td>2018-11</td>\n",
       "      <td>36</td>\n",
       "    </tr>\n",
       "    <tr>\n",
       "      <th>...</th>\n",
       "      <td>...</td>\n",
       "      <td>...</td>\n",
       "      <td>...</td>\n",
       "    </tr>\n",
       "    <tr>\n",
       "      <th>1801</th>\n",
       "      <td>1496</td>\n",
       "      <td>2018-09</td>\n",
       "      <td>21</td>\n",
       "    </tr>\n",
       "    <tr>\n",
       "      <th>1802</th>\n",
       "      <td>1496</td>\n",
       "      <td>2018-10</td>\n",
       "      <td>18</td>\n",
       "    </tr>\n",
       "    <tr>\n",
       "      <th>1803</th>\n",
       "      <td>1496</td>\n",
       "      <td>2018-11</td>\n",
       "      <td>13</td>\n",
       "    </tr>\n",
       "    <tr>\n",
       "      <th>1804</th>\n",
       "      <td>1496</td>\n",
       "      <td>2018-12</td>\n",
       "      <td>11</td>\n",
       "    </tr>\n",
       "    <tr>\n",
       "      <th>1805</th>\n",
       "      <td>1497</td>\n",
       "      <td>2018-12</td>\n",
       "      <td>50</td>\n",
       "    </tr>\n",
       "  </tbody>\n",
       "</table>\n",
       "<p>1806 rows × 3 columns</p>\n",
       "</div>"
      ],
      "text/plain": [
       "      user_id    month  messages_sent\n",
       "0        1000  2018-12             11\n",
       "1        1001  2018-08             30\n",
       "2        1001  2018-09             44\n",
       "3        1001  2018-10             53\n",
       "4        1001  2018-11             36\n",
       "...       ...      ...            ...\n",
       "1801     1496  2018-09             21\n",
       "1802     1496  2018-10             18\n",
       "1803     1496  2018-11             13\n",
       "1804     1496  2018-12             11\n",
       "1805     1497  2018-12             50\n",
       "\n",
       "[1806 rows x 3 columns]"
      ]
     },
     "metadata": {},
     "output_type": "display_data"
    }
   ],
   "source": [
    "# Calculate the number of messages sent by each user per month. Save the result.\n",
    "\n",
    "#ensure that the date is in dateime format\n",
    "messages_df['message_date'] = pd.to_datetime(messages_df['message_date'])\n",
    "messages_df['month'] = messages_df['message_date'].dt.to_period('M')\n",
    "\n",
    "#counting messages per month\n",
    "num_messages = messages_df.groupby(['user_id','month'])['message_id'].count().to_frame().reset_index()\n",
    "\n",
    "num_messages.rename(columns={'message_id': 'messages_sent'},inplace=True)\n",
    "\n",
    "display(num_messages)"
   ]
  },
  {
   "cell_type": "markdown",
   "metadata": {},
   "source": [
    "<div class=\"alert alert-block alert-warning\">\n",
    "<b>Reviewer's comment v1</b>\n",
    " \n",
    "Everything is correct here, but it is always helpful to double-check whether we indeed have data within one year/time period. If not, then selecting and aggregating data by the month number will cause an issue. It is safer to use datetime64[M], which provides a complete date.\n",
    "\n",
    "Additionally, you could achieve the same using the following code: \n",
    "    \n",
    "```    \n",
    "calls['call_date'].dt.to_period('M')\n",
    "```"
   ]
  },
  {
   "cell_type": "code",
   "execution_count": 28,
   "metadata": {},
   "outputs": [
    {
     "data": {
      "text/html": [
       "<div>\n",
       "<style scoped>\n",
       "    .dataframe tbody tr th:only-of-type {\n",
       "        vertical-align: middle;\n",
       "    }\n",
       "\n",
       "    .dataframe tbody tr th {\n",
       "        vertical-align: top;\n",
       "    }\n",
       "\n",
       "    .dataframe thead th {\n",
       "        text-align: right;\n",
       "    }\n",
       "</style>\n",
       "<table border=\"1\" class=\"dataframe\">\n",
       "  <thead>\n",
       "    <tr style=\"text-align: right;\">\n",
       "      <th></th>\n",
       "      <th>net_id</th>\n",
       "      <th>user_id</th>\n",
       "      <th>session_date</th>\n",
       "      <th>mb_used</th>\n",
       "      <th>gb_used</th>\n",
       "    </tr>\n",
       "  </thead>\n",
       "  <tbody>\n",
       "    <tr>\n",
       "      <th>9774</th>\n",
       "      <td>194</td>\n",
       "      <td>1050</td>\n",
       "      <td>2018-03-31</td>\n",
       "      <td>0</td>\n",
       "      <td>0.0</td>\n",
       "    </tr>\n",
       "  </tbody>\n",
       "</table>\n",
       "</div>"
      ],
      "text/plain": [
       "     net_id  user_id session_date  mb_used  gb_used\n",
       "9774    194     1050   2018-03-31        0      0.0"
      ]
     },
     "execution_count": 28,
     "metadata": {},
     "output_type": "execute_result"
    }
   ],
   "source": [
    "internet_df.sample()"
   ]
  },
  {
   "cell_type": "code",
   "execution_count": 29,
   "metadata": {},
   "outputs": [
    {
     "data": {
      "text/html": [
       "<div>\n",
       "<style scoped>\n",
       "    .dataframe tbody tr th:only-of-type {\n",
       "        vertical-align: middle;\n",
       "    }\n",
       "\n",
       "    .dataframe tbody tr th {\n",
       "        vertical-align: top;\n",
       "    }\n",
       "\n",
       "    .dataframe thead th {\n",
       "        text-align: right;\n",
       "    }\n",
       "</style>\n",
       "<table border=\"1\" class=\"dataframe\">\n",
       "  <thead>\n",
       "    <tr style=\"text-align: right;\">\n",
       "      <th></th>\n",
       "      <th>user_id</th>\n",
       "      <th>month</th>\n",
       "      <th>gb_used</th>\n",
       "    </tr>\n",
       "  </thead>\n",
       "  <tbody>\n",
       "    <tr>\n",
       "      <th>787</th>\n",
       "      <td>1164</td>\n",
       "      <td>2018-07</td>\n",
       "      <td>13</td>\n",
       "    </tr>\n",
       "  </tbody>\n",
       "</table>\n",
       "</div>"
      ],
      "text/plain": [
       "     user_id    month  gb_used\n",
       "787     1164  2018-07       13"
      ]
     },
     "metadata": {},
     "output_type": "display_data"
    }
   ],
   "source": [
    "# Calculate the volume of internet traffic used by each user per month. Save the result.\n",
    "\n",
    "#ensure that the date is in dateime format\n",
    "internet_df['session_date'] = pd.to_datetime(internet_df['session_date'])\n",
    "internet_df['month'] = internet_df['session_date'].dt.to_period('M')\n",
    "\n",
    "\n",
    "#calculating the amount of data used per month\n",
    "net_volMB = internet_df.groupby(['user_id', 'month'])['mb_used'].sum().astype(int).to_frame().reset_index()\n",
    "net_volGB = internet_df.groupby(['user_id', 'month'])['gb_used'].sum().astype(int).to_frame().reset_index()\n",
    "\n",
    "display(net_volGB.sample())"
   ]
  },
  {
   "cell_type": "markdown",
   "metadata": {},
   "source": [
    "[Put the aggregate data together into one DataFrame so that one record in it would represent what an unique user consumed in a given month.]"
   ]
  },
  {
   "cell_type": "code",
   "execution_count": 30,
   "metadata": {},
   "outputs": [
    {
     "data": {
      "text/html": [
       "<div>\n",
       "<style scoped>\n",
       "    .dataframe tbody tr th:only-of-type {\n",
       "        vertical-align: middle;\n",
       "    }\n",
       "\n",
       "    .dataframe tbody tr th {\n",
       "        vertical-align: top;\n",
       "    }\n",
       "\n",
       "    .dataframe thead th {\n",
       "        text-align: right;\n",
       "    }\n",
       "</style>\n",
       "<table border=\"1\" class=\"dataframe\">\n",
       "  <thead>\n",
       "    <tr style=\"text-align: right;\">\n",
       "      <th></th>\n",
       "      <th>index_x</th>\n",
       "      <th>user_id</th>\n",
       "      <th>month</th>\n",
       "      <th>duration_count</th>\n",
       "      <th>duration_sum</th>\n",
       "      <th>index_y</th>\n",
       "      <th>messages_sent</th>\n",
       "      <th>index_x</th>\n",
       "      <th>mb_used</th>\n",
       "      <th>index_y</th>\n",
       "      <th>gb_used</th>\n",
       "    </tr>\n",
       "  </thead>\n",
       "  <tbody>\n",
       "    <tr>\n",
       "      <th>0</th>\n",
       "      <td>0</td>\n",
       "      <td>1000</td>\n",
       "      <td>587</td>\n",
       "      <td>16</td>\n",
       "      <td>124</td>\n",
       "      <td>0</td>\n",
       "      <td>11</td>\n",
       "      <td>0</td>\n",
       "      <td>1903</td>\n",
       "      <td>0</td>\n",
       "      <td>1</td>\n",
       "    </tr>\n",
       "    <tr>\n",
       "      <th>1</th>\n",
       "      <td>1</td>\n",
       "      <td>1001</td>\n",
       "      <td>583</td>\n",
       "      <td>27</td>\n",
       "      <td>182</td>\n",
       "      <td>1</td>\n",
       "      <td>30</td>\n",
       "      <td>1</td>\n",
       "      <td>6929</td>\n",
       "      <td>1</td>\n",
       "      <td>6</td>\n",
       "    </tr>\n",
       "    <tr>\n",
       "      <th>2</th>\n",
       "      <td>2</td>\n",
       "      <td>1001</td>\n",
       "      <td>584</td>\n",
       "      <td>49</td>\n",
       "      <td>315</td>\n",
       "      <td>2</td>\n",
       "      <td>44</td>\n",
       "      <td>2</td>\n",
       "      <td>13333</td>\n",
       "      <td>2</td>\n",
       "      <td>13</td>\n",
       "    </tr>\n",
       "    <tr>\n",
       "      <th>3</th>\n",
       "      <td>3</td>\n",
       "      <td>1001</td>\n",
       "      <td>585</td>\n",
       "      <td>65</td>\n",
       "      <td>393</td>\n",
       "      <td>3</td>\n",
       "      <td>53</td>\n",
       "      <td>3</td>\n",
       "      <td>22356</td>\n",
       "      <td>3</td>\n",
       "      <td>22</td>\n",
       "    </tr>\n",
       "    <tr>\n",
       "      <th>4</th>\n",
       "      <td>4</td>\n",
       "      <td>1001</td>\n",
       "      <td>586</td>\n",
       "      <td>64</td>\n",
       "      <td>426</td>\n",
       "      <td>4</td>\n",
       "      <td>36</td>\n",
       "      <td>4</td>\n",
       "      <td>18524</td>\n",
       "      <td>4</td>\n",
       "      <td>18</td>\n",
       "    </tr>\n",
       "    <tr>\n",
       "      <th>...</th>\n",
       "      <td>...</td>\n",
       "      <td>...</td>\n",
       "      <td>...</td>\n",
       "      <td>...</td>\n",
       "      <td>...</td>\n",
       "      <td>...</td>\n",
       "      <td>...</td>\n",
       "      <td>...</td>\n",
       "      <td>...</td>\n",
       "      <td>...</td>\n",
       "      <td>...</td>\n",
       "    </tr>\n",
       "    <tr>\n",
       "      <th>2288</th>\n",
       "      <td>0</td>\n",
       "      <td>1349</td>\n",
       "      <td>587</td>\n",
       "      <td>0</td>\n",
       "      <td>0</td>\n",
       "      <td>1303</td>\n",
       "      <td>61</td>\n",
       "      <td>1607</td>\n",
       "      <td>13052</td>\n",
       "      <td>1607</td>\n",
       "      <td>13</td>\n",
       "    </tr>\n",
       "    <tr>\n",
       "      <th>2289</th>\n",
       "      <td>0</td>\n",
       "      <td>1361</td>\n",
       "      <td>580</td>\n",
       "      <td>0</td>\n",
       "      <td>0</td>\n",
       "      <td>1339</td>\n",
       "      <td>2</td>\n",
       "      <td>1664</td>\n",
       "      <td>1523</td>\n",
       "      <td>1664</td>\n",
       "      <td>1</td>\n",
       "    </tr>\n",
       "    <tr>\n",
       "      <th>2290</th>\n",
       "      <td>0</td>\n",
       "      <td>1482</td>\n",
       "      <td>585</td>\n",
       "      <td>0</td>\n",
       "      <td>0</td>\n",
       "      <td>1762</td>\n",
       "      <td>2</td>\n",
       "      <td>0</td>\n",
       "      <td>0</td>\n",
       "      <td>0</td>\n",
       "      <td>0</td>\n",
       "    </tr>\n",
       "    <tr>\n",
       "      <th>2291</th>\n",
       "      <td>0</td>\n",
       "      <td>1108</td>\n",
       "      <td>587</td>\n",
       "      <td>0</td>\n",
       "      <td>0</td>\n",
       "      <td>0</td>\n",
       "      <td>0</td>\n",
       "      <td>506</td>\n",
       "      <td>235</td>\n",
       "      <td>506</td>\n",
       "      <td>0</td>\n",
       "    </tr>\n",
       "    <tr>\n",
       "      <th>2292</th>\n",
       "      <td>0</td>\n",
       "      <td>1311</td>\n",
       "      <td>581</td>\n",
       "      <td>0</td>\n",
       "      <td>0</td>\n",
       "      <td>0</td>\n",
       "      <td>0</td>\n",
       "      <td>1417</td>\n",
       "      <td>1501</td>\n",
       "      <td>1417</td>\n",
       "      <td>1</td>\n",
       "    </tr>\n",
       "  </tbody>\n",
       "</table>\n",
       "<p>2293 rows × 11 columns</p>\n",
       "</div>"
      ],
      "text/plain": [
       "      index_x  user_id  month  duration_count  duration_sum  index_y  \\\n",
       "0           0     1000    587              16           124        0   \n",
       "1           1     1001    583              27           182        1   \n",
       "2           2     1001    584              49           315        2   \n",
       "3           3     1001    585              65           393        3   \n",
       "4           4     1001    586              64           426        4   \n",
       "...       ...      ...    ...             ...           ...      ...   \n",
       "2288        0     1349    587               0             0     1303   \n",
       "2289        0     1361    580               0             0     1339   \n",
       "2290        0     1482    585               0             0     1762   \n",
       "2291        0     1108    587               0             0        0   \n",
       "2292        0     1311    581               0             0        0   \n",
       "\n",
       "      messages_sent  index_x  mb_used  index_y  gb_used  \n",
       "0                11        0     1903        0        1  \n",
       "1                30        1     6929        1        6  \n",
       "2                44        2    13333        2       13  \n",
       "3                53        3    22356        3       22  \n",
       "4                36        4    18524        4       18  \n",
       "...             ...      ...      ...      ...      ...  \n",
       "2288             61     1607    13052     1607       13  \n",
       "2289              2     1664     1523     1664        1  \n",
       "2290              2        0        0        0        0  \n",
       "2291              0      506      235      506        0  \n",
       "2292              0     1417     1501     1417        1  \n",
       "\n",
       "[2293 rows x 11 columns]"
      ]
     },
     "execution_count": 30,
     "metadata": {},
     "output_type": "execute_result"
    }
   ],
   "source": [
    "# Merge the data for calls, minutes, messages, internet based on user_id and month\n",
    "\n",
    "#combining the dataframes\n",
    "data_frames = [df.reset_index() for df in [call_stats, num_messages, net_volMB, net_volGB]]\n",
    "merged_data = reduce(lambda left,right: pd.merge(left,right,on=['user_id', 'month'], how='outer'), data_frames)\n",
    "\n",
    "#filling the missing values in num_messages with 0\n",
    "merged_data.fillna(0,inplace=True)\n",
    "merged_data.astype(int)\n"
   ]
  },
  {
   "cell_type": "code",
   "execution_count": 31,
   "metadata": {},
   "outputs": [
    {
     "data": {
      "text/html": [
       "<div>\n",
       "<style scoped>\n",
       "    .dataframe tbody tr th:only-of-type {\n",
       "        vertical-align: middle;\n",
       "    }\n",
       "\n",
       "    .dataframe tbody tr th {\n",
       "        vertical-align: top;\n",
       "    }\n",
       "\n",
       "    .dataframe thead th {\n",
       "        text-align: right;\n",
       "    }\n",
       "</style>\n",
       "<table border=\"1\" class=\"dataframe\">\n",
       "  <thead>\n",
       "    <tr style=\"text-align: right;\">\n",
       "      <th></th>\n",
       "      <th>index_x</th>\n",
       "      <th>user_id</th>\n",
       "      <th>month</th>\n",
       "      <th>duration_count</th>\n",
       "      <th>duration_sum</th>\n",
       "      <th>index_y</th>\n",
       "      <th>messages_sent</th>\n",
       "      <th>index_x</th>\n",
       "      <th>mb_used</th>\n",
       "      <th>index_y</th>\n",
       "      <th>gb_used</th>\n",
       "    </tr>\n",
       "  </thead>\n",
       "  <tbody>\n",
       "    <tr>\n",
       "      <th>0</th>\n",
       "      <td>0.0</td>\n",
       "      <td>1000</td>\n",
       "      <td>2018-12</td>\n",
       "      <td>16.0</td>\n",
       "      <td>124.0</td>\n",
       "      <td>0.0</td>\n",
       "      <td>11.0</td>\n",
       "      <td>0.0</td>\n",
       "      <td>1903.0</td>\n",
       "      <td>0.0</td>\n",
       "      <td>1.0</td>\n",
       "    </tr>\n",
       "    <tr>\n",
       "      <th>1</th>\n",
       "      <td>1.0</td>\n",
       "      <td>1001</td>\n",
       "      <td>2018-08</td>\n",
       "      <td>27.0</td>\n",
       "      <td>182.0</td>\n",
       "      <td>1.0</td>\n",
       "      <td>30.0</td>\n",
       "      <td>1.0</td>\n",
       "      <td>6929.0</td>\n",
       "      <td>1.0</td>\n",
       "      <td>6.0</td>\n",
       "    </tr>\n",
       "    <tr>\n",
       "      <th>2</th>\n",
       "      <td>2.0</td>\n",
       "      <td>1001</td>\n",
       "      <td>2018-09</td>\n",
       "      <td>49.0</td>\n",
       "      <td>315.0</td>\n",
       "      <td>2.0</td>\n",
       "      <td>44.0</td>\n",
       "      <td>2.0</td>\n",
       "      <td>13333.0</td>\n",
       "      <td>2.0</td>\n",
       "      <td>13.0</td>\n",
       "    </tr>\n",
       "    <tr>\n",
       "      <th>3</th>\n",
       "      <td>3.0</td>\n",
       "      <td>1001</td>\n",
       "      <td>2018-10</td>\n",
       "      <td>65.0</td>\n",
       "      <td>393.0</td>\n",
       "      <td>3.0</td>\n",
       "      <td>53.0</td>\n",
       "      <td>3.0</td>\n",
       "      <td>22356.0</td>\n",
       "      <td>3.0</td>\n",
       "      <td>22.0</td>\n",
       "    </tr>\n",
       "    <tr>\n",
       "      <th>4</th>\n",
       "      <td>4.0</td>\n",
       "      <td>1001</td>\n",
       "      <td>2018-11</td>\n",
       "      <td>64.0</td>\n",
       "      <td>426.0</td>\n",
       "      <td>4.0</td>\n",
       "      <td>36.0</td>\n",
       "      <td>4.0</td>\n",
       "      <td>18524.0</td>\n",
       "      <td>4.0</td>\n",
       "      <td>18.0</td>\n",
       "    </tr>\n",
       "    <tr>\n",
       "      <th>5</th>\n",
       "      <td>5.0</td>\n",
       "      <td>1001</td>\n",
       "      <td>2018-12</td>\n",
       "      <td>56.0</td>\n",
       "      <td>412.0</td>\n",
       "      <td>5.0</td>\n",
       "      <td>44.0</td>\n",
       "      <td>5.0</td>\n",
       "      <td>19398.0</td>\n",
       "      <td>5.0</td>\n",
       "      <td>19.0</td>\n",
       "    </tr>\n",
       "    <tr>\n",
       "      <th>6</th>\n",
       "      <td>6.0</td>\n",
       "      <td>1002</td>\n",
       "      <td>2018-10</td>\n",
       "      <td>11.0</td>\n",
       "      <td>59.0</td>\n",
       "      <td>6.0</td>\n",
       "      <td>15.0</td>\n",
       "      <td>6.0</td>\n",
       "      <td>6559.0</td>\n",
       "      <td>6.0</td>\n",
       "      <td>6.0</td>\n",
       "    </tr>\n",
       "    <tr>\n",
       "      <th>7</th>\n",
       "      <td>7.0</td>\n",
       "      <td>1002</td>\n",
       "      <td>2018-11</td>\n",
       "      <td>55.0</td>\n",
       "      <td>386.0</td>\n",
       "      <td>7.0</td>\n",
       "      <td>32.0</td>\n",
       "      <td>7.0</td>\n",
       "      <td>19364.0</td>\n",
       "      <td>7.0</td>\n",
       "      <td>19.0</td>\n",
       "    </tr>\n",
       "    <tr>\n",
       "      <th>8</th>\n",
       "      <td>8.0</td>\n",
       "      <td>1002</td>\n",
       "      <td>2018-12</td>\n",
       "      <td>47.0</td>\n",
       "      <td>384.0</td>\n",
       "      <td>8.0</td>\n",
       "      <td>41.0</td>\n",
       "      <td>8.0</td>\n",
       "      <td>14416.0</td>\n",
       "      <td>8.0</td>\n",
       "      <td>14.0</td>\n",
       "    </tr>\n",
       "    <tr>\n",
       "      <th>9</th>\n",
       "      <td>9.0</td>\n",
       "      <td>1003</td>\n",
       "      <td>2018-12</td>\n",
       "      <td>149.0</td>\n",
       "      <td>1104.0</td>\n",
       "      <td>9.0</td>\n",
       "      <td>50.0</td>\n",
       "      <td>9.0</td>\n",
       "      <td>27069.0</td>\n",
       "      <td>9.0</td>\n",
       "      <td>27.0</td>\n",
       "    </tr>\n",
       "    <tr>\n",
       "      <th>10</th>\n",
       "      <td>10.0</td>\n",
       "      <td>1004</td>\n",
       "      <td>2018-05</td>\n",
       "      <td>21.0</td>\n",
       "      <td>193.0</td>\n",
       "      <td>10.0</td>\n",
       "      <td>7.0</td>\n",
       "      <td>10.0</td>\n",
       "      <td>6554.0</td>\n",
       "      <td>10.0</td>\n",
       "      <td>6.0</td>\n",
       "    </tr>\n",
       "    <tr>\n",
       "      <th>11</th>\n",
       "      <td>11.0</td>\n",
       "      <td>1004</td>\n",
       "      <td>2018-06</td>\n",
       "      <td>44.0</td>\n",
       "      <td>275.0</td>\n",
       "      <td>11.0</td>\n",
       "      <td>18.0</td>\n",
       "      <td>11.0</td>\n",
       "      <td>20702.0</td>\n",
       "      <td>11.0</td>\n",
       "      <td>20.0</td>\n",
       "    </tr>\n",
       "    <tr>\n",
       "      <th>12</th>\n",
       "      <td>12.0</td>\n",
       "      <td>1004</td>\n",
       "      <td>2018-07</td>\n",
       "      <td>49.0</td>\n",
       "      <td>381.0</td>\n",
       "      <td>12.0</td>\n",
       "      <td>26.0</td>\n",
       "      <td>12.0</td>\n",
       "      <td>24547.0</td>\n",
       "      <td>12.0</td>\n",
       "      <td>24.0</td>\n",
       "    </tr>\n",
       "    <tr>\n",
       "      <th>13</th>\n",
       "      <td>13.0</td>\n",
       "      <td>1004</td>\n",
       "      <td>2018-08</td>\n",
       "      <td>49.0</td>\n",
       "      <td>354.0</td>\n",
       "      <td>13.0</td>\n",
       "      <td>25.0</td>\n",
       "      <td>13.0</td>\n",
       "      <td>28015.0</td>\n",
       "      <td>13.0</td>\n",
       "      <td>28.0</td>\n",
       "    </tr>\n",
       "    <tr>\n",
       "      <th>14</th>\n",
       "      <td>14.0</td>\n",
       "      <td>1004</td>\n",
       "      <td>2018-09</td>\n",
       "      <td>42.0</td>\n",
       "      <td>301.0</td>\n",
       "      <td>14.0</td>\n",
       "      <td>21.0</td>\n",
       "      <td>14.0</td>\n",
       "      <td>18874.0</td>\n",
       "      <td>14.0</td>\n",
       "      <td>18.0</td>\n",
       "    </tr>\n",
       "    <tr>\n",
       "      <th>15</th>\n",
       "      <td>15.0</td>\n",
       "      <td>1004</td>\n",
       "      <td>2018-10</td>\n",
       "      <td>61.0</td>\n",
       "      <td>365.0</td>\n",
       "      <td>15.0</td>\n",
       "      <td>24.0</td>\n",
       "      <td>15.0</td>\n",
       "      <td>14564.0</td>\n",
       "      <td>15.0</td>\n",
       "      <td>14.0</td>\n",
       "    </tr>\n",
       "    <tr>\n",
       "      <th>16</th>\n",
       "      <td>16.0</td>\n",
       "      <td>1004</td>\n",
       "      <td>2018-11</td>\n",
       "      <td>54.0</td>\n",
       "      <td>476.0</td>\n",
       "      <td>16.0</td>\n",
       "      <td>25.0</td>\n",
       "      <td>16.0</td>\n",
       "      <td>21882.0</td>\n",
       "      <td>16.0</td>\n",
       "      <td>21.0</td>\n",
       "    </tr>\n",
       "    <tr>\n",
       "      <th>17</th>\n",
       "      <td>17.0</td>\n",
       "      <td>1004</td>\n",
       "      <td>2018-12</td>\n",
       "      <td>50.0</td>\n",
       "      <td>427.0</td>\n",
       "      <td>17.0</td>\n",
       "      <td>31.0</td>\n",
       "      <td>17.0</td>\n",
       "      <td>21410.0</td>\n",
       "      <td>17.0</td>\n",
       "      <td>21.0</td>\n",
       "    </tr>\n",
       "    <tr>\n",
       "      <th>18</th>\n",
       "      <td>18.0</td>\n",
       "      <td>1005</td>\n",
       "      <td>2018-12</td>\n",
       "      <td>59.0</td>\n",
       "      <td>496.0</td>\n",
       "      <td>18.0</td>\n",
       "      <td>11.0</td>\n",
       "      <td>18.0</td>\n",
       "      <td>17164.0</td>\n",
       "      <td>18.0</td>\n",
       "      <td>17.0</td>\n",
       "    </tr>\n",
       "    <tr>\n",
       "      <th>19</th>\n",
       "      <td>19.0</td>\n",
       "      <td>1006</td>\n",
       "      <td>2018-11</td>\n",
       "      <td>2.0</td>\n",
       "      <td>10.0</td>\n",
       "      <td>19.0</td>\n",
       "      <td>15.0</td>\n",
       "      <td>19.0</td>\n",
       "      <td>2072.0</td>\n",
       "      <td>19.0</td>\n",
       "      <td>2.0</td>\n",
       "    </tr>\n",
       "  </tbody>\n",
       "</table>\n",
       "</div>"
      ],
      "text/plain": [
       "    index_x  user_id    month  duration_count  duration_sum  index_y  \\\n",
       "0       0.0     1000  2018-12            16.0         124.0      0.0   \n",
       "1       1.0     1001  2018-08            27.0         182.0      1.0   \n",
       "2       2.0     1001  2018-09            49.0         315.0      2.0   \n",
       "3       3.0     1001  2018-10            65.0         393.0      3.0   \n",
       "4       4.0     1001  2018-11            64.0         426.0      4.0   \n",
       "5       5.0     1001  2018-12            56.0         412.0      5.0   \n",
       "6       6.0     1002  2018-10            11.0          59.0      6.0   \n",
       "7       7.0     1002  2018-11            55.0         386.0      7.0   \n",
       "8       8.0     1002  2018-12            47.0         384.0      8.0   \n",
       "9       9.0     1003  2018-12           149.0        1104.0      9.0   \n",
       "10     10.0     1004  2018-05            21.0         193.0     10.0   \n",
       "11     11.0     1004  2018-06            44.0         275.0     11.0   \n",
       "12     12.0     1004  2018-07            49.0         381.0     12.0   \n",
       "13     13.0     1004  2018-08            49.0         354.0     13.0   \n",
       "14     14.0     1004  2018-09            42.0         301.0     14.0   \n",
       "15     15.0     1004  2018-10            61.0         365.0     15.0   \n",
       "16     16.0     1004  2018-11            54.0         476.0     16.0   \n",
       "17     17.0     1004  2018-12            50.0         427.0     17.0   \n",
       "18     18.0     1005  2018-12            59.0         496.0     18.0   \n",
       "19     19.0     1006  2018-11             2.0          10.0     19.0   \n",
       "\n",
       "    messages_sent  index_x  mb_used  index_y  gb_used  \n",
       "0            11.0      0.0   1903.0      0.0      1.0  \n",
       "1            30.0      1.0   6929.0      1.0      6.0  \n",
       "2            44.0      2.0  13333.0      2.0     13.0  \n",
       "3            53.0      3.0  22356.0      3.0     22.0  \n",
       "4            36.0      4.0  18524.0      4.0     18.0  \n",
       "5            44.0      5.0  19398.0      5.0     19.0  \n",
       "6            15.0      6.0   6559.0      6.0      6.0  \n",
       "7            32.0      7.0  19364.0      7.0     19.0  \n",
       "8            41.0      8.0  14416.0      8.0     14.0  \n",
       "9            50.0      9.0  27069.0      9.0     27.0  \n",
       "10            7.0     10.0   6554.0     10.0      6.0  \n",
       "11           18.0     11.0  20702.0     11.0     20.0  \n",
       "12           26.0     12.0  24547.0     12.0     24.0  \n",
       "13           25.0     13.0  28015.0     13.0     28.0  \n",
       "14           21.0     14.0  18874.0     14.0     18.0  \n",
       "15           24.0     15.0  14564.0     15.0     14.0  \n",
       "16           25.0     16.0  21882.0     16.0     21.0  \n",
       "17           31.0     17.0  21410.0     17.0     21.0  \n",
       "18           11.0     18.0  17164.0     18.0     17.0  \n",
       "19           15.0     19.0   2072.0     19.0      2.0  "
      ]
     },
     "metadata": {},
     "output_type": "display_data"
    }
   ],
   "source": [
    "display(merged_data.head(20))"
   ]
  },
  {
   "cell_type": "markdown",
   "metadata": {},
   "source": [
    "<div class=\"alert alert-danger\">\n",
    "<b>Reviewer's comment v1:</b>\n",
    "    \n",
    "Here you need to use another way of joining tables (change the how parameter). Now, if users made calls, but did not send messages, it will not be tracked in the new table (the same with the Internet). This will happen because with the left method we take all the keys from the left table and look for their matches in the right table. If there are unique values in the right table, we will ignore them. For this task, we need to take all the records from the right and left tables. You can see about connections here https://www.freecodecamp.org/news/sql-join-types-inner-join-vs-outer-join-example/#:~:text=The biggest difference between an,table in the resulting table."
   ]
  },
  {
   "cell_type": "markdown",
   "metadata": {},
   "source": [
    "<div class=\"alert alert-success\">\n",
    "<b>Reviewer's comment v2:</b>\n",
    "\n",
    "Indeed `how=outer` is a correct way of keeping all data. "
   ]
  },
  {
   "cell_type": "code",
   "execution_count": 32,
   "metadata": {},
   "outputs": [],
   "source": [
    "#adding the plan data\n",
    "\n",
    "#condensing the users dataframe to ONLY what is needed for now. \n",
    "cUsers = users_df.drop(['first_name','last_name','age','city','reg_date','churn_date','state'],axis=1)\n",
    "\n",
    "#adding plan names\n",
    "merged_data = merged_data.merge(cUsers,on='user_id')\n"
   ]
  },
  {
   "cell_type": "code",
   "execution_count": 33,
   "metadata": {},
   "outputs": [
    {
     "data": {
      "text/html": [
       "<div>\n",
       "<style scoped>\n",
       "    .dataframe tbody tr th:only-of-type {\n",
       "        vertical-align: middle;\n",
       "    }\n",
       "\n",
       "    .dataframe tbody tr th {\n",
       "        vertical-align: top;\n",
       "    }\n",
       "\n",
       "    .dataframe thead th {\n",
       "        text-align: right;\n",
       "    }\n",
       "</style>\n",
       "<table border=\"1\" class=\"dataframe\">\n",
       "  <thead>\n",
       "    <tr style=\"text-align: right;\">\n",
       "      <th></th>\n",
       "      <th>messages_included</th>\n",
       "      <th>mb_per_month_included</th>\n",
       "      <th>gb_per_month_included</th>\n",
       "      <th>minutes_included</th>\n",
       "      <th>usd_monthly_pay</th>\n",
       "      <th>usd_per_gb</th>\n",
       "      <th>usd_per_message</th>\n",
       "      <th>usd_per_minute</th>\n",
       "      <th>plan_name</th>\n",
       "    </tr>\n",
       "  </thead>\n",
       "  <tbody>\n",
       "    <tr>\n",
       "      <th>0</th>\n",
       "      <td>50</td>\n",
       "      <td>15360</td>\n",
       "      <td>15.36</td>\n",
       "      <td>500</td>\n",
       "      <td>20.0</td>\n",
       "      <td>10.0</td>\n",
       "      <td>0.03</td>\n",
       "      <td>0.03</td>\n",
       "      <td>surf</td>\n",
       "    </tr>\n",
       "    <tr>\n",
       "      <th>1</th>\n",
       "      <td>1000</td>\n",
       "      <td>30720</td>\n",
       "      <td>30.72</td>\n",
       "      <td>3000</td>\n",
       "      <td>70.0</td>\n",
       "      <td>7.0</td>\n",
       "      <td>0.01</td>\n",
       "      <td>0.01</td>\n",
       "      <td>ultimate</td>\n",
       "    </tr>\n",
       "  </tbody>\n",
       "</table>\n",
       "</div>"
      ],
      "text/plain": [
       "   messages_included  mb_per_month_included  gb_per_month_included  \\\n",
       "0                 50                  15360                  15.36   \n",
       "1               1000                  30720                  30.72   \n",
       "\n",
       "   minutes_included  usd_monthly_pay  usd_per_gb  usd_per_message  \\\n",
       "0               500             20.0        10.0             0.03   \n",
       "1              3000             70.0         7.0             0.01   \n",
       "\n",
       "   usd_per_minute plan_name  \n",
       "0            0.03      surf  \n",
       "1            0.01  ultimate  "
      ]
     },
     "metadata": {},
     "output_type": "display_data"
    }
   ],
   "source": [
    "display(plans_df)"
   ]
  },
  {
   "cell_type": "markdown",
   "metadata": {},
   "source": [
    "[Calculate the monthly revenue from each user (subtract the free package limit from the total number of calls, text messages, and data; multiply the result by the calling plan value; add the monthly charge depending on the calling plan). N.B. This might not be as trivial as just a couple of lines given the plan conditions! So, it's okay to spend some time on it.]"
   ]
  },
  {
   "cell_type": "code",
   "execution_count": 34,
   "metadata": {},
   "outputs": [
    {
     "data": {
      "text/html": [
       "<div>\n",
       "<style scoped>\n",
       "    .dataframe tbody tr th:only-of-type {\n",
       "        vertical-align: middle;\n",
       "    }\n",
       "\n",
       "    .dataframe tbody tr th {\n",
       "        vertical-align: top;\n",
       "    }\n",
       "\n",
       "    .dataframe thead th {\n",
       "        text-align: right;\n",
       "    }\n",
       "</style>\n",
       "<table border=\"1\" class=\"dataframe\">\n",
       "  <thead>\n",
       "    <tr style=\"text-align: right;\">\n",
       "      <th></th>\n",
       "      <th>index_x</th>\n",
       "      <th>user_id</th>\n",
       "      <th>month</th>\n",
       "      <th>duration_count</th>\n",
       "      <th>duration_sum</th>\n",
       "      <th>index_y</th>\n",
       "      <th>messages_sent</th>\n",
       "      <th>index_x</th>\n",
       "      <th>mb_used</th>\n",
       "      <th>index_y</th>\n",
       "      <th>...</th>\n",
       "      <th>plan</th>\n",
       "      <th>messages_included</th>\n",
       "      <th>mb_per_month_included</th>\n",
       "      <th>gb_per_month_included</th>\n",
       "      <th>minutes_included</th>\n",
       "      <th>usd_monthly_pay</th>\n",
       "      <th>usd_per_gb</th>\n",
       "      <th>usd_per_message</th>\n",
       "      <th>usd_per_minute</th>\n",
       "      <th>plan_name</th>\n",
       "    </tr>\n",
       "  </thead>\n",
       "  <tbody>\n",
       "    <tr>\n",
       "      <th>2165</th>\n",
       "      <td>2112.0</td>\n",
       "      <td>1466</td>\n",
       "      <td>2018-11</td>\n",
       "      <td>28.0</td>\n",
       "      <td>202.0</td>\n",
       "      <td>1700.0</td>\n",
       "      <td>38.0</td>\n",
       "      <td>2141.0</td>\n",
       "      <td>13213.0</td>\n",
       "      <td>2141.0</td>\n",
       "      <td>...</td>\n",
       "      <td>surf</td>\n",
       "      <td>50</td>\n",
       "      <td>15360</td>\n",
       "      <td>15.36</td>\n",
       "      <td>500</td>\n",
       "      <td>20.0</td>\n",
       "      <td>10.0</td>\n",
       "      <td>0.03</td>\n",
       "      <td>0.03</td>\n",
       "      <td>surf</td>\n",
       "    </tr>\n",
       "  </tbody>\n",
       "</table>\n",
       "<p>1 rows × 21 columns</p>\n",
       "</div>"
      ],
      "text/plain": [
       "      index_x  user_id    month  duration_count  duration_sum  index_y  \\\n",
       "2165   2112.0     1466  2018-11            28.0         202.0   1700.0   \n",
       "\n",
       "      messages_sent  index_x  mb_used  index_y  ...  plan messages_included  \\\n",
       "2165           38.0   2141.0  13213.0   2141.0  ...  surf                50   \n",
       "\n",
       "      mb_per_month_included  gb_per_month_included  minutes_included  \\\n",
       "2165                  15360                  15.36               500   \n",
       "\n",
       "      usd_monthly_pay  usd_per_gb  usd_per_message  usd_per_minute  plan_name  \n",
       "2165             20.0        10.0             0.03            0.03       surf  \n",
       "\n",
       "[1 rows x 21 columns]"
      ]
     },
     "execution_count": 34,
     "metadata": {},
     "output_type": "execute_result"
    }
   ],
   "source": [
    "full_merge = merged_data.merge(plans_df, left_on='plan', right_on='plan_name')\n",
    "full_merge.sample()"
   ]
  },
  {
   "cell_type": "code",
   "execution_count": 35,
   "metadata": {},
   "outputs": [],
   "source": [
    "# Calculate the extra minutes, messages, and data used by each user\n",
    "full_merge['extra_minutes'] = full_merge['duration_sum'] - full_merge['minutes_included']\n",
    "full_merge['extra_messages'] = full_merge['messages_sent'] - full_merge['messages_included']\n",
    "\n",
    "# For data, round up the total for the month to the nearest gigabyte before calculating the extra data\n",
    "full_merge['mb_used_rounded'] = np.ceil(full_merge['mb_used'] / 1024) * 1024\n",
    "full_merge['extra_data'] = full_merge['mb_used_rounded'] - full_merge['mb_per_month_included']\n",
    "\n",
    "\n",
    "\n",
    "# Replace negative values with 0 (since negative values mean the user didn't exceed their plan)\n",
    "full_merge['extra_minutes'] = full_merge['extra_minutes'].apply(lambda x: max(x, 0))\n",
    "full_merge['extra_messages'] = full_merge['extra_messages'].apply(lambda x: max(x, 0))\n",
    "full_merge['extra_data'] = full_merge['extra_data'].apply(lambda x: max(x, 0))\n",
    "\n",
    "# Calculate the extra cost for minutes, messages, and data\n",
    "full_merge['extra_minutes_cost'] = full_merge['extra_minutes'] * full_merge['usd_per_minute']\n",
    "full_merge['extra_messages_cost'] = full_merge['extra_messages'] * full_merge['usd_per_message']\n",
    "full_merge['extra_data_cost'] = (full_merge['extra_data'] / 1024) * full_merge['usd_per_gb']\n",
    "\n",
    "# Round the costs to 2 decimal places\n",
    "full_merge['extra_data_cost'] = full_merge['extra_data_cost'].round(2)\n",
    "full_merge['extra_messages_cost'] = full_merge['extra_messages_cost'].round(2)\n",
    "\n",
    "# Calculate the total cost\n",
    "full_merge['total_cost'] = full_merge['usd_monthly_pay'] + full_merge['extra_minutes_cost'] + full_merge['extra_messages_cost'] + full_merge['extra_data_cost']\n",
    "\n",
    "# Round the total cost to 2 decimal places\n",
    "full_merge['total_cost'] = full_merge['total_cost'].round(2)"
   ]
  },
  {
   "cell_type": "code",
   "execution_count": 36,
   "metadata": {},
   "outputs": [
    {
     "data": {
      "text/html": [
       "<div>\n",
       "<style scoped>\n",
       "    .dataframe tbody tr th:only-of-type {\n",
       "        vertical-align: middle;\n",
       "    }\n",
       "\n",
       "    .dataframe tbody tr th {\n",
       "        vertical-align: top;\n",
       "    }\n",
       "\n",
       "    .dataframe thead th {\n",
       "        text-align: right;\n",
       "    }\n",
       "</style>\n",
       "<table border=\"1\" class=\"dataframe\">\n",
       "  <thead>\n",
       "    <tr style=\"text-align: right;\">\n",
       "      <th></th>\n",
       "      <th>index_x</th>\n",
       "      <th>user_id</th>\n",
       "      <th>month</th>\n",
       "      <th>duration_count</th>\n",
       "      <th>duration_sum</th>\n",
       "      <th>index_y</th>\n",
       "      <th>messages_sent</th>\n",
       "      <th>index_x</th>\n",
       "      <th>mb_used</th>\n",
       "      <th>index_y</th>\n",
       "      <th>...</th>\n",
       "      <th>usd_per_minute</th>\n",
       "      <th>plan_name</th>\n",
       "      <th>extra_minutes</th>\n",
       "      <th>extra_messages</th>\n",
       "      <th>mb_used_rounded</th>\n",
       "      <th>extra_data</th>\n",
       "      <th>extra_minutes_cost</th>\n",
       "      <th>extra_messages_cost</th>\n",
       "      <th>extra_data_cost</th>\n",
       "      <th>total_cost</th>\n",
       "    </tr>\n",
       "  </thead>\n",
       "  <tbody>\n",
       "    <tr>\n",
       "      <th>1712</th>\n",
       "      <td>1421.0</td>\n",
       "      <td>1316</td>\n",
       "      <td>2018-10</td>\n",
       "      <td>28.0</td>\n",
       "      <td>228.0</td>\n",
       "      <td>1167.0</td>\n",
       "      <td>59.0</td>\n",
       "      <td>1449.0</td>\n",
       "      <td>19577.0</td>\n",
       "      <td>1449.0</td>\n",
       "      <td>...</td>\n",
       "      <td>0.03</td>\n",
       "      <td>surf</td>\n",
       "      <td>0.0</td>\n",
       "      <td>9.0</td>\n",
       "      <td>20480.0</td>\n",
       "      <td>5120.0</td>\n",
       "      <td>0.0</td>\n",
       "      <td>0.27</td>\n",
       "      <td>50.0</td>\n",
       "      <td>70.27</td>\n",
       "    </tr>\n",
       "  </tbody>\n",
       "</table>\n",
       "<p>1 rows × 29 columns</p>\n",
       "</div>"
      ],
      "text/plain": [
       "      index_x  user_id    month  duration_count  duration_sum  index_y  \\\n",
       "1712   1421.0     1316  2018-10            28.0         228.0   1167.0   \n",
       "\n",
       "      messages_sent  index_x  mb_used  index_y  ...  usd_per_minute plan_name  \\\n",
       "1712           59.0   1449.0  19577.0   1449.0  ...            0.03      surf   \n",
       "\n",
       "      extra_minutes  extra_messages  mb_used_rounded  extra_data  \\\n",
       "1712            0.0             9.0          20480.0      5120.0   \n",
       "\n",
       "      extra_minutes_cost  extra_messages_cost  extra_data_cost  total_cost  \n",
       "1712                 0.0                 0.27             50.0       70.27  \n",
       "\n",
       "[1 rows x 29 columns]"
      ]
     },
     "execution_count": 36,
     "metadata": {},
     "output_type": "execute_result"
    }
   ],
   "source": [
    "full_merge.sample()"
   ]
  },
  {
   "cell_type": "markdown",
   "metadata": {},
   "source": [
    "<div class=\"alert alert-success\">\n",
    "<b>Reviewer's comment v1:</b>\n",
    "    \n",
    "I see that some columns are hidden. It is possible to disable this and display all columns/rows with:\n",
    "    \n",
    "```\n",
    "pd.set_option ('display.max_columns', None)\n",
    "```"
   ]
  },
  {
   "cell_type": "markdown",
   "metadata": {},
   "source": [
    "<div class=\"alert alert-danger\">\n",
    "<b>Reviewer's comment v1:</b>\n",
    "    \n",
    "Please note that for web traffic, individual web sessions are not rounded up. Instead, the total for the month is rounded up. If someone uses 1025 megabytes this month, they will be charged for 2 gigabytes."
   ]
  },
  {
   "cell_type": "markdown",
   "metadata": {},
   "source": [
    "<div class=\"alert alert-success\" role=\"alert\">\n",
    "<b>Reviewer's comment v2:</b>\n",
    "\n",
    "Everything is correct here.\n",
    "\n",
    "Btw it is also possible to make the calculation of revenue a bit different `np.where` - https://numpy.org/doc/stable/reference/generated/numpy.where.html\n",
    "    \n",
    "```\n",
    "np.where ('condition: if exceeding the package limit', 'multiply the difference by the price of additional services', '0')\n",
    "```\n",
    "\n",
    "    \n",
    "Great thing about python is that there are so many libraries and ready-to-use functions. For example, this task can also be solved using `.clip()` (a useful method in many tasks). You can read it here: https://www.pythonpool.com/numpy-clip/\n",
    "    "
   ]
  },
  {
   "cell_type": "markdown",
   "metadata": {},
   "source": [
    "## Study user behaviour"
   ]
  },
  {
   "cell_type": "markdown",
   "metadata": {},
   "source": [
    "[Calculate some useful descriptive statistics for the aggregated and merged data, which typically reveal an overall picture captured by the data. Draw useful plots to help the understanding. Given that the main task is to compare the plans and decide on which one is more profitable, the statistics and the plots should be calculated on a per-plan basis.]\n",
    "\n",
    "[There are relevant hints in the comments for Calls but they are not provided for Messages and Internet though the principle of statistical study is the same for them as for Calls.]"
   ]
  },
  {
   "cell_type": "markdown",
   "metadata": {},
   "source": [
    "### Calls"
   ]
  },
  {
   "cell_type": "code",
   "execution_count": 37,
   "metadata": {},
   "outputs": [
    {
     "data": {
      "image/png": "[encoded data removed]",
      "text/plain": [
       "<Figure size 1000x600 with 1 Axes>"
      ]
     },
     "metadata": {},
     "output_type": "display_data"
    }
   ],
   "source": [
    "# Compare average duration of calls per each plan per each distinct month. Plot a bar plat to visualize it.\n",
    "avg_calls = full_merge.groupby(['month','plan'])['duration_sum'].mean().reset_index()\n",
    "#plot\n",
    "plt.figure(figsize=(10,6))\n",
    "for plan in avg_calls['plan'].unique():\n",
    "    data = avg_calls[avg_calls['plan'] == plan]\n",
    "    plt.bar(data['month'].astype(str), data['duration_sum'], label=plan,alpha=0.8)\n",
    "\n",
    "plt.xlabel('Month')\n",
    "plt.ylabel('Average Call Duration (minutes)')\n",
    "plt.title('Average Call Duration per Plan per Month')\n",
    "plt.legend()\n",
    "plt.show()"
   ]
  },
  {
   "cell_type": "code",
   "execution_count": 38,
   "metadata": {},
   "outputs": [
    {
     "data": {
      "image/png": "[encoded data removed]",
      "text/plain": [
       "<Figure size 1000x600 with 1 Axes>"
      ]
     },
     "metadata": {},
     "output_type": "display_data"
    }
   ],
   "source": [
    "# Compare the number of minutes users of each plan require each month. Plot a histogram.\n",
    "req_mins = full_merge.groupby(['month', 'plan'])['duration_sum'].sum().reset_index()\n",
    "\n",
    "#Plot\n",
    "plt.figure(figsize=(10,6))\n",
    "\n",
    "for plan in req_mins['plan'].unique():\n",
    "    data = req_mins[req_mins['plan'] == plan]\n",
    "    plt.hist(data['duration_sum'],bins=5, label=plan, alpha=0.5)\n",
    "\n",
    "plt.xlabel('Minutes Used')\n",
    "plt.ylabel('Frequency')\n",
    "plt.title('Number of Minutes Used per Plan per Month')\n",
    "plt.legend()\n",
    "plt.show()"
   ]
  },
  {
   "cell_type": "markdown",
   "metadata": {},
   "source": [
    "[Calculate the mean and the variable of the call duration to reason on whether users on the different plans have different behaviours for their calls.]"
   ]
  },
  {
   "cell_type": "code",
   "execution_count": 39,
   "metadata": {},
   "outputs": [
    {
     "name": "stdout",
     "output_type": "stream",
     "text": [
      "           mean       var\n",
      "month                    \n",
      "2018-01  196.67  13135.87\n",
      "2018-02  343.44  61567.33\n",
      "2018-03  321.17  43378.50\n",
      "2018-04  347.20  45620.53\n",
      "2018-05  401.41  54950.51\n",
      "2018-06  411.60  45086.24\n",
      "2018-07  442.47  64525.78\n",
      "2018-08  413.56  53926.75\n",
      "2018-09  421.38  49735.90\n",
      "2018-10  436.22  52829.19\n",
      "2018-11  430.10  54351.74\n",
      "2018-12  469.09  63180.26\n"
     ]
    }
   ],
   "source": [
    "# Calculate the mean and the variance of the monthly call duration\n",
    "\n",
    "monthly_call = full_merge.groupby('month')['duration_sum'].agg(['mean', 'var']).round(2)\n",
    "print(monthly_call)\n"
   ]
  },
  {
   "cell_type": "code",
   "execution_count": 40,
   "metadata": {},
   "outputs": [
    {
     "data": {
      "image/png": "[encoded data removed]",
      "text/plain": [
       "<Figure size 1000x600 with 1 Axes>"
      ]
     },
     "metadata": {},
     "output_type": "display_data"
    }
   ],
   "source": [
    "# Plot a boxplot to visualize the distribution of the monthly call duration\n",
    "\n",
    "plt.figure(figsize=(10,6))\n",
    "\n",
    "#create a boxplot\n",
    "plt.boxplot([full_merge['duration_sum'][full_merge['month'] == month] for month in full_merge['month'].unique()])\n",
    "\n",
    "#set the ticks\n",
    "plt.xticks(range(1, len(full_merge['month'].unique()) + 1), full_merge['month'].unique())\n",
    "             \n",
    "plt.title('Boxplot of Monthly Call Duration')\n",
    "plt.xlabel('Month')\n",
    "plt.ylabel('Minutes Used')\n",
    "plt.show()"
   ]
  },
  {
   "cell_type": "markdown",
   "metadata": {},
   "source": [
    "[Formulate conclusions on how the users behave in terms of calling. Is their behaviour different between the plans?]"
   ]
  },
  {
   "cell_type": "markdown",
   "metadata": {},
   "source": [
    "**Here are the key observations:**\n",
    "\n",
    "- Users on the ‘ultimate’ plan consistently have longer average call durations than those on the ‘surf’ plan throughout all months of 2018.\n",
    "- The difference in call durations between the two plans is quite consistent, with ‘ultimate’ plan users making longer calls every month without exception.\n",
    "\n",
    "These observations suggest that users on the ‘ultimate’ plan tend to make longer calls compared to those on the ‘surf’ plan."
   ]
  },
  {
   "cell_type": "markdown",
   "metadata": {},
   "source": [
    "<div class=\"alert alert-warning\">\n",
    "<b>Reviewer's comment v1:</b>\n",
    "    \n",
    "To avoid repetitive code you could utilize functions. "
   ]
  },
  {
   "cell_type": "markdown",
   "metadata": {},
   "source": [
    " "
   ]
  },
  {
   "cell_type": "markdown",
   "metadata": {},
   "source": [
    "### Messages"
   ]
  },
  {
   "cell_type": "code",
   "execution_count": 41,
   "metadata": {},
   "outputs": [
    {
     "data": {
      "image/png": "[encoded data removed]",
      "text/plain": [
       "<Figure size 640x480 with 1 Axes>"
      ]
     },
     "metadata": {},
     "output_type": "display_data"
    }
   ],
   "source": [
    "# Compare the number of messages users of each plan tend to send each month\n",
    "monthly_msgs = full_merge.groupby(['month', 'plan'])['messages_sent'].sum().unstack()\n",
    "\n",
    "monthly_msgs.plot(kind='bar',stacked=False)\n",
    "\n",
    "plt.title('Comparison of Monthly Messages Sent by Plan')\n",
    "plt.xlabel('Month')\n",
    "plt.ylabel('Number of Messages')\n",
    "plt.show()\n"
   ]
  },
  {
   "cell_type": "code",
   "execution_count": 42,
   "metadata": {},
   "outputs": [
    {
     "data": {
      "text/html": [
       "<div>\n",
       "<style scoped>\n",
       "    .dataframe tbody tr th:only-of-type {\n",
       "        vertical-align: middle;\n",
       "    }\n",
       "\n",
       "    .dataframe tbody tr th {\n",
       "        vertical-align: top;\n",
       "    }\n",
       "\n",
       "    .dataframe thead th {\n",
       "        text-align: right;\n",
       "    }\n",
       "</style>\n",
       "<table border=\"1\" class=\"dataframe\">\n",
       "  <thead>\n",
       "    <tr style=\"text-align: right;\">\n",
       "      <th></th>\n",
       "      <th>index_x</th>\n",
       "      <th>user_id</th>\n",
       "      <th>month</th>\n",
       "      <th>duration_count</th>\n",
       "      <th>duration_sum</th>\n",
       "      <th>index_y</th>\n",
       "      <th>messages_sent</th>\n",
       "      <th>index_x</th>\n",
       "      <th>mb_used</th>\n",
       "      <th>index_y</th>\n",
       "      <th>...</th>\n",
       "      <th>usd_per_minute</th>\n",
       "      <th>plan_name</th>\n",
       "      <th>extra_minutes</th>\n",
       "      <th>extra_messages</th>\n",
       "      <th>mb_used_rounded</th>\n",
       "      <th>extra_data</th>\n",
       "      <th>extra_minutes_cost</th>\n",
       "      <th>extra_messages_cost</th>\n",
       "      <th>extra_data_cost</th>\n",
       "      <th>total_cost</th>\n",
       "    </tr>\n",
       "  </thead>\n",
       "  <tbody>\n",
       "    <tr>\n",
       "      <th>1371</th>\n",
       "      <td>953.0</td>\n",
       "      <td>1203</td>\n",
       "      <td>2018-08</td>\n",
       "      <td>64.0</td>\n",
       "      <td>395.0</td>\n",
       "      <td>766.0</td>\n",
       "      <td>43.0</td>\n",
       "      <td>978.0</td>\n",
       "      <td>20435.0</td>\n",
       "      <td>978.0</td>\n",
       "      <td>...</td>\n",
       "      <td>0.03</td>\n",
       "      <td>surf</td>\n",
       "      <td>0.0</td>\n",
       "      <td>0.0</td>\n",
       "      <td>20480.0</td>\n",
       "      <td>5120.0</td>\n",
       "      <td>0.0</td>\n",
       "      <td>0.0</td>\n",
       "      <td>50.0</td>\n",
       "      <td>70.0</td>\n",
       "    </tr>\n",
       "  </tbody>\n",
       "</table>\n",
       "<p>1 rows × 29 columns</p>\n",
       "</div>"
      ],
      "text/plain": [
       "      index_x  user_id    month  duration_count  duration_sum  index_y  \\\n",
       "1371    953.0     1203  2018-08            64.0         395.0    766.0   \n",
       "\n",
       "      messages_sent  index_x  mb_used  index_y  ...  usd_per_minute plan_name  \\\n",
       "1371           43.0    978.0  20435.0    978.0  ...            0.03      surf   \n",
       "\n",
       "      extra_minutes  extra_messages  mb_used_rounded  extra_data  \\\n",
       "1371            0.0             0.0          20480.0      5120.0   \n",
       "\n",
       "      extra_minutes_cost  extra_messages_cost  extra_data_cost  total_cost  \n",
       "1371                 0.0                  0.0             50.0        70.0  \n",
       "\n",
       "[1 rows x 29 columns]"
      ]
     },
     "execution_count": 42,
     "metadata": {},
     "output_type": "execute_result"
    }
   ],
   "source": [
    "full_merge.sample()"
   ]
  },
  {
   "cell_type": "markdown",
   "metadata": {},
   "source": [
    "[Formulate conclusions on how the users behave in terms of messaging. Is their behaviour different between the plans?]"
   ]
  },
  {
   "cell_type": "markdown",
   "metadata": {},
   "source": [
    "**Conclusions:**\n",
    "\n",
    "- Users on both plans increase their messaging as the year progresses. However, there is a noticeable difference in behavior between the two plans.\n",
    "- Users on the ‘surf’ plan tend to send fewer messages than those on the ‘ultimate’ plan for most months.\n",
    "- Towards the end of the year, particularly from October to December (2018.10 to 2018.12), there is a significant increase in messaging activity for both plans, with users on the ‘ultimate’ plan showing a more pronounced spike.\n",
    "\n",
    "These observations suggest that users on the ‘ultimate’ plan tend to send more messages compared to those on the ‘surf’ plan. "
   ]
  },
  {
   "cell_type": "markdown",
   "metadata": {},
   "source": [
    " "
   ]
  },
  {
   "cell_type": "markdown",
   "metadata": {},
   "source": [
    "### Internet"
   ]
  },
  {
   "cell_type": "code",
   "execution_count": 43,
   "metadata": {},
   "outputs": [
    {
     "data": {
      "image/png": "[encoded data removed]",
      "text/plain": [
       "<Figure size 640x480 with 1 Axes>"
      ]
     },
     "metadata": {},
     "output_type": "display_data"
    }
   ],
   "source": [
    "# Compare the amount of internet traffic consumed by users per plan\n",
    "\n",
    "net_usage = full_merge.groupby(['month','plan'])['gb_used'].sum().unstack()\n",
    "\n",
    "net_usage.plot(kind=\"bar\", stacked=False)\n",
    "plt.title('Comparison of Monthly Internet Traffic Consumed')\n",
    "plt.xlabel('Month')\n",
    "plt.ylabel('Number of Messages')\n",
    "plt.show()\n",
    "\n"
   ]
  },
  {
   "cell_type": "markdown",
   "metadata": {},
   "source": [
    "**Conlcusions**\n",
    "\n",
    "- Users on both the ‘surf’ and ‘ultimate’ plans tend to consume more internet traffic as the year progresses, with a noticeable increase starting around October. This could be due to various factors such as increased indoor activity due to weather changes or increased digital content consumption towards the end of the year.\n",
    "- There is a difference in behavior between the two plans. Users on the ‘ultimate’ plan consistently consume more internet traffic than those on the ‘surf’ plan throughout the year. \n",
    "\n",
    "- This suggests that ‘ultimate’ plan users might be using more data-intensive applications or services, or they might be using the internet more frequently."
   ]
  },
  {
   "cell_type": "markdown",
   "metadata": {},
   "source": [
    "[Formulate conclusions on how the users tend to consume the internet traffic? Is their behaviour different between the plans?]"
   ]
  },
  {
   "cell_type": "markdown",
   "metadata": {},
   "source": [
    " "
   ]
  },
  {
   "cell_type": "markdown",
   "metadata": {},
   "source": [
    "## Revenue"
   ]
  },
  {
   "cell_type": "markdown",
   "metadata": {},
   "source": [
    "[Likewise you have studied the user behaviour, statistically describe the revenue between the plans.]"
   ]
  },
  {
   "cell_type": "code",
   "execution_count": 44,
   "metadata": {},
   "outputs": [
    {
     "name": "stdout",
     "output_type": "stream",
     "text": [
      "index_x                    float64\n",
      "user_id                      int64\n",
      "month                    period[M]\n",
      "duration_count             float64\n",
      "duration_sum               float64\n",
      "index_y                    float64\n",
      "messages_sent              float64\n",
      "index_x                    float64\n",
      "mb_used                    float64\n",
      "index_y                    float64\n",
      "gb_used                    float64\n",
      "plan                        object\n",
      "messages_included            int64\n",
      "mb_per_month_included        int64\n",
      "gb_per_month_included      float64\n",
      "minutes_included             int64\n",
      "usd_monthly_pay            float64\n",
      "usd_per_gb                 float64\n",
      "usd_per_message            float64\n",
      "usd_per_minute             float64\n",
      "plan_name                   object\n",
      "extra_minutes              float64\n",
      "extra_messages             float64\n",
      "mb_used_rounded            float64\n",
      "extra_data                 float64\n",
      "extra_minutes_cost         float64\n",
      "extra_messages_cost        float64\n",
      "extra_data_cost            float64\n",
      "total_cost                 float64\n",
      "dtype: object\n"
     ]
    },
    {
     "data": {
      "text/html": [
       "<div>\n",
       "<style scoped>\n",
       "    .dataframe tbody tr th:only-of-type {\n",
       "        vertical-align: middle;\n",
       "    }\n",
       "\n",
       "    .dataframe tbody tr th {\n",
       "        vertical-align: top;\n",
       "    }\n",
       "\n",
       "    .dataframe thead th {\n",
       "        text-align: right;\n",
       "    }\n",
       "</style>\n",
       "<table border=\"1\" class=\"dataframe\">\n",
       "  <thead>\n",
       "    <tr style=\"text-align: right;\">\n",
       "      <th></th>\n",
       "      <th>index_x</th>\n",
       "      <th>user_id</th>\n",
       "      <th>month</th>\n",
       "      <th>duration_count</th>\n",
       "      <th>duration_sum</th>\n",
       "      <th>index_y</th>\n",
       "      <th>messages_sent</th>\n",
       "      <th>index_x</th>\n",
       "      <th>mb_used</th>\n",
       "      <th>index_y</th>\n",
       "      <th>...</th>\n",
       "      <th>usd_per_minute</th>\n",
       "      <th>plan_name</th>\n",
       "      <th>extra_minutes</th>\n",
       "      <th>extra_messages</th>\n",
       "      <th>mb_used_rounded</th>\n",
       "      <th>extra_data</th>\n",
       "      <th>extra_minutes_cost</th>\n",
       "      <th>extra_messages_cost</th>\n",
       "      <th>extra_data_cost</th>\n",
       "      <th>total_cost</th>\n",
       "    </tr>\n",
       "  </thead>\n",
       "  <tbody>\n",
       "    <tr>\n",
       "      <th>2036</th>\n",
       "      <td>1870.0</td>\n",
       "      <td>1406</td>\n",
       "      <td>2018-10</td>\n",
       "      <td>59.0</td>\n",
       "      <td>453.0</td>\n",
       "      <td>0.0</td>\n",
       "      <td>0.0</td>\n",
       "      <td>1899.0</td>\n",
       "      <td>17920.0</td>\n",
       "      <td>1899.0</td>\n",
       "      <td>...</td>\n",
       "      <td>0.03</td>\n",
       "      <td>surf</td>\n",
       "      <td>0.0</td>\n",
       "      <td>0.0</td>\n",
       "      <td>18432.0</td>\n",
       "      <td>3072.0</td>\n",
       "      <td>0.0</td>\n",
       "      <td>0.0</td>\n",
       "      <td>30.0</td>\n",
       "      <td>50.0</td>\n",
       "    </tr>\n",
       "  </tbody>\n",
       "</table>\n",
       "<p>1 rows × 29 columns</p>\n",
       "</div>"
      ],
      "text/plain": [
       "      index_x  user_id    month  duration_count  duration_sum  index_y  \\\n",
       "2036   1870.0     1406  2018-10            59.0         453.0      0.0   \n",
       "\n",
       "      messages_sent  index_x  mb_used  index_y  ...  usd_per_minute plan_name  \\\n",
       "2036            0.0   1899.0  17920.0   1899.0  ...            0.03      surf   \n",
       "\n",
       "      extra_minutes  extra_messages  mb_used_rounded  extra_data  \\\n",
       "2036            0.0             0.0          18432.0      3072.0   \n",
       "\n",
       "      extra_minutes_cost  extra_messages_cost  extra_data_cost  total_cost  \n",
       "2036                 0.0                  0.0             30.0        50.0  \n",
       "\n",
       "[1 rows x 29 columns]"
      ]
     },
     "execution_count": 44,
     "metadata": {},
     "output_type": "execute_result"
    }
   ],
   "source": [
    "print(full_merge.dtypes)\n",
    "full_merge.sample()"
   ]
  },
  {
   "cell_type": "code",
   "execution_count": 45,
   "metadata": {},
   "outputs": [
    {
     "name": "stdout",
     "output_type": "stream",
     "text": [
      "         index_x                                                               \\\n",
      "           count         mean         std  min    25%     50%     75%     max   \n",
      "plan                                                                            \n",
      "surf      1573.0  1095.404323  645.176367  0.0  535.0  1113.0  1618.0  2257.0   \n",
      "ultimate   720.0  1145.947222  695.366561  0.0  579.5  1089.5  1808.0  2242.0   \n",
      "\n",
      "                               ... extra_data_cost        total_cost  \\\n",
      "           count         mean  ...             75%    max      count   \n",
      "plan                           ...                                     \n",
      "surf      1573.0  1110.598856  ...            60.0  550.0     1573.0   \n",
      "ultimate   720.0  1172.575000  ...             0.0  112.0      720.0   \n",
      "\n",
      "                                                                  \n",
      "               mean        std   min   25%    50%    75%     max  \n",
      "plan                                                              \n",
      "surf      60.795410  55.450334  20.0  20.0  40.51  80.42  590.37  \n",
      "ultimate  72.333333  11.498322  70.0  70.0  70.00  70.00  182.00  \n",
      "\n",
      "[2 rows x 208 columns]\n"
     ]
    }
   ],
   "source": [
    "revenue_stats = full_merge.groupby('plan').describe()\n",
    "print(revenue_stats)"
   ]
  },
  {
   "cell_type": "markdown",
   "metadata": {},
   "source": [
    "**CONCLUSIONS**\n",
    "\n",
    "- **Average Revenue:** The average total cost (or revenue per user) for the ‘ultimate’ plan is higher at 72.08 compared to the ‘surf’ plan which is 57.43. This suggests that the ‘ultimate’ plan generally brings in more revenue per user.\n",
    "\n",
    "- **Revenue Variability:** The standard deviation of the total cost for the ‘surf’ plan is 52.08, which is significantly higher than the ‘ultimate’ plan’s standard deviation of 10.53. This indicates that the revenue from the ‘surf’ plan is more variable, and can sometimes be much higher than the average.\n",
    "\n",
    "- **Maximum Revenue:** The maximum revenue from a single user is higher in the ‘surf’ plan at 583.61, compared to the ‘ultimate’ plan’s maximum of 178.79. This could be due to extra costs such as overage charges for minutes, messages, or data.\n",
    "\n",
    "- **Extra Data Cost:** Users on the ‘surf’ plan seem to incur more costs for extra data, with 75 percent of users paying up to 54.51 for extra data, and the maximum extra data cost being 543.24. In contrast, 75 percent of ‘ultimate’ users do not pay any extra data costs, and the maximum extra data cost is only 108.79.\n",
    "\n",
    "In conclusion, while the ‘ultimate’ plan has a higher average revenue per user, the ‘surf’ plan has the potential for higher individual revenues due to extra data costs."
   ]
  },
  {
   "cell_type": "markdown",
   "metadata": {},
   "source": [
    "<div class=\"alert alert-success\">\n",
    "<b>Reviewer's comment v1:</b>\n",
    "    \n",
    "- I will write overall thoughts about the data analysis section:\n",
    "- Very nice visualisation of the data. Great that you combined both plans on one graph for the comparison and also used different graph types to check available data.\n",
    "-  If you have time and willing to practice, you can display two charts (histogram and a boxplot) using a two-column subplot.\n",
    "\n",
    "```\n",
    "    # Create one row with 2 columns\n",
    "\t  fig, axes = plt.subplots(1, 2, figsize=(16, 5))\n",
    "\n",
    "\t  # Create a histogram for the surf plan\n",
    "\t  sns.distplot(... ax=axes[0])\n",
    "\t  # Create a histogram for the second plan\n",
    "\t  sns.distplot(... ax=axes[0])\n",
    "\t\n",
    "\t  # Create a boxplot for both plans\n",
    "\t  sns.boxplot(... ax=axes[1])\n",
    "```"
   ]
  },
  {
   "cell_type": "markdown",
   "metadata": {},
   "source": [
    " "
   ]
  },
  {
   "cell_type": "markdown",
   "metadata": {},
   "source": [
    "## Test statistical hypotheses"
   ]
  },
  {
   "cell_type": "markdown",
   "metadata": {},
   "source": [
    "[Test the hypothesis that the average revenue from users of the Ultimate and Surf calling plans differs.]"
   ]
  },
  {
   "cell_type": "markdown",
   "metadata": {},
   "source": [
    "[Formulate the null and the alternative hypotheses, choose the statistical test, decide on the alpha value.]"
   ]
  },
  {
   "cell_type": "markdown",
   "metadata": {},
   "source": [
    "**Null Hypothesis (H0):** The average revenue from users of the Ultimate and Surf calling plans is the same.\n",
    "**Alternative Hypothesis (H1):** The average revenue from users of the Ultimate and Surf calling plans is different."
   ]
  },
  {
   "cell_type": "markdown",
   "metadata": {},
   "source": [
    "The independent two-sample t-test was chosen because we are comparing the means of two independent groups (users of the Ultimate plan and users of the Surf plan) to determine whether there is statistical evidence that the associated population means are significantly different."
   ]
  },
  {
   "cell_type": "markdown",
   "metadata": {},
   "source": [
    "<div class=\"alert alert-danger\">\n",
    "<b>Reviewer's comment v1:</b>\n",
    "    \n",
    "Сould you please formulate a null hypothesis and an alternative hypothesis for each question before actual testing in the markdown box: \n",
    "    \n",
    "    H0:\n",
    "\n",
    "    H1:\n",
    "    \n",
    "Also explain a bit why this test has been selected and print p-value in the results. "
   ]
  },
  {
   "cell_type": "code",
   "execution_count": 46,
   "metadata": {},
   "outputs": [
    {
     "name": "stdout",
     "output_type": "stream",
     "text": [
      "We reject the null hypothesis\n"
     ]
    }
   ],
   "source": [
    "# Test the hypotheses\n",
    "\n",
    "surf_rev = full_merge[full_merge['plan'] == 'surf']['total_cost']\n",
    "ultimate_rev = full_merge[full_merge['plan'] == 'ultimate']['total_cost']\n",
    "\n",
    "alpha = 0.05\n",
    "t_stat, p_value = stats.ttest_ind(surf_rev, ultimate_rev)\n",
    "\n",
    "if p_value < alpha:\n",
    "    print(\"We reject the null hypothesis\")\n",
    "else:\n",
    "    print(\"We can't reject the null hypothesis\")\n",
    "\n"
   ]
  },
  {
   "cell_type": "markdown",
   "metadata": {},
   "source": [
    "[Test the hypothesis that the average revenue from users in the NY-NJ area is different from that of the users from the other regions.]"
   ]
  },
  {
   "cell_type": "markdown",
   "metadata": {},
   "source": [
    "[Formulate the null and the alternative hypotheses, choose the statistical test, decide on the alpha value.]"
   ]
  },
  {
   "cell_type": "markdown",
   "metadata": {},
   "source": [
    "**Null Hypothesis (H0):** The average total cost for users in the ‘NY-NJ-PA MSA’ state is equal to the average total cost for users in other states.\n",
    "\n",
    "**Alternative Hypothesis (H1):** The average total cost for users in the ‘NY-NJ-PA MSA’ state is not equal to the average total cost for users in other states."
   ]
  },
  {
   "cell_type": "markdown",
   "metadata": {},
   "source": [
    "The reason for selecting the t-test in this case is because you’re comparing the means of two independent groups to determine if there is a significant difference between them. The t-test is a common statistical method used for this purpose when the population standard deviations are unknown."
   ]
  },
  {
   "cell_type": "code",
   "execution_count": 47,
   "metadata": {},
   "outputs": [
    {
     "data": {
      "text/html": [
       "<div>\n",
       "<style scoped>\n",
       "    .dataframe tbody tr th:only-of-type {\n",
       "        vertical-align: middle;\n",
       "    }\n",
       "\n",
       "    .dataframe tbody tr th {\n",
       "        vertical-align: top;\n",
       "    }\n",
       "\n",
       "    .dataframe thead th {\n",
       "        text-align: right;\n",
       "    }\n",
       "</style>\n",
       "<table border=\"1\" class=\"dataframe\">\n",
       "  <thead>\n",
       "    <tr style=\"text-align: right;\">\n",
       "      <th></th>\n",
       "      <th>index_x</th>\n",
       "      <th>user_id</th>\n",
       "      <th>month</th>\n",
       "      <th>duration_count</th>\n",
       "      <th>duration_sum</th>\n",
       "      <th>index_y</th>\n",
       "      <th>messages_sent</th>\n",
       "      <th>index_x</th>\n",
       "      <th>mb_used</th>\n",
       "      <th>index_y</th>\n",
       "      <th>...</th>\n",
       "      <th>plan_name</th>\n",
       "      <th>extra_minutes</th>\n",
       "      <th>extra_messages</th>\n",
       "      <th>mb_used_rounded</th>\n",
       "      <th>extra_data</th>\n",
       "      <th>extra_minutes_cost</th>\n",
       "      <th>extra_messages_cost</th>\n",
       "      <th>extra_data_cost</th>\n",
       "      <th>total_cost</th>\n",
       "      <th>state</th>\n",
       "    </tr>\n",
       "  </thead>\n",
       "  <tbody>\n",
       "    <tr>\n",
       "      <th>1936</th>\n",
       "      <td>1698.0</td>\n",
       "      <td>1372</td>\n",
       "      <td>2018-12</td>\n",
       "      <td>57.0</td>\n",
       "      <td>405.0</td>\n",
       "      <td>1389.0</td>\n",
       "      <td>54.0</td>\n",
       "      <td>1728.0</td>\n",
       "      <td>18919.0</td>\n",
       "      <td>1728.0</td>\n",
       "      <td>...</td>\n",
       "      <td>surf</td>\n",
       "      <td>0.0</td>\n",
       "      <td>4.0</td>\n",
       "      <td>19456.0</td>\n",
       "      <td>4096.0</td>\n",
       "      <td>0.0</td>\n",
       "      <td>0.12</td>\n",
       "      <td>40.0</td>\n",
       "      <td>60.12</td>\n",
       "      <td>NY-NJ-PA MSA</td>\n",
       "    </tr>\n",
       "  </tbody>\n",
       "</table>\n",
       "<p>1 rows × 30 columns</p>\n",
       "</div>"
      ],
      "text/plain": [
       "      index_x  user_id    month  duration_count  duration_sum  index_y  \\\n",
       "1936   1698.0     1372  2018-12            57.0         405.0   1389.0   \n",
       "\n",
       "      messages_sent  index_x  mb_used  index_y  ...  plan_name extra_minutes  \\\n",
       "1936           54.0   1728.0  18919.0   1728.0  ...       surf           0.0   \n",
       "\n",
       "      extra_messages  mb_used_rounded  extra_data  extra_minutes_cost  \\\n",
       "1936             4.0          19456.0      4096.0                 0.0   \n",
       "\n",
       "      extra_messages_cost  extra_data_cost  total_cost         state  \n",
       "1936                 0.12             40.0       60.12  NY-NJ-PA MSA  \n",
       "\n",
       "[1 rows x 30 columns]"
      ]
     },
     "execution_count": 47,
     "metadata": {},
     "output_type": "execute_result"
    }
   ],
   "source": [
    "#Adding state column to the data frame\n",
    "plus_state = pd.merge(full_merge, users_df[['user_id', 'state']], on='user_id',how='left')\n",
    "#noticed there were leading spaces in the values of the state column which was the reason dataframes were left emtpy\n",
    "plus_state['state'] = plus_state['state'].str.strip()\n",
    "plus_state.sample()"
   ]
  },
  {
   "cell_type": "code",
   "execution_count": 48,
   "metadata": {},
   "outputs": [
    {
     "name": "stdout",
     "output_type": "stream",
     "text": [
      "pvalue: 0.044400408636489766\n",
      "We reject the null hypothesis\n"
     ]
    }
   ],
   "source": [
    "# Test the hypotheses\n",
    "ny_nj = plus_state[plus_state['state'] == 'NY-NJ-PA MSA']['total_cost']\n",
    "other = plus_state[plus_state['state'] != 'NY-NJ-PA MSA']['total_cost']\n",
    "\n",
    "t_stat, p_value = stats.ttest_ind(ny_nj, other)\n",
    "\n",
    "print('pvalue:', p_value)\n",
    "\n",
    "alpha =0.05\n",
    "\n",
    "if p_value < alpha:\n",
    "    print(\"We reject the null hypothesis\")\n",
    "else:\n",
    "    print(\"We can't reject the null hypothesis\")"
   ]
  },
  {
   "cell_type": "markdown",
   "metadata": {},
   "source": [
    "<div class=\"alert alert-danger\">\n",
    "<b>Reviewer's comment v1:</b>\n",
    "    \n",
    "Unfortunately `ny_nj` and `other` dataframes are empty. Could you please double check that? "
   ]
  },
  {
   "cell_type": "markdown",
   "metadata": {},
   "source": [
    "<div class=\"alert alert-success\">\n",
    "<b>Reviewer's comment v2:</b>\n",
    "    \n",
    "- Everything is correct here. Hypotheses have been formulated correctly. \n",
    "- Your conclusions based on the results are also correct.\n",
    "- You can also additionally compare the variances of the samples before testing hypotheses in order to understand with which equal_var parameter to use the ttest_ind test method (by default, True). Here you can manually calculate variances, or use Levene's statistic test (https://docs.scipy.org/doc/scipy/reference/generated/scipy.stats.levene.html) or Barlett's test (https: //docs.scipy .org / doc / scipy / reference / generated / scipy.stats.bartlett.html # scipy.stats.bartlett)\n",
    "- As a second approach you could also use `str.contains` to filter data: \n",
    "```.str.contains('NY-NJ', case=False)]['monthly_revenue'].dropna()```"
   ]
  },
  {
   "cell_type": "markdown",
   "metadata": {},
   "source": [
    "## General conclusion\n",
    "\n",
    "[List your important conclusions in this final section, make sure they cover all those important decisions (assumptions) that you've made and that led you to the way you processed and analyzed the data.]"
   ]
  },
  {
   "cell_type": "markdown",
   "metadata": {},
   "source": [
    "**Data Cleaning and Processing Decisions:**\n",
    "I decided to standardize the data types for all USD-related columns to floats for consistency having noticed multiple hyphenated cities in the city column and decided to separate them into different columns for clarity. I then then dropped the city column as it was not relevant to your analysis. I created new columns to hold additional city/state combinations to keep the data clean and preserve potentially useful information.\n",
    "\n",
    "**Key Observations:**\n",
    "Users on the ‘ultimate’ plan consistently have longer average call durations than those on the ‘surf’ plan throughout all months of 2018.\n",
    "Users on both plans increase their messaging as the year progresses, with ‘ultimate’ plan users sending more messages.\n",
    "Users on both the ‘surf’ and ‘ultimate’ plans tend to consume more internet traffic as the year progresses.\n",
    "\n",
    "**Conclusions:**\n",
    "The ‘ultimate’ plan generally brings in more revenue per user.\n",
    "The revenue from the ‘surf’ plan is more variable, and can sometimes be much higher than the average.\n",
    "The maximum revenue from a single user is higher in the ‘surf’ plan due to extra costs such as overage charges for minutes, messages, or data. While the ‘ultimate’ plan has a higher average revenue per user, the ‘surf’ plan has the potential for higher individual revenues due to extra data costs."
   ]
  },
  {
   "cell_type": "markdown",
   "metadata": {},
   "source": [
    "<div class=\"alert alert-success\" role=\"alert\">\n",
    "<b>Reviewer's comment v1:</b>\n",
    "    \n",
    "- Overall you conducted great research with correct interim findings, clean code and nice visualisation.\n",
    "- I also like your overall conclusions. It is very structured and provides insights about what you accomplished and recommendations to the business.\n",
    "    "
   ]
  }
 ],
 "metadata": {
  "ExecuteTimeLog": [
   {
    "duration": 828,
    "start_time": "2021-11-16T09:21:11.304Z"
   },
   {
    "duration": 893,
    "start_time": "2021-11-16T09:21:17.728Z"
   },
   {
    "duration": 1150,
    "start_time": "2021-11-16T09:21:29.568Z"
   },
   {
    "duration": 3,
    "start_time": "2021-11-16T09:24:14.495Z"
   },
   {
    "duration": 120,
    "start_time": "2021-11-16T09:24:46.630Z"
   },
   {
    "duration": 3,
    "start_time": "2021-11-16T09:28:27.882Z"
   },
   {
    "duration": 4,
    "start_time": "2021-11-16T09:29:54.281Z"
   },
   {
    "duration": 3,
    "start_time": "2021-11-16T09:30:45.936Z"
   },
   {
    "duration": 4,
    "start_time": "2021-11-16T09:31:06.300Z"
   },
   {
    "duration": 113,
    "start_time": "2021-11-16T09:31:37.208Z"
   },
   {
    "duration": 143,
    "start_time": "2021-11-16T09:31:48.656Z"
   },
   {
    "duration": 98,
    "start_time": "2021-11-16T09:31:55.678Z"
   },
   {
    "duration": 3,
    "start_time": "2021-11-16T09:32:08.535Z"
   },
   {
    "duration": 111,
    "start_time": "2021-11-16T09:32:10.120Z"
   },
   {
    "duration": 3,
    "start_time": "2021-11-16T09:32:15.732Z"
   },
   {
    "duration": 4,
    "start_time": "2021-11-16T09:32:29.423Z"
   },
   {
    "duration": 3,
    "start_time": "2021-11-16T10:03:03.074Z"
   },
   {
    "duration": 3,
    "start_time": "2021-11-16T10:10:01.288Z"
   },
   {
    "duration": 3,
    "start_time": "2021-11-16T10:10:46.923Z"
   },
   {
    "duration": 121,
    "start_time": "2021-11-16T10:37:46.494Z"
   },
   {
    "duration": 125,
    "start_time": "2021-11-16T10:38:20.632Z"
   },
   {
    "duration": 112,
    "start_time": "2021-11-16T10:46:53.001Z"
   },
   {
    "duration": 110,
    "start_time": "2021-11-16T10:48:25.775Z"
   },
   {
    "duration": 3,
    "start_time": "2021-11-16T10:50:18.720Z"
   },
   {
    "duration": 4,
    "start_time": "2021-11-16T10:50:37.649Z"
   },
   {
    "duration": 2,
    "start_time": "2021-11-16T10:50:51.884Z"
   },
   {
    "duration": 3,
    "start_time": "2021-11-16T10:51:56.237Z"
   },
   {
    "duration": 101,
    "start_time": "2021-11-16T10:53:13.791Z"
   },
   {
    "duration": 3,
    "start_time": "2021-11-16T10:55:59.186Z"
   },
   {
    "duration": 3,
    "start_time": "2021-11-16T10:56:10.751Z"
   },
   {
    "duration": 3,
    "start_time": "2021-11-16T10:56:49.038Z"
   },
   {
    "duration": 3,
    "start_time": "2021-11-16T10:56:49.174Z"
   },
   {
    "duration": 4,
    "start_time": "2021-11-16T10:56:49.414Z"
   },
   {
    "duration": 3,
    "start_time": "2021-11-16T10:56:49.680Z"
   },
   {
    "duration": 3,
    "start_time": "2021-11-16T10:56:50.370Z"
   },
   {
    "duration": 114,
    "start_time": "2021-11-16T10:59:34.518Z"
   },
   {
    "duration": 3,
    "start_time": "2021-11-16T11:01:41.201Z"
   },
   {
    "duration": 116,
    "start_time": "2021-11-16T11:01:48.754Z"
   },
   {
    "duration": 3,
    "start_time": "2021-11-16T11:02:16.685Z"
   },
   {
    "duration": 3,
    "start_time": "2021-11-16T11:02:19.479Z"
   },
   {
    "duration": 3,
    "start_time": "2021-11-16T11:02:47.067Z"
   },
   {
    "duration": 3,
    "start_time": "2021-11-16T11:02:49.353Z"
   },
   {
    "duration": 3,
    "start_time": "2021-11-16T11:03:07.835Z"
   },
   {
    "duration": 3,
    "start_time": "2021-11-16T11:03:07.953Z"
   },
   {
    "duration": 112,
    "start_time": "2021-11-16T11:07:52.072Z"
   },
   {
    "duration": 187,
    "start_time": "2021-11-16T11:09:23.468Z"
   },
   {
    "duration": 4,
    "start_time": "2021-11-16T11:10:01.455Z"
   },
   {
    "duration": 3,
    "start_time": "2021-11-16T11:10:05.069Z"
   },
   {
    "duration": 4,
    "start_time": "2021-11-16T11:10:13.376Z"
   },
   {
    "duration": 3,
    "start_time": "2021-11-16T11:10:14.434Z"
   },
   {
    "duration": 3,
    "start_time": "2021-11-16T11:10:22.853Z"
   },
   {
    "duration": 4,
    "start_time": "2021-11-16T11:27:29.279Z"
   },
   {
    "duration": 4,
    "start_time": "2021-11-16T11:29:08.919Z"
   },
   {
    "duration": 118,
    "start_time": "2021-11-16T11:29:46.703Z"
   },
   {
    "duration": 437,
    "start_time": "2021-11-16T11:36:02.181Z"
   },
   {
    "duration": 157,
    "start_time": "2021-11-16T11:36:14.388Z"
   },
   {
    "duration": 207,
    "start_time": "2021-11-16T11:47:15.898Z"
   },
   {
    "duration": 3,
    "start_time": "2021-11-16T11:53:52.092Z"
   },
   {
    "duration": 3,
    "start_time": "2021-11-16T11:53:52.236Z"
   },
   {
    "duration": 3,
    "start_time": "2021-11-16T11:59:12.005Z"
   },
   {
    "duration": 112,
    "start_time": "2021-11-16T12:00:33.446Z"
   },
   {
    "duration": 3,
    "start_time": "2021-11-16T12:02:14.453Z"
   },
   {
    "duration": 3,
    "start_time": "2021-11-16T12:02:39.512Z"
   },
   {
    "duration": 106,
    "start_time": "2021-11-16T12:03:03.460Z"
   },
   {
    "duration": 3,
    "start_time": "2021-11-17T20:37:21.139Z"
   },
   {
    "duration": 3,
    "start_time": "2021-11-17T20:37:22.229Z"
   },
   {
    "duration": 3,
    "start_time": "2021-11-17T20:38:38.806Z"
   },
   {
    "duration": 3,
    "start_time": "2021-11-17T20:38:41.958Z"
   },
   {
    "duration": 3,
    "start_time": "2021-11-17T20:43:46.551Z"
   },
   {
    "duration": 4,
    "start_time": "2021-11-17T20:58:21.835Z"
   },
   {
    "duration": 3,
    "start_time": "2021-11-17T20:59:21.872Z"
   },
   {
    "duration": 4,
    "start_time": "2021-11-17T20:59:45.352Z"
   },
   {
    "duration": 4,
    "start_time": "2021-11-17T20:59:49.646Z"
   },
   {
    "duration": 159,
    "start_time": "2021-11-17T21:02:26.949Z"
   },
   {
    "duration": 3,
    "start_time": "2021-11-17T21:03:53.461Z"
   },
   {
    "duration": 3,
    "start_time": "2021-11-17T21:03:53.694Z"
   },
   {
    "duration": 3,
    "start_time": "2021-11-17T21:05:28.145Z"
   },
   {
    "duration": 116,
    "start_time": "2021-11-17T21:05:57.787Z"
   },
   {
    "duration": 3,
    "start_time": "2021-11-17T21:06:37.993Z"
   },
   {
    "duration": 3,
    "start_time": "2021-11-17T21:06:38.261Z"
   },
   {
    "duration": 3,
    "start_time": "2021-11-17T21:11:54.358Z"
   },
   {
    "duration": 3,
    "start_time": "2021-11-17T21:12:43.846Z"
   },
   {
    "duration": 4,
    "start_time": "2021-11-17T21:13:08.773Z"
   },
   {
    "duration": 3,
    "start_time": "2021-11-17T21:14:44.441Z"
   },
   {
    "duration": 3,
    "start_time": "2021-11-17T21:15:42.059Z"
   },
   {
    "duration": 4,
    "start_time": "2021-11-17T21:15:51.995Z"
   },
   {
    "duration": 3,
    "start_time": "2021-11-17T21:15:53.923Z"
   },
   {
    "duration": 3,
    "start_time": "2021-11-17T21:15:55.282Z"
   },
   {
    "duration": 3,
    "start_time": "2021-11-17T21:16:28.492Z"
   },
   {
    "duration": 3,
    "start_time": "2021-11-17T21:16:32.603Z"
   },
   {
    "duration": 3,
    "start_time": "2021-11-17T21:17:06.941Z"
   },
   {
    "duration": 98,
    "start_time": "2021-11-17T21:18:05.733Z"
   },
   {
    "duration": 4,
    "start_time": "2021-11-17T21:21:35.255Z"
   },
   {
    "duration": 3,
    "start_time": "2021-11-17T21:21:37.804Z"
   },
   {
    "duration": 4,
    "start_time": "2021-11-17T21:23:06.071Z"
   },
   {
    "duration": 3,
    "start_time": "2021-11-17T21:23:24.799Z"
   },
   {
    "duration": 3,
    "start_time": "2021-11-17T21:23:32.591Z"
   },
   {
    "duration": 98,
    "start_time": "2021-11-17T21:28:31.559Z"
   },
   {
    "duration": 3,
    "start_time": "2021-11-17T21:28:45.448Z"
   },
   {
    "duration": 3,
    "start_time": "2021-11-17T21:29:17.303Z"
   },
   {
    "duration": 3,
    "start_time": "2021-11-17T21:29:29.617Z"
   },
   {
    "duration": 3,
    "start_time": "2021-11-17T21:29:32.681Z"
   },
   {
    "duration": 3,
    "start_time": "2021-11-17T21:36:11.474Z"
   },
   {
    "duration": 3,
    "start_time": "2021-11-17T21:36:14.791Z"
   },
   {
    "duration": 3,
    "start_time": "2021-11-17T21:36:53.943Z"
   },
   {
    "duration": 3,
    "start_time": "2021-11-17T21:36:56.165Z"
   },
   {
    "duration": 4,
    "start_time": "2021-11-17T21:37:16.590Z"
   },
   {
    "duration": 3,
    "start_time": "2021-11-17T21:37:22.702Z"
   },
   {
    "duration": 4,
    "start_time": "2021-11-17T21:38:03.479Z"
   },
   {
    "duration": 3,
    "start_time": "2021-11-17T21:38:08.601Z"
   },
   {
    "duration": 3,
    "start_time": "2021-11-17T21:38:12.928Z"
   },
   {
    "duration": 3,
    "start_time": "2021-11-17T21:38:48.896Z"
   },
   {
    "duration": 2,
    "start_time": "2021-11-17T21:38:49.171Z"
   },
   {
    "duration": 4,
    "start_time": "2021-11-17T21:39:57.889Z"
   },
   {
    "duration": 3,
    "start_time": "2021-11-17T21:39:58.057Z"
   },
   {
    "duration": 3,
    "start_time": "2021-11-17T21:41:20.108Z"
   },
   {
    "duration": 3,
    "start_time": "2021-11-17T21:41:20.629Z"
   },
   {
    "duration": 3,
    "start_time": "2021-11-17T21:42:49.136Z"
   },
   {
    "duration": 3,
    "start_time": "2021-11-17T21:43:15.137Z"
   },
   {
    "duration": 4,
    "start_time": "2021-11-17T21:43:16.766Z"
   },
   {
    "duration": 4,
    "start_time": "2021-11-17T21:43:31.711Z"
   },
   {
    "duration": 3,
    "start_time": "2021-11-17T21:43:36.312Z"
   },
   {
    "duration": 4,
    "start_time": "2021-11-17T21:45:08.825Z"
   },
   {
    "duration": 4,
    "start_time": "2021-11-17T21:45:10.119Z"
   },
   {
    "duration": 4,
    "start_time": "2021-11-17T21:45:13.748Z"
   },
   {
    "duration": 3,
    "start_time": "2021-11-17T21:45:22.219Z"
   },
   {
    "duration": 3,
    "start_time": "2021-11-17T21:45:33.412Z"
   },
   {
    "duration": 2,
    "start_time": "2021-11-17T21:46:01.885Z"
   },
   {
    "duration": 3,
    "start_time": "2021-11-17T21:46:03.628Z"
   },
   {
    "duration": 107,
    "start_time": "2021-11-17T21:47:32.512Z"
   },
   {
    "duration": 103,
    "start_time": "2021-11-17T21:50:36.243Z"
   },
   {
    "duration": 3,
    "start_time": "2021-11-18T06:28:31.440Z"
   },
   {
    "duration": 3,
    "start_time": "2021-11-18T06:29:00.168Z"
   },
   {
    "duration": 3,
    "start_time": "2021-11-18T06:31:27.008Z"
   },
   {
    "duration": 2,
    "start_time": "2021-11-18T06:35:34.288Z"
   },
   {
    "duration": 2,
    "start_time": "2021-11-18T06:38:04.527Z"
   },
   {
    "duration": 306,
    "start_time": "2024-06-02T11:26:42.486Z"
   },
   {
    "duration": 543,
    "start_time": "2024-06-02T11:26:47.555Z"
   },
   {
    "duration": 4011,
    "start_time": "2024-06-02T11:27:03.567Z"
   },
   {
    "duration": 0,
    "start_time": "2024-06-02T11:27:07.581Z"
   },
   {
    "duration": 522,
    "start_time": "2024-06-02T11:27:14.585Z"
   },
   {
    "duration": 802,
    "start_time": "2024-06-02T11:27:18.615Z"
   },
   {
    "duration": 126,
    "start_time": "2024-06-02T11:28:33.694Z"
   },
   {
    "duration": 148,
    "start_time": "2024-06-02T11:28:49.159Z"
   },
   {
    "duration": 130,
    "start_time": "2024-06-02T11:29:03.463Z"
   },
   {
    "duration": 328,
    "start_time": "2024-06-02T11:30:20.206Z"
   },
   {
    "duration": 25,
    "start_time": "2024-06-02T11:30:58.245Z"
   },
   {
    "duration": 23,
    "start_time": "2024-06-02T11:31:09.396Z"
   },
   {
    "duration": 488,
    "start_time": "2024-06-02T11:33:58.755Z"
   },
   {
    "duration": 8,
    "start_time": "2024-06-02T11:34:09.029Z"
   },
   {
    "duration": 22,
    "start_time": "2024-06-02T11:36:02.525Z"
   },
   {
    "duration": 8,
    "start_time": "2024-06-02T12:37:13.024Z"
   },
   {
    "duration": 12,
    "start_time": "2024-06-02T12:37:24.526Z"
   },
   {
    "duration": 13,
    "start_time": "2024-06-02T12:37:47.894Z"
   },
   {
    "duration": 14,
    "start_time": "2024-06-02T12:38:40.066Z"
   },
   {
    "duration": 21,
    "start_time": "2024-06-02T12:38:45.154Z"
   },
   {
    "duration": 13,
    "start_time": "2024-06-02T12:38:55.916Z"
   },
   {
    "duration": 16,
    "start_time": "2024-06-02T12:39:40.384Z"
   },
   {
    "duration": 15,
    "start_time": "2024-06-02T12:40:14.824Z"
   },
   {
    "duration": 18,
    "start_time": "2024-06-02T12:40:28.181Z"
   },
   {
    "duration": 31,
    "start_time": "2024-06-02T12:48:00.532Z"
   },
   {
    "duration": 27,
    "start_time": "2024-06-02T13:00:55.664Z"
   },
   {
    "duration": 8,
    "start_time": "2024-06-02T13:01:33.575Z"
   },
   {
    "duration": 22,
    "start_time": "2024-06-02T14:42:10.838Z"
   },
   {
    "duration": 8,
    "start_time": "2024-06-02T14:44:02.075Z"
   },
   {
    "duration": 18,
    "start_time": "2024-06-02T14:44:11.203Z"
   },
   {
    "duration": 19,
    "start_time": "2024-06-02T14:44:28.679Z"
   },
   {
    "duration": 137,
    "start_time": "2024-06-02T14:45:04.120Z"
   },
   {
    "duration": 513,
    "start_time": "2024-06-02T14:45:17.583Z"
   },
   {
    "duration": 47,
    "start_time": "2024-06-02T14:45:34.748Z"
   },
   {
    "duration": 27,
    "start_time": "2024-06-02T14:45:44.086Z"
   },
   {
    "duration": 46,
    "start_time": "2024-06-02T14:45:47.630Z"
   },
   {
    "duration": 18,
    "start_time": "2024-06-02T14:45:54.215Z"
   },
   {
    "duration": 19,
    "start_time": "2024-06-02T14:47:46.697Z"
   },
   {
    "duration": 33,
    "start_time": "2024-06-02T14:47:50.560Z"
   },
   {
    "duration": 615,
    "start_time": "2024-06-02T14:48:09.367Z"
   },
   {
    "duration": 15,
    "start_time": "2024-06-02T14:48:14.411Z"
   },
   {
    "duration": 14,
    "start_time": "2024-06-02T14:48:23.285Z"
   },
   {
    "duration": 18,
    "start_time": "2024-06-02T15:12:30.905Z"
   },
   {
    "duration": 24,
    "start_time": "2024-06-02T16:42:17.548Z"
   },
   {
    "duration": 29,
    "start_time": "2024-06-02T16:42:26.316Z"
   },
   {
    "duration": 19,
    "start_time": "2024-06-02T16:43:50.047Z"
   },
   {
    "duration": 21,
    "start_time": "2024-06-02T16:44:28.333Z"
   },
   {
    "duration": 29,
    "start_time": "2024-06-02T16:44:40.697Z"
   },
   {
    "duration": 19,
    "start_time": "2024-06-02T16:44:48.367Z"
   },
   {
    "duration": 27,
    "start_time": "2024-06-02T16:54:44.027Z"
   },
   {
    "duration": 20,
    "start_time": "2024-06-02T16:55:13.518Z"
   },
   {
    "duration": 20,
    "start_time": "2024-06-02T16:55:22.198Z"
   },
   {
    "duration": 20,
    "start_time": "2024-06-02T16:56:13.878Z"
   },
   {
    "duration": 21,
    "start_time": "2024-06-02T16:56:26.474Z"
   },
   {
    "duration": 293,
    "start_time": "2024-06-02T16:56:43.611Z"
   },
   {
    "duration": 17,
    "start_time": "2024-06-02T16:56:52.086Z"
   },
   {
    "duration": 39,
    "start_time": "2024-06-02T16:57:01.096Z"
   },
   {
    "duration": 30,
    "start_time": "2024-06-02T16:57:12.275Z"
   },
   {
    "duration": 23,
    "start_time": "2024-06-02T16:58:24.954Z"
   },
   {
    "duration": 21,
    "start_time": "2024-06-02T16:58:34.569Z"
   },
   {
    "duration": 27,
    "start_time": "2024-06-02T16:58:44.597Z"
   },
   {
    "duration": 70,
    "start_time": "2024-06-02T16:59:22.865Z"
   },
   {
    "duration": 27,
    "start_time": "2024-06-02T16:59:31.561Z"
   },
   {
    "duration": 24,
    "start_time": "2024-06-02T16:59:41.638Z"
   },
   {
    "duration": 277,
    "start_time": "2024-06-02T16:59:51.591Z"
   },
   {
    "duration": 17,
    "start_time": "2024-06-02T16:59:55.046Z"
   },
   {
    "duration": 17,
    "start_time": "2024-06-02T16:59:58.725Z"
   },
   {
    "duration": 12,
    "start_time": "2024-06-02T17:02:34.367Z"
   },
   {
    "duration": 17,
    "start_time": "2024-06-02T17:04:04.938Z"
   },
   {
    "duration": 29,
    "start_time": "2024-06-02T17:04:57.436Z"
   },
   {
    "duration": 79,
    "start_time": "2024-06-02T17:10:28.388Z"
   },
   {
    "duration": 24,
    "start_time": "2024-06-02T17:10:52.465Z"
   },
   {
    "duration": 21,
    "start_time": "2024-06-02T17:11:08.636Z"
   },
   {
    "duration": 271,
    "start_time": "2024-06-02T17:11:16.554Z"
   },
   {
    "duration": 18,
    "start_time": "2024-06-02T17:11:24.118Z"
   },
   {
    "duration": 276,
    "start_time": "2024-06-02T17:12:56.515Z"
   },
   {
    "duration": 164,
    "start_time": "2024-06-02T17:13:36.456Z"
   },
   {
    "duration": 23,
    "start_time": "2024-06-02T17:13:53.586Z"
   },
   {
    "duration": 326,
    "start_time": "2024-06-03T13:53:33.212Z"
   },
   {
    "duration": 4848,
    "start_time": "2024-06-03T13:53:41.646Z"
   },
   {
    "duration": 362,
    "start_time": "2024-06-03T13:53:46.498Z"
   },
   {
    "duration": 33,
    "start_time": "2024-06-03T13:53:56.681Z"
   },
   {
    "duration": 15,
    "start_time": "2024-06-03T13:54:00.632Z"
   },
   {
    "duration": 26,
    "start_time": "2024-06-03T13:54:04.052Z"
   },
   {
    "duration": 18,
    "start_time": "2024-06-03T13:58:14.874Z"
   },
   {
    "duration": 33,
    "start_time": "2024-06-03T13:58:29.586Z"
   },
   {
    "duration": 34,
    "start_time": "2024-06-03T14:30:52.953Z"
   },
   {
    "duration": 14,
    "start_time": "2024-06-03T14:31:26.437Z"
   },
   {
    "duration": 15,
    "start_time": "2024-06-03T14:31:45.033Z"
   },
   {
    "duration": 14,
    "start_time": "2024-06-03T14:32:06.593Z"
   },
   {
    "duration": 14,
    "start_time": "2024-06-03T15:00:19.512Z"
   },
   {
    "duration": 13,
    "start_time": "2024-06-03T15:00:32.864Z"
   },
   {
    "duration": 111,
    "start_time": "2024-06-03T15:28:37.791Z"
   },
   {
    "duration": 11,
    "start_time": "2024-06-03T15:29:09.671Z"
   },
   {
    "duration": 663,
    "start_time": "2024-06-03T15:29:28.670Z"
   },
   {
    "duration": 49,
    "start_time": "2024-06-03T15:29:41.122Z"
   },
   {
    "duration": 13,
    "start_time": "2024-06-03T15:30:22.590Z"
   },
   {
    "duration": 65,
    "start_time": "2024-06-03T16:06:59.342Z"
   },
   {
    "duration": 63,
    "start_time": "2024-06-03T16:07:17.912Z"
   },
   {
    "duration": 64,
    "start_time": "2024-06-03T16:07:39.393Z"
   },
   {
    "duration": 80,
    "start_time": "2024-06-03T16:07:53.270Z"
   },
   {
    "duration": 69,
    "start_time": "2024-06-03T16:15:48.350Z"
   },
   {
    "duration": 19,
    "start_time": "2024-06-03T16:17:24.120Z"
   },
   {
    "duration": 4,
    "start_time": "2024-06-03T16:17:52.141Z"
   },
   {
    "duration": 261,
    "start_time": "2024-06-03T16:17:54.063Z"
   },
   {
    "duration": 22,
    "start_time": "2024-06-03T16:18:00.013Z"
   },
   {
    "duration": 14,
    "start_time": "2024-06-03T16:18:04.941Z"
   },
   {
    "duration": 5,
    "start_time": "2024-06-03T16:18:19.631Z"
   },
   {
    "duration": 13,
    "start_time": "2024-06-03T16:18:22.993Z"
   },
   {
    "duration": 36,
    "start_time": "2024-06-03T16:18:35.322Z"
   },
   {
    "duration": 15,
    "start_time": "2024-06-03T16:18:41.402Z"
   },
   {
    "duration": 14,
    "start_time": "2024-06-03T16:18:51.661Z"
   },
   {
    "duration": 12,
    "start_time": "2024-06-03T16:23:11.092Z"
   },
   {
    "duration": 12,
    "start_time": "2024-06-03T16:23:36.142Z"
   },
   {
    "duration": 11,
    "start_time": "2024-06-03T16:38:30.234Z"
   },
   {
    "duration": 14,
    "start_time": "2024-06-03T16:38:35.223Z"
   },
   {
    "duration": 15,
    "start_time": "2024-06-03T16:39:06.694Z"
   },
   {
    "duration": 17,
    "start_time": "2024-06-03T16:39:16.645Z"
   },
   {
    "duration": 294,
    "start_time": "2024-06-03T16:39:31.425Z"
   },
   {
    "duration": 15,
    "start_time": "2024-06-03T16:39:39.171Z"
   },
   {
    "duration": 16,
    "start_time": "2024-06-03T16:42:10.275Z"
   },
   {
    "duration": 15,
    "start_time": "2024-06-03T16:42:19.691Z"
   },
   {
    "duration": 15,
    "start_time": "2024-06-03T16:48:53.032Z"
   },
   {
    "duration": 15,
    "start_time": "2024-06-03T16:56:39.361Z"
   },
   {
    "duration": 88,
    "start_time": "2024-06-03T17:15:37.879Z"
   },
   {
    "duration": 43,
    "start_time": "2024-06-03T17:15:48.721Z"
   },
   {
    "duration": 49,
    "start_time": "2024-06-03T17:15:59.493Z"
   },
   {
    "duration": 59,
    "start_time": "2024-06-03T17:16:09.106Z"
   },
   {
    "duration": 48,
    "start_time": "2024-06-03T17:16:34.553Z"
   },
   {
    "duration": 4803,
    "start_time": "2024-06-04T11:39:03.323Z"
   },
   {
    "duration": 377,
    "start_time": "2024-06-04T11:39:10.378Z"
   },
   {
    "duration": 34,
    "start_time": "2024-06-04T11:42:28.549Z"
   },
   {
    "duration": 33,
    "start_time": "2024-06-04T11:43:10.106Z"
   },
   {
    "duration": 13,
    "start_time": "2024-06-04T12:00:26.739Z"
   },
   {
    "duration": 7,
    "start_time": "2024-06-04T12:31:20.308Z"
   },
   {
    "duration": 4,
    "start_time": "2024-06-04T12:40:23.546Z"
   },
   {
    "duration": 288,
    "start_time": "2024-06-04T12:40:26.490Z"
   },
   {
    "duration": 1205,
    "start_time": "2024-06-04T19:50:17.737Z"
   },
   {
    "duration": 270,
    "start_time": "2024-06-04T19:50:21.186Z"
   },
   {
    "duration": 4,
    "start_time": "2024-06-04T20:51:04.760Z"
   },
   {
    "duration": 285,
    "start_time": "2024-06-04T20:51:06.857Z"
   },
   {
    "duration": 1160,
    "start_time": "2024-06-05T11:13:55.610Z"
   },
   {
    "duration": 257,
    "start_time": "2024-06-05T11:13:57.755Z"
   },
   {
    "duration": 391,
    "start_time": "2024-06-05T11:16:54.511Z"
   },
   {
    "duration": 4,
    "start_time": "2024-06-05T11:17:01.263Z"
   },
   {
    "duration": 33,
    "start_time": "2024-06-05T11:17:50.642Z"
   },
   {
    "duration": 59,
    "start_time": "2024-06-05T11:17:55.393Z"
   },
   {
    "duration": 34,
    "start_time": "2024-06-05T11:18:03.281Z"
   },
   {
    "duration": 35,
    "start_time": "2024-06-05T11:19:15.322Z"
   },
   {
    "duration": 14,
    "start_time": "2024-06-05T11:26:27.284Z"
   },
   {
    "duration": 860,
    "start_time": "2024-06-05T11:35:00.962Z"
   },
   {
    "duration": 80,
    "start_time": "2024-06-05T11:35:27.674Z"
   },
   {
    "duration": 17,
    "start_time": "2024-06-05T11:35:36.433Z"
   },
   {
    "duration": 74,
    "start_time": "2024-06-05T11:35:38.753Z"
   },
   {
    "duration": 60,
    "start_time": "2024-06-05T11:35:54.524Z"
   },
   {
    "duration": 39,
    "start_time": "2024-06-05T11:48:08.703Z"
   },
   {
    "duration": 65,
    "start_time": "2024-06-05T12:15:05.864Z"
   },
   {
    "duration": 92,
    "start_time": "2024-06-05T12:19:24.922Z"
   },
   {
    "duration": 44,
    "start_time": "2024-06-05T12:19:40.881Z"
   },
   {
    "duration": 49,
    "start_time": "2024-06-05T12:19:46.447Z"
   },
   {
    "duration": 154,
    "start_time": "2024-06-05T12:20:01.308Z"
   },
   {
    "duration": 88,
    "start_time": "2024-06-05T12:35:31.254Z"
   },
   {
    "duration": 10,
    "start_time": "2024-06-05T12:35:44.424Z"
   },
   {
    "duration": 273,
    "start_time": "2024-06-05T12:36:02.626Z"
   },
   {
    "duration": 16,
    "start_time": "2024-06-05T12:36:42.240Z"
   },
   {
    "duration": 38,
    "start_time": "2024-06-05T13:38:38.594Z"
   },
   {
    "duration": 272,
    "start_time": "2024-06-05T13:39:00.615Z"
   },
   {
    "duration": 62,
    "start_time": "2024-06-05T13:39:15.338Z"
   },
   {
    "duration": 26,
    "start_time": "2024-06-05T13:39:31.115Z"
   },
   {
    "duration": 49,
    "start_time": "2024-06-05T13:39:42.484Z"
   },
   {
    "duration": 15,
    "start_time": "2024-06-05T13:39:50.653Z"
   },
   {
    "duration": 13,
    "start_time": "2024-06-05T13:40:50.716Z"
   },
   {
    "duration": 48,
    "start_time": "2024-06-05T13:41:09.214Z"
   },
   {
    "duration": 14,
    "start_time": "2024-06-05T13:41:23.764Z"
   },
   {
    "duration": 14,
    "start_time": "2024-06-05T13:42:07.794Z"
   },
   {
    "duration": 17,
    "start_time": "2024-06-05T13:42:36.644Z"
   },
   {
    "duration": 92,
    "start_time": "2024-06-05T13:42:51.812Z"
   },
   {
    "duration": 12,
    "start_time": "2024-06-05T13:43:02.760Z"
   },
   {
    "duration": 11,
    "start_time": "2024-06-05T13:43:07.654Z"
   },
   {
    "duration": 31,
    "start_time": "2024-06-05T13:44:02.254Z"
   },
   {
    "duration": 44,
    "start_time": "2024-06-05T14:12:19.994Z"
   },
   {
    "duration": 27,
    "start_time": "2024-06-05T14:12:29.275Z"
   },
   {
    "duration": 60,
    "start_time": "2024-06-05T14:12:32.704Z"
   },
   {
    "duration": 4,
    "start_time": "2024-06-05T14:15:23.500Z"
   },
   {
    "duration": 34,
    "start_time": "2024-06-05T14:15:26.313Z"
   },
   {
    "duration": 48,
    "start_time": "2024-06-05T14:16:49.766Z"
   },
   {
    "duration": 80,
    "start_time": "2024-06-05T14:17:29.663Z"
   },
   {
    "duration": 347,
    "start_time": "2024-06-05T14:18:03.422Z"
   },
   {
    "duration": 28,
    "start_time": "2024-06-05T14:18:17.304Z"
   },
   {
    "duration": 29,
    "start_time": "2024-06-05T14:18:19.794Z"
   },
   {
    "duration": 358,
    "start_time": "2024-06-05T14:19:22.054Z"
   },
   {
    "duration": 8,
    "start_time": "2024-06-05T14:20:51.314Z"
   },
   {
    "duration": 161,
    "start_time": "2024-06-05T14:21:14.754Z"
   },
   {
    "duration": 20,
    "start_time": "2024-06-05T14:21:30.012Z"
   },
   {
    "duration": 31,
    "start_time": "2024-06-05T14:21:32.334Z"
   },
   {
    "duration": 75,
    "start_time": "2024-06-05T14:21:59.293Z"
   },
   {
    "duration": 123,
    "start_time": "2024-06-05T14:22:32.314Z"
   },
   {
    "duration": 23,
    "start_time": "2024-06-05T14:22:44.674Z"
   },
   {
    "duration": 26,
    "start_time": "2024-06-05T14:22:47.544Z"
   },
   {
    "duration": 7,
    "start_time": "2024-06-05T14:23:00.828Z"
   },
   {
    "duration": 8,
    "start_time": "2024-06-05T14:23:09.652Z"
   },
   {
    "duration": 266,
    "start_time": "2024-06-05T14:23:35.812Z"
   },
   {
    "duration": 401,
    "start_time": "2024-06-05T14:23:44.899Z"
   },
   {
    "duration": 24,
    "start_time": "2024-06-05T14:24:07.434Z"
   },
   {
    "duration": 15,
    "start_time": "2024-06-05T14:24:33.534Z"
   },
   {
    "duration": 90,
    "start_time": "2024-06-05T14:24:41.444Z"
   },
   {
    "duration": 163,
    "start_time": "2024-06-05T14:24:56.582Z"
   },
   {
    "duration": 19,
    "start_time": "2024-06-05T14:25:11.992Z"
   },
   {
    "duration": 25,
    "start_time": "2024-06-05T14:25:42.162Z"
   },
   {
    "duration": 9,
    "start_time": "2024-06-05T14:34:36.982Z"
   },
   {
    "duration": 18,
    "start_time": "2024-06-05T14:34:41.494Z"
   },
   {
    "duration": 7,
    "start_time": "2024-06-05T14:34:54.417Z"
   },
   {
    "duration": 20,
    "start_time": "2024-06-05T14:35:22.021Z"
   },
   {
    "duration": 13,
    "start_time": "2024-06-05T14:36:45.282Z"
   },
   {
    "duration": 13,
    "start_time": "2024-06-05T14:46:44.863Z"
   },
   {
    "duration": 29,
    "start_time": "2024-06-05T14:46:52.778Z"
   },
   {
    "duration": 21,
    "start_time": "2024-06-05T14:47:06.433Z"
   },
   {
    "duration": 12,
    "start_time": "2024-06-05T14:47:49.094Z"
   },
   {
    "duration": 67,
    "start_time": "2024-06-05T14:49:03.807Z"
   },
   {
    "duration": 41,
    "start_time": "2024-06-05T15:10:43.752Z"
   },
   {
    "duration": 10,
    "start_time": "2024-06-05T15:11:30.835Z"
   },
   {
    "duration": 14,
    "start_time": "2024-06-05T15:11:51.646Z"
   },
   {
    "duration": 33,
    "start_time": "2024-06-05T15:12:33.232Z"
   },
   {
    "duration": 58,
    "start_time": "2024-06-05T15:12:38.605Z"
   },
   {
    "duration": 5,
    "start_time": "2024-06-05T15:12:44.542Z"
   },
   {
    "duration": 7,
    "start_time": "2024-06-05T15:21:17.706Z"
   },
   {
    "duration": 13,
    "start_time": "2024-06-05T15:21:29.604Z"
   },
   {
    "duration": 87,
    "start_time": "2024-06-05T15:42:55.363Z"
   },
   {
    "duration": 38,
    "start_time": "2024-06-05T15:43:14.851Z"
   },
   {
    "duration": 53,
    "start_time": "2024-06-05T15:43:25.512Z"
   },
   {
    "duration": 19,
    "start_time": "2024-06-05T17:00:17.203Z"
   },
   {
    "duration": 94,
    "start_time": "2024-06-05T17:00:36.508Z"
   },
   {
    "duration": 14,
    "start_time": "2024-06-05T17:01:06.175Z"
   },
   {
    "duration": 22,
    "start_time": "2024-06-05T17:01:37.363Z"
   },
   {
    "duration": 1450,
    "start_time": "2024-06-05T17:05:15.065Z"
   },
   {
    "duration": 1527,
    "start_time": "2024-06-05T17:05:30.833Z"
   },
   {
    "duration": 314,
    "start_time": "2024-06-05T17:08:06.133Z"
   },
   {
    "duration": 1112,
    "start_time": "2024-06-05T17:08:15.883Z"
   },
   {
    "duration": 364,
    "start_time": "2024-06-05T17:08:19.574Z"
   },
   {
    "duration": 5,
    "start_time": "2024-06-05T17:08:50.906Z"
   },
   {
    "duration": 269,
    "start_time": "2024-06-05T17:08:50.915Z"
   },
   {
    "duration": 30,
    "start_time": "2024-06-05T17:08:51.187Z"
   },
   {
    "duration": 16,
    "start_time": "2024-06-05T17:08:51.220Z"
   },
   {
    "duration": 26,
    "start_time": "2024-06-05T17:08:51.242Z"
   },
   {
    "duration": 9,
    "start_time": "2024-06-05T17:08:51.270Z"
   },
   {
    "duration": 51,
    "start_time": "2024-06-05T17:08:51.282Z"
   },
   {
    "duration": 44,
    "start_time": "2024-06-05T17:08:51.337Z"
   },
   {
    "duration": 15,
    "start_time": "2024-06-05T17:08:51.384Z"
   },
   {
    "duration": 53,
    "start_time": "2024-06-05T17:08:51.402Z"
   },
   {
    "duration": 36,
    "start_time": "2024-06-05T17:08:51.458Z"
   },
   {
    "duration": 45,
    "start_time": "2024-06-05T17:08:51.498Z"
   },
   {
    "duration": 16,
    "start_time": "2024-06-05T17:08:51.546Z"
   },
   {
    "duration": 128,
    "start_time": "2024-06-05T17:08:51.568Z"
   },
   {
    "duration": 50,
    "start_time": "2024-06-05T17:08:51.699Z"
   },
   {
    "duration": 15,
    "start_time": "2024-06-05T17:08:51.754Z"
   },
   {
    "duration": 78,
    "start_time": "2024-06-05T17:08:51.772Z"
   },
   {
    "duration": 33,
    "start_time": "2024-06-05T17:08:51.853Z"
   },
   {
    "duration": 13,
    "start_time": "2024-06-05T17:08:51.890Z"
   },
   {
    "duration": 60,
    "start_time": "2024-06-05T17:08:51.934Z"
   },
   {
    "duration": 6,
    "start_time": "2024-06-05T17:08:51.997Z"
   },
   {
    "duration": 43,
    "start_time": "2024-06-05T17:08:52.006Z"
   },
   {
    "duration": 14,
    "start_time": "2024-06-05T17:08:52.052Z"
   },
   {
    "duration": 13,
    "start_time": "2024-06-05T17:08:52.069Z"
   },
   {
    "duration": 52,
    "start_time": "2024-06-05T17:08:52.085Z"
   },
   {
    "duration": 12,
    "start_time": "2024-06-05T17:08:52.141Z"
   },
   {
    "duration": 12,
    "start_time": "2024-06-05T17:08:52.156Z"
   },
   {
    "duration": 10,
    "start_time": "2024-06-05T17:08:52.171Z"
   },
   {
    "duration": 237,
    "start_time": "2024-06-05T17:08:52.186Z"
   },
   {
    "duration": 0,
    "start_time": "2024-06-05T17:08:52.433Z"
   },
   {
    "duration": 0,
    "start_time": "2024-06-05T17:08:52.436Z"
   },
   {
    "duration": 0,
    "start_time": "2024-06-05T17:08:52.439Z"
   },
   {
    "duration": 0,
    "start_time": "2024-06-05T17:08:52.441Z"
   },
   {
    "duration": 0,
    "start_time": "2024-06-05T17:08:52.444Z"
   },
   {
    "duration": 0,
    "start_time": "2024-06-05T17:08:52.446Z"
   },
   {
    "duration": 0,
    "start_time": "2024-06-05T17:08:52.449Z"
   },
   {
    "duration": 0,
    "start_time": "2024-06-05T17:08:52.452Z"
   },
   {
    "duration": 0,
    "start_time": "2024-06-05T17:08:52.454Z"
   },
   {
    "duration": 0,
    "start_time": "2024-06-05T17:08:52.456Z"
   },
   {
    "duration": 1389,
    "start_time": "2024-06-05T17:09:06.045Z"
   },
   {
    "duration": 1839,
    "start_time": "2024-06-05T17:11:21.326Z"
   },
   {
    "duration": 83,
    "start_time": "2024-06-05T17:17:07.175Z"
   },
   {
    "duration": 20,
    "start_time": "2024-06-05T17:17:17.066Z"
   },
   {
    "duration": 85,
    "start_time": "2024-06-05T17:19:35.027Z"
   },
   {
    "duration": 16,
    "start_time": "2024-06-05T17:19:41.663Z"
   },
   {
    "duration": 21,
    "start_time": "2024-06-05T17:20:17.256Z"
   },
   {
    "duration": 88,
    "start_time": "2024-06-05T17:20:39.266Z"
   },
   {
    "duration": 20,
    "start_time": "2024-06-05T17:20:46.556Z"
   },
   {
    "duration": 20,
    "start_time": "2024-06-05T17:21:26.346Z"
   },
   {
    "duration": 18,
    "start_time": "2024-06-05T17:21:36.176Z"
   },
   {
    "duration": 29,
    "start_time": "2024-06-05T17:21:58.206Z"
   },
   {
    "duration": 1450,
    "start_time": "2024-06-05T17:22:07.785Z"
   },
   {
    "duration": 87,
    "start_time": "2024-06-05T17:22:16.644Z"
   },
   {
    "duration": 12,
    "start_time": "2024-06-05T17:22:19.154Z"
   },
   {
    "duration": 20,
    "start_time": "2024-06-05T17:25:30.281Z"
   },
   {
    "duration": 211,
    "start_time": "2024-06-05T17:25:46.465Z"
   },
   {
    "duration": 17,
    "start_time": "2024-06-05T17:25:55.355Z"
   },
   {
    "duration": 19,
    "start_time": "2024-06-05T17:27:25.443Z"
   },
   {
    "duration": 28,
    "start_time": "2024-06-05T17:27:35.007Z"
   },
   {
    "duration": 17,
    "start_time": "2024-06-05T17:27:54.653Z"
   },
   {
    "duration": 14,
    "start_time": "2024-06-05T17:30:39.313Z"
   },
   {
    "duration": 13,
    "start_time": "2024-06-05T17:30:51.218Z"
   },
   {
    "duration": 8,
    "start_time": "2024-06-05T17:37:08.045Z"
   },
   {
    "duration": 18,
    "start_time": "2024-06-05T17:37:11.207Z"
   },
   {
    "duration": 18,
    "start_time": "2024-06-05T17:40:29.029Z"
   },
   {
    "duration": 9,
    "start_time": "2024-06-05T17:40:35.067Z"
   },
   {
    "duration": 19,
    "start_time": "2024-06-05T17:40:37.206Z"
   },
   {
    "duration": 12,
    "start_time": "2024-06-05T17:41:02.912Z"
   },
   {
    "duration": 16,
    "start_time": "2024-06-05T17:42:29.137Z"
   },
   {
    "duration": 17,
    "start_time": "2024-06-05T17:43:32.847Z"
   },
   {
    "duration": 20,
    "start_time": "2024-06-05T17:43:37.206Z"
   },
   {
    "duration": 11,
    "start_time": "2024-06-05T17:45:31.248Z"
   },
   {
    "duration": 18,
    "start_time": "2024-06-05T17:45:35.354Z"
   },
   {
    "duration": 22,
    "start_time": "2024-06-05T17:45:51.946Z"
   },
   {
    "duration": 14,
    "start_time": "2024-06-05T17:49:45.094Z"
   },
   {
    "duration": 28,
    "start_time": "2024-06-05T17:55:44.094Z"
   },
   {
    "duration": 5,
    "start_time": "2024-06-05T17:58:24.326Z"
   },
   {
    "duration": 31,
    "start_time": "2024-06-05T17:58:27.336Z"
   },
   {
    "duration": 68,
    "start_time": "2024-06-05T18:00:44.102Z"
   },
   {
    "duration": 74,
    "start_time": "2024-06-05T18:01:13.849Z"
   },
   {
    "duration": 70,
    "start_time": "2024-06-05T18:01:22.657Z"
   },
   {
    "duration": 5,
    "start_time": "2024-06-05T18:01:48.017Z"
   },
   {
    "duration": 11,
    "start_time": "2024-06-05T18:01:54.096Z"
   },
   {
    "duration": 10,
    "start_time": "2024-06-05T18:03:23.576Z"
   },
   {
    "duration": 20,
    "start_time": "2024-06-05T18:03:28.947Z"
   },
   {
    "duration": 223,
    "start_time": "2024-06-05T18:09:28.095Z"
   },
   {
    "duration": 785,
    "start_time": "2024-06-05T18:09:37.506Z"
   },
   {
    "duration": 9,
    "start_time": "2024-06-05T18:09:51.197Z"
   },
   {
    "duration": 23,
    "start_time": "2024-06-05T18:09:53.436Z"
   },
   {
    "duration": 103,
    "start_time": "2024-06-05T18:21:24.548Z"
   },
   {
    "duration": 19,
    "start_time": "2024-06-05T18:22:01.708Z"
   },
   {
    "duration": 14,
    "start_time": "2024-06-05T18:22:05.016Z"
   },
   {
    "duration": 12,
    "start_time": "2024-06-05T18:23:32.764Z"
   },
   {
    "duration": 24,
    "start_time": "2024-06-05T18:23:33.408Z"
   },
   {
    "duration": 5012,
    "start_time": "2024-06-06T17:11:47.841Z"
   },
   {
    "duration": 373,
    "start_time": "2024-06-06T17:11:52.857Z"
   },
   {
    "duration": 29,
    "start_time": "2024-06-06T17:11:53.233Z"
   },
   {
    "duration": 13,
    "start_time": "2024-06-06T17:11:53.266Z"
   },
   {
    "duration": 58,
    "start_time": "2024-06-06T17:11:53.285Z"
   },
   {
    "duration": 6,
    "start_time": "2024-06-06T17:11:53.347Z"
   },
   {
    "duration": 14,
    "start_time": "2024-06-06T17:11:53.357Z"
   },
   {
    "duration": 68,
    "start_time": "2024-06-06T17:11:53.374Z"
   },
   {
    "duration": 14,
    "start_time": "2024-06-06T17:11:53.445Z"
   },
   {
    "duration": 61,
    "start_time": "2024-06-06T17:11:53.462Z"
   },
   {
    "duration": 37,
    "start_time": "2024-06-06T17:11:53.525Z"
   },
   {
    "duration": 16,
    "start_time": "2024-06-06T17:11:53.565Z"
   },
   {
    "duration": 50,
    "start_time": "2024-06-06T17:11:53.585Z"
   },
   {
    "duration": 118,
    "start_time": "2024-06-06T17:11:53.643Z"
   },
   {
    "duration": 31,
    "start_time": "2024-06-06T17:11:53.765Z"
   },
   {
    "duration": 33,
    "start_time": "2024-06-06T17:11:53.800Z"
   },
   {
    "duration": 87,
    "start_time": "2024-06-06T17:11:53.837Z"
   },
   {
    "duration": 35,
    "start_time": "2024-06-06T17:11:53.928Z"
   },
   {
    "duration": 14,
    "start_time": "2024-06-06T17:11:53.966Z"
   },
   {
    "duration": 98,
    "start_time": "2024-06-06T17:11:53.984Z"
   },
   {
    "duration": 6,
    "start_time": "2024-06-06T17:11:54.085Z"
   },
   {
    "duration": 41,
    "start_time": "2024-06-06T17:11:54.094Z"
   },
   {
    "duration": 15,
    "start_time": "2024-06-06T17:11:54.139Z"
   },
   {
    "duration": 14,
    "start_time": "2024-06-06T17:11:54.158Z"
   },
   {
    "duration": 64,
    "start_time": "2024-06-06T17:11:54.176Z"
   },
   {
    "duration": 14,
    "start_time": "2024-06-06T17:11:54.243Z"
   },
   {
    "duration": 15,
    "start_time": "2024-06-06T17:11:54.260Z"
   },
   {
    "duration": 52,
    "start_time": "2024-06-06T17:11:54.279Z"
   },
   {
    "duration": 14,
    "start_time": "2024-06-06T17:11:54.335Z"
   },
   {
    "duration": 16,
    "start_time": "2024-06-06T17:11:54.353Z"
   },
   {
    "duration": 51,
    "start_time": "2024-06-06T17:11:54.373Z"
   },
   {
    "duration": 14,
    "start_time": "2024-06-06T17:11:54.428Z"
   },
   {
    "duration": 20,
    "start_time": "2024-06-06T17:11:54.445Z"
   },
   {
    "duration": 3,
    "start_time": "2024-06-06T17:11:54.469Z"
   },
   {
    "duration": 4,
    "start_time": "2024-06-06T17:11:54.522Z"
   },
   {
    "duration": 4,
    "start_time": "2024-06-06T17:11:54.529Z"
   },
   {
    "duration": 4,
    "start_time": "2024-06-06T17:11:54.537Z"
   },
   {
    "duration": 5,
    "start_time": "2024-06-06T17:11:54.544Z"
   },
   {
    "duration": 4,
    "start_time": "2024-06-06T17:11:54.552Z"
   },
   {
    "duration": 4,
    "start_time": "2024-06-06T17:11:54.560Z"
   },
   {
    "duration": 3,
    "start_time": "2024-06-06T17:11:54.626Z"
   },
   {
    "duration": 6,
    "start_time": "2024-06-06T17:11:54.633Z"
   },
   {
    "duration": 397,
    "start_time": "2024-06-06T17:17:18.363Z"
   },
   {
    "duration": 14,
    "start_time": "2024-06-06T17:17:32.497Z"
   },
   {
    "duration": 39,
    "start_time": "2024-06-06T17:21:31.318Z"
   },
   {
    "duration": 6,
    "start_time": "2024-06-06T17:23:06.725Z"
   },
   {
    "duration": 338,
    "start_time": "2024-06-06T17:23:06.738Z"
   },
   {
    "duration": 26,
    "start_time": "2024-06-06T17:23:07.079Z"
   },
   {
    "duration": 25,
    "start_time": "2024-06-06T17:23:07.109Z"
   },
   {
    "duration": 30,
    "start_time": "2024-06-06T17:23:07.138Z"
   },
   {
    "duration": 6,
    "start_time": "2024-06-06T17:23:07.172Z"
   },
   {
    "duration": 17,
    "start_time": "2024-06-06T17:23:07.224Z"
   },
   {
    "duration": 34,
    "start_time": "2024-06-06T17:23:07.244Z"
   },
   {
    "duration": 18,
    "start_time": "2024-06-06T17:23:07.322Z"
   },
   {
    "duration": 28,
    "start_time": "2024-06-06T17:23:07.347Z"
   },
   {
    "duration": 72,
    "start_time": "2024-06-06T17:23:07.379Z"
   },
   {
    "duration": 18,
    "start_time": "2024-06-06T17:23:07.454Z"
   },
   {
    "duration": 50,
    "start_time": "2024-06-06T17:23:07.475Z"
   },
   {
    "duration": 113,
    "start_time": "2024-06-06T17:23:07.529Z"
   },
   {
    "duration": 32,
    "start_time": "2024-06-06T17:23:07.646Z"
   },
   {
    "duration": 41,
    "start_time": "2024-06-06T17:23:07.682Z"
   },
   {
    "duration": 62,
    "start_time": "2024-06-06T17:23:07.727Z"
   },
   {
    "duration": 60,
    "start_time": "2024-06-06T17:23:07.795Z"
   },
   {
    "duration": 18,
    "start_time": "2024-06-06T17:23:07.860Z"
   },
   {
    "duration": 95,
    "start_time": "2024-06-06T17:23:07.882Z"
   },
   {
    "duration": 7,
    "start_time": "2024-06-06T17:23:07.981Z"
   },
   {
    "duration": 44,
    "start_time": "2024-06-06T17:23:07.992Z"
   },
   {
    "duration": 16,
    "start_time": "2024-06-06T17:23:08.040Z"
   },
   {
    "duration": 14,
    "start_time": "2024-06-06T17:23:08.060Z"
   },
   {
    "duration": 53,
    "start_time": "2024-06-06T17:23:08.078Z"
   },
   {
    "duration": 13,
    "start_time": "2024-06-06T17:23:08.135Z"
   },
   {
    "duration": 19,
    "start_time": "2024-06-06T17:23:08.151Z"
   },
   {
    "duration": 15,
    "start_time": "2024-06-06T17:23:08.223Z"
   },
   {
    "duration": 14,
    "start_time": "2024-06-06T17:23:08.241Z"
   },
   {
    "duration": 17,
    "start_time": "2024-06-06T17:23:08.258Z"
   },
   {
    "duration": 6,
    "start_time": "2024-06-06T17:23:08.322Z"
   },
   {
    "duration": 14,
    "start_time": "2024-06-06T17:23:08.333Z"
   },
   {
    "duration": 12,
    "start_time": "2024-06-06T17:23:08.351Z"
   },
   {
    "duration": 60,
    "start_time": "2024-06-06T17:23:08.366Z"
   },
   {
    "duration": 4,
    "start_time": "2024-06-06T17:23:08.430Z"
   },
   {
    "duration": 3,
    "start_time": "2024-06-06T17:23:08.439Z"
   },
   {
    "duration": 4,
    "start_time": "2024-06-06T17:23:08.447Z"
   },
   {
    "duration": 5,
    "start_time": "2024-06-06T17:23:08.454Z"
   },
   {
    "duration": 4,
    "start_time": "2024-06-06T17:23:08.463Z"
   },
   {
    "duration": 54,
    "start_time": "2024-06-06T17:23:08.471Z"
   },
   {
    "duration": 4,
    "start_time": "2024-06-06T17:23:08.528Z"
   },
   {
    "duration": 3,
    "start_time": "2024-06-06T17:23:08.536Z"
   },
   {
    "duration": 317,
    "start_time": "2024-06-06T17:24:16.163Z"
   },
   {
    "duration": 92,
    "start_time": "2024-06-06T17:24:26.623Z"
   },
   {
    "duration": 119,
    "start_time": "2024-06-06T17:24:41.322Z"
   },
   {
    "duration": 10,
    "start_time": "2024-06-06T17:26:12.226Z"
   },
   {
    "duration": 44,
    "start_time": "2024-06-06T17:26:20.618Z"
   },
   {
    "duration": 38,
    "start_time": "2024-06-06T17:27:28.308Z"
   },
   {
    "duration": 5,
    "start_time": "2024-06-06T17:31:26.953Z"
   },
   {
    "duration": 306,
    "start_time": "2024-06-06T17:31:28.642Z"
   },
   {
    "duration": 37,
    "start_time": "2024-06-06T17:31:53.663Z"
   },
   {
    "duration": 18,
    "start_time": "2024-06-06T17:32:01.045Z"
   },
   {
    "duration": 92,
    "start_time": "2024-06-06T17:32:04.562Z"
   },
   {
    "duration": 27,
    "start_time": "2024-06-06T17:32:07.517Z"
   },
   {
    "duration": 13,
    "start_time": "2024-06-06T17:32:11.958Z"
   },
   {
    "duration": 57,
    "start_time": "2024-06-06T17:32:16.561Z"
   },
   {
    "duration": 41,
    "start_time": "2024-06-06T17:32:21.468Z"
   },
   {
    "duration": 60,
    "start_time": "2024-06-06T17:32:51.815Z"
   },
   {
    "duration": 17,
    "start_time": "2024-06-06T17:33:01.830Z"
   },
   {
    "duration": 17,
    "start_time": "2024-06-06T17:33:05.472Z"
   },
   {
    "duration": 15,
    "start_time": "2024-06-06T17:33:08.280Z"
   },
   {
    "duration": 259,
    "start_time": "2024-06-06T17:33:10.845Z"
   },
   {
    "duration": 5,
    "start_time": "2024-06-06T17:33:26.258Z"
   },
   {
    "duration": 14,
    "start_time": "2024-06-06T17:33:35.577Z"
   },
   {
    "duration": 117,
    "start_time": "2024-06-06T17:51:02.954Z"
   },
   {
    "duration": 890,
    "start_time": "2024-06-06T17:51:29.703Z"
   },
   {
    "duration": 273,
    "start_time": "2024-06-06T17:51:56.643Z"
   },
   {
    "duration": 16,
    "start_time": "2024-06-06T17:52:18.746Z"
   },
   {
    "duration": 30,
    "start_time": "2024-06-06T17:52:23.564Z"
   },
   {
    "duration": 184,
    "start_time": "2024-06-06T17:53:34.474Z"
   },
   {
    "duration": 79,
    "start_time": "2024-06-06T17:54:17.907Z"
   },
   {
    "duration": 73,
    "start_time": "2024-06-06T17:54:25.550Z"
   },
   {
    "duration": 15,
    "start_time": "2024-06-06T17:54:30.553Z"
   },
   {
    "duration": 29,
    "start_time": "2024-06-06T17:55:56.887Z"
   },
   {
    "duration": 28,
    "start_time": "2024-06-06T17:56:58.847Z"
   },
   {
    "duration": 14,
    "start_time": "2024-06-06T17:57:35.439Z"
   },
   {
    "duration": 24,
    "start_time": "2024-06-06T17:58:41.771Z"
   },
   {
    "duration": 21,
    "start_time": "2024-06-06T18:00:02.608Z"
   },
   {
    "duration": 16,
    "start_time": "2024-06-06T18:00:12.668Z"
   },
   {
    "duration": 19,
    "start_time": "2024-06-06T18:00:20.772Z"
   },
   {
    "duration": 25,
    "start_time": "2024-06-06T18:00:29.848Z"
   },
   {
    "duration": 18,
    "start_time": "2024-06-06T18:00:35.010Z"
   },
   {
    "duration": 7,
    "start_time": "2024-06-06T18:03:01.429Z"
   },
   {
    "duration": 21,
    "start_time": "2024-06-06T18:03:43.667Z"
   },
   {
    "duration": 14,
    "start_time": "2024-06-06T18:03:46.167Z"
   },
   {
    "duration": 24,
    "start_time": "2024-06-06T18:04:06.432Z"
   },
   {
    "duration": 16,
    "start_time": "2024-06-06T18:04:08.788Z"
   },
   {
    "duration": 41,
    "start_time": "2024-06-06T18:06:22.128Z"
   },
   {
    "duration": 544,
    "start_time": "2024-06-06T18:07:38.048Z"
   },
   {
    "duration": 27,
    "start_time": "2024-06-06T18:08:07.971Z"
   },
   {
    "duration": 13,
    "start_time": "2024-06-06T18:08:24.427Z"
   },
   {
    "duration": 44,
    "start_time": "2024-06-06T18:11:08.609Z"
   },
   {
    "duration": 12,
    "start_time": "2024-06-06T18:11:23.748Z"
   },
   {
    "duration": 14,
    "start_time": "2024-06-06T18:12:22.969Z"
   },
   {
    "duration": 140,
    "start_time": "2024-06-06T18:16:45.872Z"
   },
   {
    "duration": 64,
    "start_time": "2024-06-06T18:17:19.307Z"
   },
   {
    "duration": 63,
    "start_time": "2024-06-06T18:19:17.888Z"
   },
   {
    "duration": 26,
    "start_time": "2024-06-06T18:26:22.933Z"
   },
   {
    "duration": 24,
    "start_time": "2024-06-06T18:26:58.947Z"
   },
   {
    "duration": 30,
    "start_time": "2024-06-06T18:28:08.168Z"
   },
   {
    "duration": 361,
    "start_time": "2024-06-06T18:28:48.167Z"
   },
   {
    "duration": 17,
    "start_time": "2024-06-06T18:29:23.631Z"
   },
   {
    "duration": 65,
    "start_time": "2024-06-06T18:31:17.643Z"
   },
   {
    "duration": 43,
    "start_time": "2024-06-06T18:33:52.367Z"
   },
   {
    "duration": 46,
    "start_time": "2024-06-06T18:37:27.551Z"
   },
   {
    "duration": 19,
    "start_time": "2024-06-06T18:38:07.727Z"
   },
   {
    "duration": 54,
    "start_time": "2024-06-06T18:52:54.508Z"
   },
   {
    "duration": 56,
    "start_time": "2024-06-06T18:53:02.753Z"
   },
   {
    "duration": 205,
    "start_time": "2024-06-06T18:53:12.647Z"
   },
   {
    "duration": 1599,
    "start_time": "2024-06-06T18:55:59.668Z"
   },
   {
    "duration": 35,
    "start_time": "2024-06-06T19:01:59.507Z"
   },
   {
    "duration": 17,
    "start_time": "2024-06-06T19:02:02.087Z"
   },
   {
    "duration": 12,
    "start_time": "2024-06-06T19:08:27.387Z"
   },
   {
    "duration": 24,
    "start_time": "2024-06-06T19:08:30.107Z"
   },
   {
    "duration": 48,
    "start_time": "2024-06-06T19:08:49.078Z"
   },
   {
    "duration": 19,
    "start_time": "2024-06-06T19:10:01.248Z"
   },
   {
    "duration": 9,
    "start_time": "2024-06-06T19:13:43.387Z"
   },
   {
    "duration": 9,
    "start_time": "2024-06-06T19:13:54.307Z"
   },
   {
    "duration": 21,
    "start_time": "2024-06-06T19:13:57.747Z"
   },
   {
    "duration": 47,
    "start_time": "2024-06-06T19:29:44.887Z"
   },
   {
    "duration": 47,
    "start_time": "2024-06-06T19:29:55.768Z"
   },
   {
    "duration": 54,
    "start_time": "2024-06-06T19:30:11.987Z"
   },
   {
    "duration": 19,
    "start_time": "2024-06-06T19:30:27.546Z"
   },
   {
    "duration": 35,
    "start_time": "2024-06-06T19:30:30.846Z"
   },
   {
    "duration": 17,
    "start_time": "2024-06-06T19:30:33.715Z"
   },
   {
    "duration": 12,
    "start_time": "2024-06-06T19:30:49.331Z"
   },
   {
    "duration": 25,
    "start_time": "2024-06-06T19:30:53.106Z"
   },
   {
    "duration": 23,
    "start_time": "2024-06-06T19:31:19.667Z"
   },
   {
    "duration": 10,
    "start_time": "2024-06-06T19:31:23.667Z"
   },
   {
    "duration": 18,
    "start_time": "2024-06-06T19:31:26.331Z"
   },
   {
    "duration": 182,
    "start_time": "2024-06-06T19:33:32.127Z"
   },
   {
    "duration": 24,
    "start_time": "2024-06-06T19:33:53.634Z"
   },
   {
    "duration": 27,
    "start_time": "2024-06-06T19:33:56.206Z"
   },
   {
    "duration": 31,
    "start_time": "2024-06-06T19:34:09.566Z"
   },
   {
    "duration": 132,
    "start_time": "2024-06-06T19:46:30.212Z"
   },
   {
    "duration": 25,
    "start_time": "2024-06-06T19:46:45.731Z"
   },
   {
    "duration": 22,
    "start_time": "2024-06-06T19:47:02.917Z"
   },
   {
    "duration": 31,
    "start_time": "2024-06-06T19:52:16.621Z"
   },
   {
    "duration": 28,
    "start_time": "2024-06-06T19:52:19.347Z"
   },
   {
    "duration": 19,
    "start_time": "2024-06-06T19:52:33.872Z"
   },
   {
    "duration": 32,
    "start_time": "2024-06-06T19:52:36.187Z"
   },
   {
    "duration": 21,
    "start_time": "2024-06-06T19:53:34.371Z"
   },
   {
    "duration": 30,
    "start_time": "2024-06-06T19:53:37.014Z"
   },
   {
    "duration": 24,
    "start_time": "2024-06-06T19:58:39.755Z"
   },
   {
    "duration": 30,
    "start_time": "2024-06-06T19:58:43.006Z"
   },
   {
    "duration": 29,
    "start_time": "2024-06-06T19:59:18.438Z"
   },
   {
    "duration": 26,
    "start_time": "2024-06-06T20:06:07.971Z"
   },
   {
    "duration": 8,
    "start_time": "2024-06-06T20:07:09.347Z"
   },
   {
    "duration": 19,
    "start_time": "2024-06-06T20:07:35.328Z"
   },
   {
    "duration": 830,
    "start_time": "2024-06-06T20:10:47.138Z"
   },
   {
    "duration": 413,
    "start_time": "2024-06-06T20:16:51.109Z"
   },
   {
    "duration": 38,
    "start_time": "2024-06-06T20:27:46.188Z"
   },
   {
    "duration": 407,
    "start_time": "2024-06-06T20:27:55.208Z"
   },
   {
    "duration": 10,
    "start_time": "2024-06-06T20:56:08.189Z"
   },
   {
    "duration": 9,
    "start_time": "2024-06-06T20:56:22.468Z"
   },
   {
    "duration": 131,
    "start_time": "2024-06-06T20:56:31.210Z"
   },
   {
    "duration": 400,
    "start_time": "2024-06-06T20:56:40.593Z"
   },
   {
    "duration": 649,
    "start_time": "2024-06-06T20:56:55.652Z"
   },
   {
    "duration": 317,
    "start_time": "2024-06-06T20:57:02.940Z"
   },
   {
    "duration": 11,
    "start_time": "2024-06-06T21:00:08.809Z"
   },
   {
    "duration": 17,
    "start_time": "2024-06-06T21:00:18.749Z"
   },
   {
    "duration": 15,
    "start_time": "2024-06-06T21:00:27.429Z"
   },
   {
    "duration": 13,
    "start_time": "2024-06-06T21:10:40.410Z"
   },
   {
    "duration": 8,
    "start_time": "2024-06-06T21:10:46.103Z"
   },
   {
    "duration": 7,
    "start_time": "2024-06-06T21:10:54.059Z"
   },
   {
    "duration": 636,
    "start_time": "2024-06-06T21:11:09.828Z"
   },
   {
    "duration": 415,
    "start_time": "2024-06-06T21:13:56.730Z"
   },
   {
    "duration": 411,
    "start_time": "2024-06-06T22:07:38.929Z"
   },
   {
    "duration": 434,
    "start_time": "2024-06-06T22:07:54.009Z"
   },
   {
    "duration": 422,
    "start_time": "2024-06-06T22:08:00.293Z"
   },
   {
    "duration": 388,
    "start_time": "2024-06-06T22:08:06.330Z"
   },
   {
    "duration": 399,
    "start_time": "2024-06-06T22:10:54.573Z"
   },
   {
    "duration": 6114,
    "start_time": "2024-06-07T11:45:27.161Z"
   },
   {
    "duration": 463,
    "start_time": "2024-06-07T11:45:33.284Z"
   },
   {
    "duration": 35,
    "start_time": "2024-06-07T11:45:33.751Z"
   },
   {
    "duration": 15,
    "start_time": "2024-06-07T11:45:33.790Z"
   },
   {
    "duration": 50,
    "start_time": "2024-06-07T11:45:33.811Z"
   },
   {
    "duration": 9,
    "start_time": "2024-06-07T11:45:33.865Z"
   },
   {
    "duration": 15,
    "start_time": "2024-06-07T11:45:33.878Z"
   },
   {
    "duration": 92,
    "start_time": "2024-06-07T11:45:33.896Z"
   },
   {
    "duration": 41,
    "start_time": "2024-06-07T11:45:33.994Z"
   },
   {
    "duration": 27,
    "start_time": "2024-06-07T11:45:34.040Z"
   },
   {
    "duration": 73,
    "start_time": "2024-06-07T11:45:34.070Z"
   },
   {
    "duration": 18,
    "start_time": "2024-06-07T11:45:34.146Z"
   },
   {
    "duration": 20,
    "start_time": "2024-06-07T11:45:34.167Z"
   },
   {
    "duration": 128,
    "start_time": "2024-06-07T11:45:34.234Z"
   },
   {
    "duration": 28,
    "start_time": "2024-06-07T11:45:34.368Z"
   },
   {
    "duration": 34,
    "start_time": "2024-06-07T11:45:34.399Z"
   },
   {
    "duration": 62,
    "start_time": "2024-06-07T11:45:34.436Z"
   },
   {
    "duration": 64,
    "start_time": "2024-06-07T11:45:34.503Z"
   },
   {
    "duration": 14,
    "start_time": "2024-06-07T11:45:34.570Z"
   },
   {
    "duration": 91,
    "start_time": "2024-06-07T11:45:34.588Z"
   },
   {
    "duration": 7,
    "start_time": "2024-06-07T11:45:34.682Z"
   },
   {
    "duration": 41,
    "start_time": "2024-06-07T11:45:34.693Z"
   },
   {
    "duration": 17,
    "start_time": "2024-06-07T11:45:34.737Z"
   },
   {
    "duration": 15,
    "start_time": "2024-06-07T11:45:34.757Z"
   },
   {
    "duration": 104,
    "start_time": "2024-06-07T11:45:34.776Z"
   },
   {
    "duration": 26,
    "start_time": "2024-06-07T11:45:34.883Z"
   },
   {
    "duration": 40,
    "start_time": "2024-06-07T11:45:34.911Z"
   },
   {
    "duration": 50,
    "start_time": "2024-06-07T11:45:34.954Z"
   },
   {
    "duration": 39,
    "start_time": "2024-06-07T11:45:35.008Z"
   },
   {
    "duration": 86,
    "start_time": "2024-06-07T11:45:35.055Z"
   },
   {
    "duration": 34,
    "start_time": "2024-06-07T11:45:35.143Z"
   },
   {
    "duration": 22,
    "start_time": "2024-06-07T11:45:35.180Z"
   },
   {
    "duration": 33,
    "start_time": "2024-06-07T11:45:35.206Z"
   },
   {
    "duration": 16,
    "start_time": "2024-06-07T11:45:35.242Z"
   },
   {
    "duration": 15,
    "start_time": "2024-06-07T11:45:35.261Z"
   },
   {
    "duration": 67,
    "start_time": "2024-06-07T11:45:35.280Z"
   },
   {
    "duration": 30,
    "start_time": "2024-06-07T11:45:35.350Z"
   },
   {
    "duration": 477,
    "start_time": "2024-06-07T11:45:35.383Z"
   },
   {
    "duration": 334,
    "start_time": "2024-06-07T11:45:35.863Z"
   },
   {
    "duration": 17,
    "start_time": "2024-06-07T11:45:36.200Z"
   },
   {
    "duration": 486,
    "start_time": "2024-06-07T11:45:36.241Z"
   },
   {
    "duration": 419,
    "start_time": "2024-06-07T11:45:36.734Z"
   },
   {
    "duration": 3,
    "start_time": "2024-06-07T11:45:37.158Z"
   },
   {
    "duration": 7,
    "start_time": "2024-06-07T11:45:37.171Z"
   },
   {
    "duration": 4,
    "start_time": "2024-06-07T11:45:37.182Z"
   },
   {
    "duration": 26,
    "start_time": "2024-06-07T11:47:53.956Z"
   },
   {
    "duration": 1308,
    "start_time": "2024-06-07T11:49:33.601Z"
   },
   {
    "duration": 268,
    "start_time": "2024-06-07T11:49:46.801Z"
   },
   {
    "duration": 367,
    "start_time": "2024-06-07T11:49:52.573Z"
   },
   {
    "duration": 95,
    "start_time": "2024-06-07T11:50:12.445Z"
   },
   {
    "duration": 277,
    "start_time": "2024-06-07T11:50:19.163Z"
   },
   {
    "duration": 100,
    "start_time": "2024-06-07T11:50:38.032Z"
   },
   {
    "duration": 345,
    "start_time": "2024-06-07T11:50:45.869Z"
   },
   {
    "duration": 285,
    "start_time": "2024-06-07T11:51:09.815Z"
   },
   {
    "duration": 1337,
    "start_time": "2024-06-07T11:51:40.143Z"
   },
   {
    "duration": 358,
    "start_time": "2024-06-07T11:51:44.009Z"
   },
   {
    "duration": 313,
    "start_time": "2024-06-07T12:16:51.085Z"
   },
   {
    "duration": 28,
    "start_time": "2024-06-07T12:22:06.615Z"
   },
   {
    "duration": 33,
    "start_time": "2024-06-07T12:22:40.515Z"
   },
   {
    "duration": 41,
    "start_time": "2024-06-07T12:22:44.535Z"
   },
   {
    "duration": 46,
    "start_time": "2024-06-07T12:23:01.268Z"
   },
   {
    "duration": 107,
    "start_time": "2024-06-07T12:26:51.736Z"
   },
   {
    "duration": 128,
    "start_time": "2024-06-07T12:26:59.663Z"
   },
   {
    "duration": 204,
    "start_time": "2024-06-07T12:27:15.126Z"
   },
   {
    "duration": 13,
    "start_time": "2024-06-07T12:38:31.414Z"
   },
   {
    "duration": 15,
    "start_time": "2024-06-07T12:39:26.197Z"
   },
   {
    "duration": 26,
    "start_time": "2024-06-07T12:40:03.328Z"
   },
   {
    "duration": 14,
    "start_time": "2024-06-07T12:40:11.455Z"
   },
   {
    "duration": 26,
    "start_time": "2024-06-07T12:40:22.063Z"
   },
   {
    "duration": 14,
    "start_time": "2024-06-07T12:45:26.455Z"
   },
   {
    "duration": 41,
    "start_time": "2024-06-07T12:45:42.711Z"
   },
   {
    "duration": 33,
    "start_time": "2024-06-07T12:46:10.116Z"
   },
   {
    "duration": 7,
    "start_time": "2024-06-07T12:57:20.130Z"
   },
   {
    "duration": 6,
    "start_time": "2024-06-07T12:57:41.545Z"
   },
   {
    "duration": 10,
    "start_time": "2024-06-07T12:57:54.495Z"
   },
   {
    "duration": 1158,
    "start_time": "2024-06-07T13:32:09.424Z"
   },
   {
    "duration": 268,
    "start_time": "2024-06-07T13:32:10.586Z"
   },
   {
    "duration": 26,
    "start_time": "2024-06-07T13:32:10.857Z"
   },
   {
    "duration": 12,
    "start_time": "2024-06-07T13:32:10.886Z"
   },
   {
    "duration": 46,
    "start_time": "2024-06-07T13:32:10.903Z"
   },
   {
    "duration": 7,
    "start_time": "2024-06-07T13:32:10.952Z"
   },
   {
    "duration": 14,
    "start_time": "2024-06-07T13:32:10.962Z"
   },
   {
    "duration": 77,
    "start_time": "2024-06-07T13:32:10.979Z"
   },
   {
    "duration": 15,
    "start_time": "2024-06-07T13:32:11.060Z"
   },
   {
    "duration": 55,
    "start_time": "2024-06-07T13:32:11.078Z"
   },
   {
    "duration": 34,
    "start_time": "2024-06-07T13:32:11.136Z"
   },
   {
    "duration": 16,
    "start_time": "2024-06-07T13:32:11.173Z"
   },
   {
    "duration": 57,
    "start_time": "2024-06-07T13:32:11.192Z"
   },
   {
    "duration": 109,
    "start_time": "2024-06-07T13:32:11.258Z"
   },
   {
    "duration": 29,
    "start_time": "2024-06-07T13:32:11.370Z"
   },
   {
    "duration": 35,
    "start_time": "2024-06-07T13:32:11.402Z"
   },
   {
    "duration": 55,
    "start_time": "2024-06-07T13:32:11.442Z"
   },
   {
    "duration": 57,
    "start_time": "2024-06-07T13:32:11.499Z"
   },
   {
    "duration": 14,
    "start_time": "2024-06-07T13:32:11.558Z"
   },
   {
    "duration": 86,
    "start_time": "2024-06-07T13:32:11.574Z"
   },
   {
    "duration": 5,
    "start_time": "2024-06-07T13:32:11.663Z"
   },
   {
    "duration": 15,
    "start_time": "2024-06-07T13:32:11.671Z"
   },
   {
    "duration": 49,
    "start_time": "2024-06-07T13:32:11.689Z"
   },
   {
    "duration": 13,
    "start_time": "2024-06-07T13:32:11.741Z"
   },
   {
    "duration": 94,
    "start_time": "2024-06-07T13:32:11.757Z"
   },
   {
    "duration": 26,
    "start_time": "2024-06-07T13:32:11.853Z"
   },
   {
    "duration": 12,
    "start_time": "2024-06-07T13:32:11.881Z"
   },
   {
    "duration": 77,
    "start_time": "2024-06-07T13:32:11.896Z"
   },
   {
    "duration": 17,
    "start_time": "2024-06-07T13:32:11.976Z"
   },
   {
    "duration": 83,
    "start_time": "2024-06-07T13:32:11.996Z"
   },
   {
    "duration": 30,
    "start_time": "2024-06-07T13:32:12.081Z"
   },
   {
    "duration": 39,
    "start_time": "2024-06-07T13:32:12.114Z"
   },
   {
    "duration": 12,
    "start_time": "2024-06-07T13:32:12.156Z"
   },
   {
    "duration": 15,
    "start_time": "2024-06-07T13:32:12.172Z"
   },
   {
    "duration": 47,
    "start_time": "2024-06-07T13:32:12.191Z"
   },
   {
    "duration": 26,
    "start_time": "2024-06-07T13:32:12.241Z"
   },
   {
    "duration": 26,
    "start_time": "2024-06-07T13:32:12.270Z"
   },
   {
    "duration": 395,
    "start_time": "2024-06-07T13:32:12.299Z"
   },
   {
    "duration": 292,
    "start_time": "2024-06-07T13:32:12.697Z"
   },
   {
    "duration": 14,
    "start_time": "2024-06-07T13:32:12.992Z"
   },
   {
    "duration": 397,
    "start_time": "2024-06-07T13:32:13.032Z"
   },
   {
    "duration": 412,
    "start_time": "2024-06-07T13:32:13.434Z"
   },
   {
    "duration": 27,
    "start_time": "2024-06-07T13:32:13.850Z"
   },
   {
    "duration": 365,
    "start_time": "2024-06-07T13:32:13.880Z"
   },
   {
    "duration": 43,
    "start_time": "2024-06-07T13:32:14.249Z"
   },
   {
    "duration": 213,
    "start_time": "2024-06-07T13:32:14.296Z"
   },
   {
    "duration": 22,
    "start_time": "2024-06-07T13:32:14.512Z"
   },
   {
    "duration": 26,
    "start_time": "2024-06-07T13:32:14.537Z"
   },
   {
    "duration": 36,
    "start_time": "2024-06-07T13:32:14.566Z"
   },
   {
    "duration": 11,
    "start_time": "2024-06-07T13:32:14.633Z"
   },
   {
    "duration": 9996,
    "start_time": "2024-06-07T13:47:28.851Z"
   },
   {
    "duration": 772,
    "start_time": "2024-06-07T13:47:38.851Z"
   },
   {
    "duration": 33,
    "start_time": "2024-06-07T13:47:39.628Z"
   },
   {
    "duration": 16,
    "start_time": "2024-06-07T13:47:39.716Z"
   },
   {
    "duration": 91,
    "start_time": "2024-06-07T13:47:39.735Z"
   },
   {
    "duration": 8,
    "start_time": "2024-06-07T13:47:39.830Z"
   },
   {
    "duration": 74,
    "start_time": "2024-06-07T13:47:39.841Z"
   },
   {
    "duration": 29,
    "start_time": "2024-06-07T13:47:39.919Z"
   },
   {
    "duration": 16,
    "start_time": "2024-06-07T13:47:40.014Z"
   },
   {
    "duration": 86,
    "start_time": "2024-06-07T13:47:40.038Z"
   },
   {
    "duration": 106,
    "start_time": "2024-06-07T13:47:40.128Z"
   },
   {
    "duration": 76,
    "start_time": "2024-06-07T13:47:40.238Z"
   },
   {
    "duration": 20,
    "start_time": "2024-06-07T13:47:40.317Z"
   },
   {
    "duration": 200,
    "start_time": "2024-06-07T13:47:40.341Z"
   },
   {
    "duration": 86,
    "start_time": "2024-06-07T13:47:40.544Z"
   },
   {
    "duration": 79,
    "start_time": "2024-06-07T13:47:40.633Z"
   },
   {
    "duration": 117,
    "start_time": "2024-06-07T13:47:40.716Z"
   },
   {
    "duration": 100,
    "start_time": "2024-06-07T13:47:40.837Z"
   },
   {
    "duration": 81,
    "start_time": "2024-06-07T13:47:40.941Z"
   },
   {
    "duration": 123,
    "start_time": "2024-06-07T13:47:41.025Z"
   },
   {
    "duration": 62,
    "start_time": "2024-06-07T13:47:41.151Z"
   },
   {
    "duration": 17,
    "start_time": "2024-06-07T13:47:41.218Z"
   },
   {
    "duration": 76,
    "start_time": "2024-06-07T13:47:41.240Z"
   },
   {
    "duration": 15,
    "start_time": "2024-06-07T13:47:41.320Z"
   },
   {
    "duration": 203,
    "start_time": "2024-06-07T13:47:41.339Z"
   },
   {
    "duration": 82,
    "start_time": "2024-06-07T13:47:41.546Z"
   },
   {
    "duration": 81,
    "start_time": "2024-06-07T13:47:41.631Z"
   },
   {
    "duration": 131,
    "start_time": "2024-06-07T13:47:41.723Z"
   },
   {
    "duration": 18,
    "start_time": "2024-06-07T13:47:41.914Z"
   },
   {
    "duration": 179,
    "start_time": "2024-06-07T13:47:41.935Z"
   },
   {
    "duration": 96,
    "start_time": "2024-06-07T13:47:42.118Z"
   },
   {
    "duration": 19,
    "start_time": "2024-06-07T13:47:42.217Z"
   },
   {
    "duration": 73,
    "start_time": "2024-06-07T13:47:42.241Z"
   },
   {
    "duration": 17,
    "start_time": "2024-06-07T13:47:42.317Z"
   },
   {
    "duration": 11,
    "start_time": "2024-06-07T13:47:42.337Z"
   },
   {
    "duration": 23,
    "start_time": "2024-06-07T13:47:42.414Z"
   },
   {
    "duration": 86,
    "start_time": "2024-06-07T13:47:42.440Z"
   },
   {
    "duration": 904,
    "start_time": "2024-06-07T13:47:42.529Z"
   },
   {
    "duration": 676,
    "start_time": "2024-06-07T13:47:43.437Z"
   },
   {
    "duration": 18,
    "start_time": "2024-06-07T13:47:44.116Z"
   },
   {
    "duration": 992,
    "start_time": "2024-06-07T13:47:44.139Z"
   },
   {
    "duration": 805,
    "start_time": "2024-06-07T13:47:45.134Z"
   },
   {
    "duration": 86,
    "start_time": "2024-06-07T13:47:45.945Z"
   },
   {
    "duration": 817,
    "start_time": "2024-06-07T13:47:46.034Z"
   },
   {
    "duration": 185,
    "start_time": "2024-06-07T13:47:46.855Z"
   },
   {
    "duration": 378,
    "start_time": "2024-06-07T13:47:47.043Z"
   },
   {
    "duration": 13,
    "start_time": "2024-06-07T13:47:47.424Z"
   },
   {
    "duration": 96,
    "start_time": "2024-06-07T13:47:47.440Z"
   },
   {
    "duration": 92,
    "start_time": "2024-06-07T13:47:47.539Z"
   },
   {
    "duration": 14,
    "start_time": "2024-06-07T13:47:47.636Z"
   },
   {
    "duration": 1153,
    "start_time": "2024-06-07T15:15:37.416Z"
   },
   {
    "duration": 270,
    "start_time": "2024-06-07T15:15:38.574Z"
   },
   {
    "duration": 29,
    "start_time": "2024-06-07T15:15:38.848Z"
   },
   {
    "duration": 12,
    "start_time": "2024-06-07T15:15:38.880Z"
   },
   {
    "duration": 27,
    "start_time": "2024-06-07T15:15:38.915Z"
   },
   {
    "duration": 7,
    "start_time": "2024-06-07T15:15:38.945Z"
   },
   {
    "duration": 14,
    "start_time": "2024-06-07T15:15:38.955Z"
   },
   {
    "duration": 30,
    "start_time": "2024-06-07T15:15:39.013Z"
   },
   {
    "duration": 14,
    "start_time": "2024-06-07T15:15:39.046Z"
   },
   {
    "duration": 57,
    "start_time": "2024-06-07T15:15:39.064Z"
   },
   {
    "duration": 38,
    "start_time": "2024-06-07T15:15:39.124Z"
   },
   {
    "duration": 47,
    "start_time": "2024-06-07T15:15:39.166Z"
   },
   {
    "duration": 17,
    "start_time": "2024-06-07T15:15:39.216Z"
   },
   {
    "duration": 116,
    "start_time": "2024-06-07T15:15:39.240Z"
   },
   {
    "duration": 30,
    "start_time": "2024-06-07T15:15:39.371Z"
   },
   {
    "duration": 13,
    "start_time": "2024-06-07T15:15:39.412Z"
   },
   {
    "duration": 54,
    "start_time": "2024-06-07T15:15:39.427Z"
   },
   {
    "duration": 56,
    "start_time": "2024-06-07T15:15:39.484Z"
   },
   {
    "duration": 14,
    "start_time": "2024-06-07T15:15:39.544Z"
   },
   {
    "duration": 98,
    "start_time": "2024-06-07T15:15:39.562Z"
   },
   {
    "duration": 6,
    "start_time": "2024-06-07T15:15:39.663Z"
   },
   {
    "duration": 41,
    "start_time": "2024-06-07T15:15:39.672Z"
   },
   {
    "duration": 15,
    "start_time": "2024-06-07T15:15:39.716Z"
   },
   {
    "duration": 15,
    "start_time": "2024-06-07T15:15:39.734Z"
   },
   {
    "duration": 106,
    "start_time": "2024-06-07T15:15:39.754Z"
   },
   {
    "duration": 25,
    "start_time": "2024-06-07T15:15:39.862Z"
   },
   {
    "duration": 32,
    "start_time": "2024-06-07T15:15:39.890Z"
   },
   {
    "duration": 51,
    "start_time": "2024-06-07T15:15:39.924Z"
   },
   {
    "duration": 40,
    "start_time": "2024-06-07T15:15:39.977Z"
   },
   {
    "duration": 57,
    "start_time": "2024-06-07T15:15:40.020Z"
   },
   {
    "duration": 50,
    "start_time": "2024-06-07T15:15:40.080Z"
   },
   {
    "duration": 16,
    "start_time": "2024-06-07T15:15:40.132Z"
   },
   {
    "duration": 13,
    "start_time": "2024-06-07T15:15:40.151Z"
   },
   {
    "duration": 45,
    "start_time": "2024-06-07T15:15:40.167Z"
   },
   {
    "duration": 10,
    "start_time": "2024-06-07T15:15:40.216Z"
   },
   {
    "duration": 24,
    "start_time": "2024-06-07T15:15:40.230Z"
   },
   {
    "duration": 66,
    "start_time": "2024-06-07T15:15:40.258Z"
   },
   {
    "duration": 380,
    "start_time": "2024-06-07T15:15:40.327Z"
   },
   {
    "duration": 288,
    "start_time": "2024-06-07T15:15:40.714Z"
   },
   {
    "duration": 17,
    "start_time": "2024-06-07T15:15:41.005Z"
   },
   {
    "duration": 398,
    "start_time": "2024-06-07T15:15:41.032Z"
   },
   {
    "duration": 413,
    "start_time": "2024-06-07T15:15:41.433Z"
   },
   {
    "duration": 29,
    "start_time": "2024-06-07T15:15:41.849Z"
   },
   {
    "duration": 334,
    "start_time": "2024-06-07T15:15:41.881Z"
   },
   {
    "duration": 44,
    "start_time": "2024-06-07T15:15:42.220Z"
   },
   {
    "duration": 204,
    "start_time": "2024-06-07T15:15:42.267Z"
   },
   {
    "duration": 10,
    "start_time": "2024-06-07T15:15:42.474Z"
   },
   {
    "duration": 45,
    "start_time": "2024-06-07T15:15:42.487Z"
   },
   {
    "duration": 34,
    "start_time": "2024-06-07T15:15:42.536Z"
   },
   {
    "duration": 11,
    "start_time": "2024-06-07T15:15:42.573Z"
   },
   {
    "duration": 22,
    "start_time": "2024-06-07T15:39:57.968Z"
   },
   {
    "duration": 40,
    "start_time": "2024-06-07T15:40:38.312Z"
   },
   {
    "duration": 4,
    "start_time": "2024-06-07T15:41:42.876Z"
   },
   {
    "duration": 36,
    "start_time": "2024-06-07T15:41:43.198Z"
   },
   {
    "duration": 6,
    "start_time": "2024-06-07T15:43:26.612Z"
   },
   {
    "duration": 10,
    "start_time": "2024-06-07T15:43:38.845Z"
   },
   {
    "duration": 17,
    "start_time": "2024-06-08T13:45:28.908Z"
   },
   {
    "duration": 321,
    "start_time": "2024-06-08T13:45:37.384Z"
   },
   {
    "duration": 5144,
    "start_time": "2024-06-08T13:45:42.545Z"
   },
   {
    "duration": 1333,
    "start_time": "2024-06-08T13:45:50.525Z"
   },
   {
    "duration": 492,
    "start_time": "2024-06-08T13:46:05.775Z"
   },
   {
    "duration": 301,
    "start_time": "2024-06-08T13:46:18.355Z"
   },
   {
    "duration": 70,
    "start_time": "2024-06-08T13:50:13.856Z"
   },
   {
    "duration": 81,
    "start_time": "2024-06-08T13:50:35.846Z"
   },
   {
    "duration": 74,
    "start_time": "2024-06-08T13:50:45.876Z"
   },
   {
    "duration": 68,
    "start_time": "2024-06-08T13:58:36.087Z"
   },
   {
    "duration": 64,
    "start_time": "2024-06-08T14:01:26.006Z"
   },
   {
    "duration": 51,
    "start_time": "2024-06-08T14:46:19.856Z"
   },
   {
    "duration": 30,
    "start_time": "2024-06-08T14:46:38.815Z"
   },
   {
    "duration": 61,
    "start_time": "2024-06-08T14:50:02.456Z"
   },
   {
    "duration": 47,
    "start_time": "2024-06-08T14:50:46.106Z"
   },
   {
    "duration": 44,
    "start_time": "2024-06-08T14:51:25.055Z"
   },
   {
    "duration": 37,
    "start_time": "2024-06-08T14:52:35.934Z"
   },
   {
    "duration": 444,
    "start_time": "2024-06-08T14:52:39.336Z"
   },
   {
    "duration": 19,
    "start_time": "2024-06-08T14:52:55.475Z"
   },
   {
    "duration": 60,
    "start_time": "2024-06-08T14:53:24.354Z"
   },
   {
    "duration": 79,
    "start_time": "2024-06-08T14:56:36.786Z"
   },
   {
    "duration": 49,
    "start_time": "2024-06-08T14:56:45.936Z"
   },
   {
    "duration": 59,
    "start_time": "2024-06-08T14:56:56.574Z"
   },
   {
    "duration": 59,
    "start_time": "2024-06-08T14:57:09.396Z"
   },
   {
    "duration": 62,
    "start_time": "2024-06-08T14:58:40.794Z"
   },
   {
    "duration": 94,
    "start_time": "2024-06-08T14:58:56.706Z"
   },
   {
    "duration": 20,
    "start_time": "2024-06-08T14:59:10.616Z"
   },
   {
    "duration": 59,
    "start_time": "2024-06-08T15:00:28.295Z"
   },
   {
    "duration": 80,
    "start_time": "2024-06-08T15:00:33.211Z"
   },
   {
    "duration": 12,
    "start_time": "2024-06-08T15:00:42.274Z"
   },
   {
    "duration": 21,
    "start_time": "2024-06-08T15:00:43.773Z"
   },
   {
    "duration": 58,
    "start_time": "2024-06-08T15:01:39.549Z"
   },
   {
    "duration": 157,
    "start_time": "2024-06-08T15:01:47.017Z"
   },
   {
    "duration": 60,
    "start_time": "2024-06-08T15:02:19.224Z"
   },
   {
    "duration": 30,
    "start_time": "2024-06-08T15:05:48.516Z"
   },
   {
    "duration": 50,
    "start_time": "2024-06-08T15:06:27.936Z"
   },
   {
    "duration": 47,
    "start_time": "2024-06-08T15:07:13.424Z"
   },
   {
    "duration": 75,
    "start_time": "2024-06-08T15:09:27.354Z"
   },
   {
    "duration": 57,
    "start_time": "2024-06-08T15:09:47.777Z"
   },
   {
    "duration": 1697,
    "start_time": "2024-06-08T15:09:56.314Z"
   },
   {
    "duration": 79,
    "start_time": "2024-06-08T15:10:21.107Z"
   },
   {
    "duration": 175,
    "start_time": "2024-06-08T15:10:52.596Z"
   },
   {
    "duration": 66,
    "start_time": "2024-06-08T15:12:03.124Z"
   },
   {
    "duration": 28,
    "start_time": "2024-06-08T15:12:18.978Z"
   },
   {
    "duration": 36,
    "start_time": "2024-06-08T15:12:27.316Z"
   },
   {
    "duration": 4753,
    "start_time": "2024-06-08T20:01:43.169Z"
   },
   {
    "duration": 367,
    "start_time": "2024-06-08T20:01:49.968Z"
   },
   {
    "duration": 395,
    "start_time": "2024-06-08T20:33:56.509Z"
   },
   {
    "duration": 79,
    "start_time": "2024-06-08T20:34:08.092Z"
   },
   {
    "duration": 281,
    "start_time": "2024-06-08T20:34:39.287Z"
   },
   {
    "duration": 58,
    "start_time": "2024-06-08T20:34:53.467Z"
   },
   {
    "duration": 58,
    "start_time": "2024-06-08T20:35:02.127Z"
   },
   {
    "duration": 30,
    "start_time": "2024-06-08T20:35:16.189Z"
   },
   {
    "duration": 89,
    "start_time": "2024-06-08T20:35:24.367Z"
   },
   {
    "duration": 15,
    "start_time": "2024-06-08T20:35:33.551Z"
   },
   {
    "duration": 12,
    "start_time": "2024-06-08T20:35:45.787Z"
   },
   {
    "duration": 18,
    "start_time": "2024-06-08T20:35:51.069Z"
   },
   {
    "duration": 136,
    "start_time": "2024-06-08T20:35:58.087Z"
   },
   {
    "duration": 57,
    "start_time": "2024-06-08T20:36:14.131Z"
   },
   {
    "duration": 67,
    "start_time": "2024-06-08T20:36:40.248Z"
   },
   {
    "duration": 60,
    "start_time": "2024-06-08T20:36:45.727Z"
   },
   {
    "duration": 58,
    "start_time": "2024-06-08T20:36:54.350Z"
   },
   {
    "duration": 58,
    "start_time": "2024-06-08T20:36:58.722Z"
   },
   {
    "duration": 66,
    "start_time": "2024-06-08T20:37:03.287Z"
   },
   {
    "duration": 57,
    "start_time": "2024-06-08T20:37:11.792Z"
   },
   {
    "duration": 1292,
    "start_time": "2024-06-08T20:37:21.967Z"
   },
   {
    "duration": 27,
    "start_time": "2024-06-08T20:37:45.093Z"
   },
   {
    "duration": 33,
    "start_time": "2024-06-08T20:37:49.507Z"
   },
   {
    "duration": 40,
    "start_time": "2024-06-08T20:38:15.647Z"
   },
   {
    "duration": 39,
    "start_time": "2024-06-08T20:46:11.323Z"
   },
   {
    "duration": 50,
    "start_time": "2024-06-08T20:46:21.093Z"
   },
   {
    "duration": 12,
    "start_time": "2024-06-08T20:47:03.667Z"
   },
   {
    "duration": 958,
    "start_time": "2024-06-08T20:47:06.567Z"
   },
   {
    "duration": 27,
    "start_time": "2024-06-08T20:47:34.737Z"
   },
   {
    "duration": 11,
    "start_time": "2024-06-08T20:47:48.767Z"
   },
   {
    "duration": 12,
    "start_time": "2024-06-08T20:47:53.908Z"
   },
   {
    "duration": 187,
    "start_time": "2024-06-08T20:48:03.292Z"
   },
   {
    "duration": 31,
    "start_time": "2024-06-08T20:48:21.848Z"
   },
   {
    "duration": 48,
    "start_time": "2024-06-08T20:49:44.933Z"
   },
   {
    "duration": 52,
    "start_time": "2024-06-08T20:50:04.450Z"
   },
   {
    "duration": 100,
    "start_time": "2024-06-08T20:50:17.013Z"
   },
   {
    "duration": 58,
    "start_time": "2024-06-08T20:50:56.227Z"
   },
   {
    "duration": 46,
    "start_time": "2024-06-08T20:51:03.010Z"
   },
   {
    "duration": 34,
    "start_time": "2024-06-08T20:51:12.287Z"
   },
   {
    "duration": 11,
    "start_time": "2024-06-08T20:51:17.008Z"
   },
   {
    "duration": 12,
    "start_time": "2024-06-08T20:51:19.987Z"
   },
   {
    "duration": 28,
    "start_time": "2024-06-08T20:51:28.757Z"
   },
   {
    "duration": 39,
    "start_time": "2024-06-08T20:51:31.672Z"
   },
   {
    "duration": 30,
    "start_time": "2024-06-08T20:51:35.447Z"
   },
   {
    "duration": 42,
    "start_time": "2024-06-08T20:52:38.794Z"
   },
   {
    "duration": 29,
    "start_time": "2024-06-08T20:52:47.212Z"
   },
   {
    "duration": 39,
    "start_time": "2024-06-08T20:53:06.208Z"
   },
   {
    "duration": 35,
    "start_time": "2024-06-08T21:06:26.572Z"
   },
   {
    "duration": 22,
    "start_time": "2024-06-08T21:06:38.928Z"
   },
   {
    "duration": 7,
    "start_time": "2024-06-08T21:09:53.873Z"
   },
   {
    "duration": 13,
    "start_time": "2024-06-08T21:10:36.567Z"
   },
   {
    "duration": 18,
    "start_time": "2024-06-08T21:15:58.688Z"
   },
   {
    "duration": 39,
    "start_time": "2024-06-08T21:16:16.347Z"
   },
   {
    "duration": 6,
    "start_time": "2024-06-08T21:16:20.787Z"
   },
   {
    "duration": 16,
    "start_time": "2024-06-08T21:16:30.985Z"
   },
   {
    "duration": 5,
    "start_time": "2024-06-08T21:32:29.867Z"
   },
   {
    "duration": 289,
    "start_time": "2024-06-08T21:32:29.876Z"
   },
   {
    "duration": 23,
    "start_time": "2024-06-08T21:32:30.169Z"
   },
   {
    "duration": 20,
    "start_time": "2024-06-08T21:32:30.197Z"
   },
   {
    "duration": 28,
    "start_time": "2024-06-08T21:32:30.219Z"
   },
   {
    "duration": 6,
    "start_time": "2024-06-08T21:32:30.250Z"
   },
   {
    "duration": 53,
    "start_time": "2024-06-08T21:32:30.259Z"
   },
   {
    "duration": 29,
    "start_time": "2024-06-08T21:32:30.315Z"
   },
   {
    "duration": 15,
    "start_time": "2024-06-08T21:32:30.347Z"
   },
   {
    "duration": 62,
    "start_time": "2024-06-08T21:32:30.369Z"
   },
   {
    "duration": 42,
    "start_time": "2024-06-08T21:32:30.433Z"
   },
   {
    "duration": 44,
    "start_time": "2024-06-08T21:32:30.478Z"
   },
   {
    "duration": 16,
    "start_time": "2024-06-08T21:32:30.525Z"
   },
   {
    "duration": 117,
    "start_time": "2024-06-08T21:32:30.545Z"
   },
   {
    "duration": 26,
    "start_time": "2024-06-08T21:32:30.665Z"
   },
   {
    "duration": 28,
    "start_time": "2024-06-08T21:32:30.694Z"
   },
   {
    "duration": 55,
    "start_time": "2024-06-08T21:32:30.725Z"
   },
   {
    "duration": 31,
    "start_time": "2024-06-08T21:32:30.811Z"
   },
   {
    "duration": 13,
    "start_time": "2024-06-08T21:32:30.846Z"
   },
   {
    "duration": 92,
    "start_time": "2024-06-08T21:32:30.862Z"
   },
   {
    "duration": 14,
    "start_time": "2024-06-08T21:32:30.960Z"
   },
   {
    "duration": 17,
    "start_time": "2024-06-08T21:32:30.978Z"
   },
   {
    "duration": 14,
    "start_time": "2024-06-08T21:32:31.013Z"
   },
   {
    "duration": 14,
    "start_time": "2024-06-08T21:32:31.030Z"
   },
   {
    "duration": 98,
    "start_time": "2024-06-08T21:32:31.047Z"
   },
   {
    "duration": 14,
    "start_time": "2024-06-08T21:32:31.148Z"
   },
   {
    "duration": 66,
    "start_time": "2024-06-08T21:32:31.167Z"
   },
   {
    "duration": 16,
    "start_time": "2024-06-08T21:32:31.241Z"
   },
   {
    "duration": 82,
    "start_time": "2024-06-08T21:32:31.260Z"
   },
   {
    "duration": 43,
    "start_time": "2024-06-08T21:32:31.345Z"
   },
   {
    "duration": 52,
    "start_time": "2024-06-08T21:32:31.391Z"
   },
   {
    "duration": 14,
    "start_time": "2024-06-08T21:32:31.445Z"
   },
   {
    "duration": 13,
    "start_time": "2024-06-08T21:32:31.462Z"
   },
   {
    "duration": 72,
    "start_time": "2024-06-08T21:32:31.479Z"
   },
   {
    "duration": 65,
    "start_time": "2024-06-08T21:32:31.554Z"
   },
   {
    "duration": 30,
    "start_time": "2024-06-08T21:32:31.622Z"
   },
   {
    "duration": 80,
    "start_time": "2024-06-08T21:32:31.654Z"
   },
   {
    "duration": 0,
    "start_time": "2024-06-08T21:32:31.737Z"
   },
   {
    "duration": 0,
    "start_time": "2024-06-08T21:32:31.740Z"
   },
   {
    "duration": 0,
    "start_time": "2024-06-08T21:32:31.742Z"
   },
   {
    "duration": 0,
    "start_time": "2024-06-08T21:32:31.745Z"
   },
   {
    "duration": 0,
    "start_time": "2024-06-08T21:32:31.747Z"
   },
   {
    "duration": 0,
    "start_time": "2024-06-08T21:32:31.750Z"
   },
   {
    "duration": 0,
    "start_time": "2024-06-08T21:32:31.752Z"
   },
   {
    "duration": 0,
    "start_time": "2024-06-08T21:32:31.754Z"
   },
   {
    "duration": 0,
    "start_time": "2024-06-08T21:32:31.756Z"
   },
   {
    "duration": 0,
    "start_time": "2024-06-08T21:32:31.761Z"
   },
   {
    "duration": 0,
    "start_time": "2024-06-08T21:32:31.763Z"
   },
   {
    "duration": 355,
    "start_time": "2024-06-08T21:33:54.829Z"
   },
   {
    "duration": 92,
    "start_time": "2024-06-08T21:34:22.607Z"
   },
   {
    "duration": 298,
    "start_time": "2024-06-08T21:34:31.507Z"
   },
   {
    "duration": 16,
    "start_time": "2024-06-08T21:34:49.739Z"
   },
   {
    "duration": 383,
    "start_time": "2024-06-08T21:34:52.409Z"
   },
   {
    "duration": 331,
    "start_time": "2024-06-08T21:35:42.267Z"
   },
   {
    "duration": 29,
    "start_time": "2024-06-08T21:35:46.748Z"
   },
   {
    "duration": 318,
    "start_time": "2024-06-08T21:36:13.287Z"
   },
   {
    "duration": 614,
    "start_time": "2024-06-08T21:36:22.030Z"
   },
   {
    "duration": 49,
    "start_time": "2024-06-08T21:36:37.307Z"
   },
   {
    "duration": 211,
    "start_time": "2024-06-08T21:36:48.863Z"
   },
   {
    "duration": 29,
    "start_time": "2024-06-08T21:37:20.667Z"
   },
   {
    "duration": 306,
    "start_time": "2024-06-08T21:38:30.987Z"
   },
   {
    "duration": 218,
    "start_time": "2024-06-08T21:38:57.313Z"
   },
   {
    "duration": 24,
    "start_time": "2024-06-08T21:39:51.967Z"
   },
   {
    "duration": 32,
    "start_time": "2024-06-08T21:40:01.647Z"
   },
   {
    "duration": 43,
    "start_time": "2024-06-08T21:41:53.167Z"
   },
   {
    "duration": 191,
    "start_time": "2024-06-08T21:42:33.258Z"
   },
   {
    "duration": 35,
    "start_time": "2024-06-08T21:42:42.343Z"
   },
   {
    "duration": 35,
    "start_time": "2024-06-08T21:42:45.312Z"
   },
   {
    "duration": 43,
    "start_time": "2024-06-08T21:43:26.202Z"
   },
   {
    "duration": 41,
    "start_time": "2024-06-08T21:43:48.110Z"
   },
   {
    "duration": 225,
    "start_time": "2024-06-08T21:43:58.559Z"
   },
   {
    "duration": 46,
    "start_time": "2024-06-08T21:44:06.907Z"
   },
   {
    "duration": 44,
    "start_time": "2024-06-08T21:49:40.727Z"
   },
   {
    "duration": 48,
    "start_time": "2024-06-08T21:49:56.947Z"
   },
   {
    "duration": 62,
    "start_time": "2024-06-08T21:50:50.772Z"
   },
   {
    "duration": 41,
    "start_time": "2024-06-08T21:52:23.150Z"
   },
   {
    "duration": 94,
    "start_time": "2024-06-08T21:52:48.247Z"
   },
   {
    "duration": 58,
    "start_time": "2024-06-08T21:52:53.627Z"
   },
   {
    "duration": 47,
    "start_time": "2024-06-08T21:52:58.693Z"
   },
   {
    "duration": 209,
    "start_time": "2024-06-08T21:53:35.847Z"
   },
   {
    "duration": 151,
    "start_time": "2024-06-08T21:54:12.707Z"
   },
   {
    "duration": 9,
    "start_time": "2024-06-08T21:54:43.343Z"
   },
   {
    "duration": 303,
    "start_time": "2024-06-08T21:54:43.359Z"
   },
   {
    "duration": 22,
    "start_time": "2024-06-08T21:54:43.665Z"
   },
   {
    "duration": 31,
    "start_time": "2024-06-08T21:54:43.690Z"
   },
   {
    "duration": 27,
    "start_time": "2024-06-08T21:54:43.727Z"
   },
   {
    "duration": 6,
    "start_time": "2024-06-08T21:54:43.758Z"
   },
   {
    "duration": 52,
    "start_time": "2024-06-08T21:54:43.767Z"
   },
   {
    "duration": 31,
    "start_time": "2024-06-08T21:54:43.823Z"
   },
   {
    "duration": 14,
    "start_time": "2024-06-08T21:54:43.857Z"
   },
   {
    "duration": 59,
    "start_time": "2024-06-08T21:54:43.875Z"
   },
   {
    "duration": 36,
    "start_time": "2024-06-08T21:54:43.937Z"
   },
   {
    "duration": 50,
    "start_time": "2024-06-08T21:54:43.976Z"
   },
   {
    "duration": 16,
    "start_time": "2024-06-08T21:54:44.029Z"
   },
   {
    "duration": 123,
    "start_time": "2024-06-08T21:54:44.053Z"
   },
   {
    "duration": 42,
    "start_time": "2024-06-08T21:54:44.179Z"
   },
   {
    "duration": 12,
    "start_time": "2024-06-08T21:54:44.224Z"
   },
   {
    "duration": 82,
    "start_time": "2024-06-08T21:54:44.239Z"
   },
   {
    "duration": 33,
    "start_time": "2024-06-08T21:54:44.324Z"
   },
   {
    "duration": 14,
    "start_time": "2024-06-08T21:54:44.359Z"
   },
   {
    "duration": 104,
    "start_time": "2024-06-08T21:54:44.376Z"
   },
   {
    "duration": 27,
    "start_time": "2024-06-08T21:54:44.485Z"
   },
   {
    "duration": 19,
    "start_time": "2024-06-08T21:54:44.516Z"
   },
   {
    "duration": 16,
    "start_time": "2024-06-08T21:54:44.538Z"
   },
   {
    "duration": 15,
    "start_time": "2024-06-08T21:54:44.558Z"
   },
   {
    "duration": 101,
    "start_time": "2024-06-08T21:54:44.576Z"
   },
   {
    "duration": 12,
    "start_time": "2024-06-08T21:54:44.679Z"
   },
   {
    "duration": 50,
    "start_time": "2024-06-08T21:54:44.714Z"
   },
   {
    "duration": 45,
    "start_time": "2024-06-08T21:54:44.767Z"
   },
   {
    "duration": 364,
    "start_time": "2024-06-08T21:54:44.814Z"
   },
   {
    "duration": 0,
    "start_time": "2024-06-08T21:54:45.181Z"
   },
   {
    "duration": 0,
    "start_time": "2024-06-08T21:54:45.183Z"
   },
   {
    "duration": 0,
    "start_time": "2024-06-08T21:54:45.185Z"
   },
   {
    "duration": 0,
    "start_time": "2024-06-08T21:54:45.187Z"
   },
   {
    "duration": 0,
    "start_time": "2024-06-08T21:54:45.189Z"
   },
   {
    "duration": 0,
    "start_time": "2024-06-08T21:54:45.191Z"
   },
   {
    "duration": 0,
    "start_time": "2024-06-08T21:54:45.213Z"
   },
   {
    "duration": 0,
    "start_time": "2024-06-08T21:54:45.215Z"
   },
   {
    "duration": 0,
    "start_time": "2024-06-08T21:54:45.217Z"
   },
   {
    "duration": 0,
    "start_time": "2024-06-08T21:54:45.219Z"
   },
   {
    "duration": 0,
    "start_time": "2024-06-08T21:54:45.222Z"
   },
   {
    "duration": 0,
    "start_time": "2024-06-08T21:54:45.224Z"
   },
   {
    "duration": 0,
    "start_time": "2024-06-08T21:54:45.227Z"
   },
   {
    "duration": 0,
    "start_time": "2024-06-08T21:54:45.229Z"
   },
   {
    "duration": 0,
    "start_time": "2024-06-08T21:54:45.232Z"
   },
   {
    "duration": 0,
    "start_time": "2024-06-08T21:54:45.235Z"
   },
   {
    "duration": 0,
    "start_time": "2024-06-08T21:54:45.238Z"
   },
   {
    "duration": 0,
    "start_time": "2024-06-08T21:54:45.240Z"
   },
   {
    "duration": 0,
    "start_time": "2024-06-08T21:54:45.242Z"
   },
   {
    "duration": 117,
    "start_time": "2024-06-08T21:56:33.567Z"
   },
   {
    "duration": 40,
    "start_time": "2024-06-08T21:58:30.268Z"
   },
   {
    "duration": 71,
    "start_time": "2024-06-08T21:58:39.327Z"
   },
   {
    "duration": 86,
    "start_time": "2024-06-08T21:59:14.748Z"
   },
   {
    "duration": 83,
    "start_time": "2024-06-08T21:59:28.253Z"
   },
   {
    "duration": 85,
    "start_time": "2024-06-08T22:01:07.299Z"
   },
   {
    "duration": 4,
    "start_time": "2024-06-08T22:01:37.547Z"
   },
   {
    "duration": 288,
    "start_time": "2024-06-08T22:01:37.555Z"
   },
   {
    "duration": 23,
    "start_time": "2024-06-08T22:01:37.847Z"
   },
   {
    "duration": 11,
    "start_time": "2024-06-08T22:01:37.873Z"
   },
   {
    "duration": 47,
    "start_time": "2024-06-08T22:01:37.889Z"
   },
   {
    "duration": 6,
    "start_time": "2024-06-08T22:01:37.938Z"
   },
   {
    "duration": 15,
    "start_time": "2024-06-08T22:01:37.948Z"
   },
   {
    "duration": 70,
    "start_time": "2024-06-08T22:01:37.966Z"
   },
   {
    "duration": 13,
    "start_time": "2024-06-08T22:01:38.040Z"
   },
   {
    "duration": 58,
    "start_time": "2024-06-08T22:01:38.056Z"
   },
   {
    "duration": 40,
    "start_time": "2024-06-08T22:01:38.122Z"
   },
   {
    "duration": 48,
    "start_time": "2024-06-08T22:01:38.166Z"
   },
   {
    "duration": 18,
    "start_time": "2024-06-08T22:01:38.217Z"
   },
   {
    "duration": 127,
    "start_time": "2024-06-08T22:01:38.238Z"
   },
   {
    "duration": 28,
    "start_time": "2024-06-08T22:01:38.368Z"
   },
   {
    "duration": 13,
    "start_time": "2024-06-08T22:01:38.414Z"
   },
   {
    "duration": 55,
    "start_time": "2024-06-08T22:01:38.430Z"
   },
   {
    "duration": 32,
    "start_time": "2024-06-08T22:01:38.513Z"
   },
   {
    "duration": 17,
    "start_time": "2024-06-08T22:01:38.548Z"
   },
   {
    "duration": 92,
    "start_time": "2024-06-08T22:01:38.568Z"
   },
   {
    "duration": 6,
    "start_time": "2024-06-08T22:01:38.664Z"
   },
   {
    "duration": 39,
    "start_time": "2024-06-08T22:01:38.673Z"
   },
   {
    "duration": 13,
    "start_time": "2024-06-08T22:01:38.715Z"
   },
   {
    "duration": 15,
    "start_time": "2024-06-08T22:01:38.732Z"
   },
   {
    "duration": 108,
    "start_time": "2024-06-08T22:01:38.749Z"
   },
   {
    "duration": 12,
    "start_time": "2024-06-08T22:01:38.860Z"
   },
   {
    "duration": 68,
    "start_time": "2024-06-08T22:01:38.875Z"
   },
   {
    "duration": 16,
    "start_time": "2024-06-08T22:01:38.947Z"
   },
   {
    "duration": 96,
    "start_time": "2024-06-08T22:01:38.970Z"
   },
   {
    "duration": 865,
    "start_time": "2024-06-08T22:01:39.069Z"
   },
   {
    "duration": 0,
    "start_time": "2024-06-08T22:01:39.937Z"
   },
   {
    "duration": 0,
    "start_time": "2024-06-08T22:01:39.939Z"
   },
   {
    "duration": 0,
    "start_time": "2024-06-08T22:01:39.942Z"
   },
   {
    "duration": 0,
    "start_time": "2024-06-08T22:01:39.944Z"
   },
   {
    "duration": 0,
    "start_time": "2024-06-08T22:01:39.947Z"
   },
   {
    "duration": 0,
    "start_time": "2024-06-08T22:01:39.950Z"
   },
   {
    "duration": 0,
    "start_time": "2024-06-08T22:01:39.953Z"
   },
   {
    "duration": 0,
    "start_time": "2024-06-08T22:01:39.955Z"
   },
   {
    "duration": 0,
    "start_time": "2024-06-08T22:01:39.957Z"
   },
   {
    "duration": 0,
    "start_time": "2024-06-08T22:01:39.959Z"
   },
   {
    "duration": 0,
    "start_time": "2024-06-08T22:01:39.962Z"
   },
   {
    "duration": 0,
    "start_time": "2024-06-08T22:01:40.012Z"
   },
   {
    "duration": 0,
    "start_time": "2024-06-08T22:01:40.014Z"
   },
   {
    "duration": 0,
    "start_time": "2024-06-08T22:01:40.016Z"
   },
   {
    "duration": 0,
    "start_time": "2024-06-08T22:01:40.018Z"
   },
   {
    "duration": 0,
    "start_time": "2024-06-08T22:01:40.020Z"
   },
   {
    "duration": 0,
    "start_time": "2024-06-08T22:01:40.023Z"
   },
   {
    "duration": 0,
    "start_time": "2024-06-08T22:01:40.027Z"
   },
   {
    "duration": 82,
    "start_time": "2024-06-08T22:03:10.627Z"
   },
   {
    "duration": 1093,
    "start_time": "2024-06-08T22:04:56.467Z"
   },
   {
    "duration": 266,
    "start_time": "2024-06-08T22:04:59.487Z"
   },
   {
    "duration": 64,
    "start_time": "2024-06-08T22:05:29.207Z"
   },
   {
    "duration": 7,
    "start_time": "2024-06-08T22:05:36.147Z"
   },
   {
    "duration": 15,
    "start_time": "2024-06-08T22:05:39.409Z"
   },
   {
    "duration": 62,
    "start_time": "2024-06-08T22:07:55.822Z"
   },
   {
    "duration": 401,
    "start_time": "2024-06-08T22:08:07.887Z"
   },
   {
    "duration": 78,
    "start_time": "2024-06-08T22:08:23.466Z"
   },
   {
    "duration": 29,
    "start_time": "2024-06-08T22:08:31.342Z"
   },
   {
    "duration": 335,
    "start_time": "2024-06-08T22:08:36.768Z"
   },
   {
    "duration": 58,
    "start_time": "2024-06-08T22:08:53.928Z"
   },
   {
    "duration": 55,
    "start_time": "2024-06-08T22:09:11.467Z"
   },
   {
    "duration": 40,
    "start_time": "2024-06-08T22:09:18.347Z"
   },
   {
    "duration": 4,
    "start_time": "2024-06-08T22:12:00.289Z"
   },
   {
    "duration": 290,
    "start_time": "2024-06-08T22:12:00.297Z"
   },
   {
    "duration": 26,
    "start_time": "2024-06-08T22:12:00.590Z"
   },
   {
    "duration": 12,
    "start_time": "2024-06-08T22:12:00.620Z"
   },
   {
    "duration": 26,
    "start_time": "2024-06-08T22:12:00.635Z"
   },
   {
    "duration": 7,
    "start_time": "2024-06-08T22:12:00.664Z"
   },
   {
    "duration": 51,
    "start_time": "2024-06-08T22:12:00.674Z"
   },
   {
    "duration": 30,
    "start_time": "2024-06-08T22:12:00.728Z"
   },
   {
    "duration": 13,
    "start_time": "2024-06-08T22:12:00.763Z"
   },
   {
    "duration": 25,
    "start_time": "2024-06-08T22:12:00.818Z"
   },
   {
    "duration": 67,
    "start_time": "2024-06-08T22:12:00.847Z"
   },
   {
    "duration": 20,
    "start_time": "2024-06-08T22:12:00.917Z"
   },
   {
    "duration": 25,
    "start_time": "2024-06-08T22:12:00.941Z"
   },
   {
    "duration": 128,
    "start_time": "2024-06-08T22:12:00.970Z"
   },
   {
    "duration": 37,
    "start_time": "2024-06-08T22:12:01.101Z"
   },
   {
    "duration": 13,
    "start_time": "2024-06-08T22:12:01.142Z"
   },
   {
    "duration": 91,
    "start_time": "2024-06-08T22:12:01.158Z"
   },
   {
    "duration": 33,
    "start_time": "2024-06-08T22:12:01.252Z"
   },
   {
    "duration": 14,
    "start_time": "2024-06-08T22:12:01.311Z"
   },
   {
    "duration": 60,
    "start_time": "2024-06-08T22:12:01.328Z"
   },
   {
    "duration": 5,
    "start_time": "2024-06-08T22:12:01.413Z"
   },
   {
    "duration": 15,
    "start_time": "2024-06-08T22:12:01.421Z"
   },
   {
    "duration": 13,
    "start_time": "2024-06-08T22:12:01.439Z"
   },
   {
    "duration": 57,
    "start_time": "2024-06-08T22:12:01.456Z"
   },
   {
    "duration": 71,
    "start_time": "2024-06-08T22:12:01.516Z"
   },
   {
    "duration": 26,
    "start_time": "2024-06-08T22:12:01.589Z"
   },
   {
    "duration": 47,
    "start_time": "2024-06-08T22:12:01.618Z"
   },
   {
    "duration": 41,
    "start_time": "2024-06-08T22:12:01.673Z"
   },
   {
    "duration": 58,
    "start_time": "2024-06-08T22:12:01.717Z"
   },
   {
    "duration": 67,
    "start_time": "2024-06-08T22:12:01.777Z"
   },
   {
    "duration": 35,
    "start_time": "2024-06-08T22:12:01.846Z"
   },
   {
    "duration": 37,
    "start_time": "2024-06-08T22:12:01.884Z"
   },
   {
    "duration": 15,
    "start_time": "2024-06-08T22:12:01.923Z"
   },
   {
    "duration": 38,
    "start_time": "2024-06-08T22:12:01.941Z"
   },
   {
    "duration": 40,
    "start_time": "2024-06-08T22:12:02.014Z"
   },
   {
    "duration": 56,
    "start_time": "2024-06-08T22:12:02.057Z"
   },
   {
    "duration": 367,
    "start_time": "2024-06-08T22:12:02.116Z"
   },
   {
    "duration": 286,
    "start_time": "2024-06-08T22:12:02.486Z"
   },
   {
    "duration": 15,
    "start_time": "2024-06-08T22:12:02.776Z"
   },
   {
    "duration": 432,
    "start_time": "2024-06-08T22:12:02.811Z"
   },
   {
    "duration": 384,
    "start_time": "2024-06-08T22:12:03.246Z"
   },
   {
    "duration": 38,
    "start_time": "2024-06-08T22:12:03.633Z"
   },
   {
    "duration": 456,
    "start_time": "2024-06-08T22:12:03.675Z"
   },
   {
    "duration": 37,
    "start_time": "2024-06-08T22:12:04.135Z"
   },
   {
    "duration": 183,
    "start_time": "2024-06-08T22:12:04.175Z"
   },
   {
    "duration": 15,
    "start_time": "2024-06-08T22:12:04.361Z"
   },
   {
    "duration": 65,
    "start_time": "2024-06-08T22:12:04.379Z"
   },
   {
    "duration": 14,
    "start_time": "2024-06-08T22:12:04.448Z"
   },
   {
    "duration": 5348,
    "start_time": "2024-06-09T11:13:29.932Z"
   },
   {
    "duration": 420,
    "start_time": "2024-06-09T11:13:35.284Z"
   },
   {
    "duration": 44,
    "start_time": "2024-06-09T11:13:35.710Z"
   },
   {
    "duration": 15,
    "start_time": "2024-06-09T11:13:35.758Z"
   },
   {
    "duration": 62,
    "start_time": "2024-06-09T11:13:35.776Z"
   },
   {
    "duration": 7,
    "start_time": "2024-06-09T11:13:35.842Z"
   },
   {
    "duration": 20,
    "start_time": "2024-06-09T11:13:35.853Z"
   },
   {
    "duration": 71,
    "start_time": "2024-06-09T11:13:35.876Z"
   },
   {
    "duration": 14,
    "start_time": "2024-06-09T11:13:35.951Z"
   },
   {
    "duration": 69,
    "start_time": "2024-06-09T11:13:35.976Z"
   },
   {
    "duration": 44,
    "start_time": "2024-06-09T11:13:36.047Z"
   },
   {
    "duration": 42,
    "start_time": "2024-06-09T11:13:36.094Z"
   },
   {
    "duration": 18,
    "start_time": "2024-06-09T11:13:36.139Z"
   },
   {
    "duration": 170,
    "start_time": "2024-06-09T11:13:36.161Z"
   },
   {
    "duration": 40,
    "start_time": "2024-06-09T11:13:36.335Z"
   },
   {
    "duration": 45,
    "start_time": "2024-06-09T11:13:36.378Z"
   },
   {
    "duration": 95,
    "start_time": "2024-06-09T11:13:36.428Z"
   },
   {
    "duration": 35,
    "start_time": "2024-06-09T11:13:36.528Z"
   },
   {
    "duration": 19,
    "start_time": "2024-06-09T11:13:36.568Z"
   },
   {
    "duration": 100,
    "start_time": "2024-06-09T11:13:36.623Z"
   },
   {
    "duration": 6,
    "start_time": "2024-06-09T11:13:36.726Z"
   },
   {
    "duration": 19,
    "start_time": "2024-06-09T11:13:36.735Z"
   },
   {
    "duration": 16,
    "start_time": "2024-06-09T11:13:36.758Z"
   },
   {
    "duration": 18,
    "start_time": "2024-06-09T11:13:36.822Z"
   },
   {
    "duration": 127,
    "start_time": "2024-06-09T11:13:36.845Z"
   },
   {
    "duration": 17,
    "start_time": "2024-06-09T11:13:36.981Z"
   },
   {
    "duration": 80,
    "start_time": "2024-06-09T11:13:37.002Z"
   },
   {
    "duration": 43,
    "start_time": "2024-06-09T11:13:37.094Z"
   },
   {
    "duration": 91,
    "start_time": "2024-06-09T11:13:37.140Z"
   },
   {
    "duration": 66,
    "start_time": "2024-06-09T11:13:37.235Z"
   },
   {
    "duration": 44,
    "start_time": "2024-06-09T11:13:37.322Z"
   },
   {
    "duration": 30,
    "start_time": "2024-06-09T11:13:37.369Z"
   },
   {
    "duration": 21,
    "start_time": "2024-06-09T11:13:37.407Z"
   },
   {
    "duration": 49,
    "start_time": "2024-06-09T11:13:37.432Z"
   },
   {
    "duration": 72,
    "start_time": "2024-06-09T11:13:37.485Z"
   },
   {
    "duration": 33,
    "start_time": "2024-06-09T11:13:37.560Z"
   },
   {
    "duration": 494,
    "start_time": "2024-06-09T11:13:37.622Z"
   },
   {
    "duration": 305,
    "start_time": "2024-06-09T11:13:38.120Z"
   },
   {
    "duration": 17,
    "start_time": "2024-06-09T11:13:38.428Z"
   },
   {
    "duration": 439,
    "start_time": "2024-06-09T11:13:38.449Z"
   },
   {
    "duration": 389,
    "start_time": "2024-06-09T11:13:38.892Z"
   },
   {
    "duration": 44,
    "start_time": "2024-06-09T11:13:39.285Z"
   },
   {
    "duration": 366,
    "start_time": "2024-06-09T11:13:39.333Z"
   },
   {
    "duration": 61,
    "start_time": "2024-06-09T11:13:39.703Z"
   },
   {
    "duration": 201,
    "start_time": "2024-06-09T11:13:39.769Z"
   },
   {
    "duration": 15,
    "start_time": "2024-06-09T11:13:39.975Z"
   },
   {
    "duration": 74,
    "start_time": "2024-06-09T11:13:39.994Z"
   },
   {
    "duration": 19,
    "start_time": "2024-06-09T11:13:40.073Z"
   },
   {
    "duration": 14,
    "start_time": "2024-06-09T11:13:53.331Z"
   },
   {
    "duration": 51,
    "start_time": "2024-06-09T11:15:12.847Z"
   },
   {
    "duration": 4998,
    "start_time": "2024-06-09T14:15:13.338Z"
   },
   {
    "duration": 389,
    "start_time": "2024-06-09T14:15:18.341Z"
   },
   {
    "duration": 29,
    "start_time": "2024-06-09T14:15:18.733Z"
   },
   {
    "duration": 14,
    "start_time": "2024-06-09T14:15:18.766Z"
   },
   {
    "duration": 65,
    "start_time": "2024-06-09T14:15:18.786Z"
   },
   {
    "duration": 8,
    "start_time": "2024-06-09T14:15:18.854Z"
   },
   {
    "duration": 16,
    "start_time": "2024-06-09T14:15:18.866Z"
   },
   {
    "duration": 62,
    "start_time": "2024-06-09T14:15:18.886Z"
   },
   {
    "duration": 14,
    "start_time": "2024-06-09T14:15:18.951Z"
   },
   {
    "duration": 62,
    "start_time": "2024-06-09T14:15:18.968Z"
   },
   {
    "duration": 37,
    "start_time": "2024-06-09T14:15:19.034Z"
   },
   {
    "duration": 49,
    "start_time": "2024-06-09T14:15:19.075Z"
   },
   {
    "duration": 17,
    "start_time": "2024-06-09T14:15:19.127Z"
   },
   {
    "duration": 133,
    "start_time": "2024-06-09T14:15:19.150Z"
   },
   {
    "duration": 42,
    "start_time": "2024-06-09T14:15:19.286Z"
   },
   {
    "duration": 13,
    "start_time": "2024-06-09T14:15:19.331Z"
   },
   {
    "duration": 84,
    "start_time": "2024-06-09T14:15:19.348Z"
   },
   {
    "duration": 36,
    "start_time": "2024-06-09T14:15:19.435Z"
   },
   {
    "duration": 48,
    "start_time": "2024-06-09T14:15:19.474Z"
   },
   {
    "duration": 61,
    "start_time": "2024-06-09T14:15:19.526Z"
   },
   {
    "duration": 8,
    "start_time": "2024-06-09T14:15:19.590Z"
   },
   {
    "duration": 16,
    "start_time": "2024-06-09T14:15:19.624Z"
   },
   {
    "duration": 21,
    "start_time": "2024-06-09T14:15:19.643Z"
   },
   {
    "duration": 18,
    "start_time": "2024-06-09T14:15:19.667Z"
   },
   {
    "duration": 83,
    "start_time": "2024-06-09T14:15:19.724Z"
   },
   {
    "duration": 17,
    "start_time": "2024-06-09T14:15:19.825Z"
   },
   {
    "duration": 86,
    "start_time": "2024-06-09T14:15:19.846Z"
   },
   {
    "duration": 18,
    "start_time": "2024-06-09T14:15:19.935Z"
   },
   {
    "duration": 106,
    "start_time": "2024-06-09T14:15:19.957Z"
   },
   {
    "duration": 61,
    "start_time": "2024-06-09T14:15:20.066Z"
   },
   {
    "duration": 37,
    "start_time": "2024-06-09T14:15:20.131Z"
   },
   {
    "duration": 12,
    "start_time": "2024-06-09T14:15:20.172Z"
   },
   {
    "duration": 17,
    "start_time": "2024-06-09T14:15:20.222Z"
   },
   {
    "duration": 38,
    "start_time": "2024-06-09T14:15:20.243Z"
   },
   {
    "duration": 73,
    "start_time": "2024-06-09T14:15:20.285Z"
   },
   {
    "duration": 34,
    "start_time": "2024-06-09T14:15:20.360Z"
   },
   {
    "duration": 409,
    "start_time": "2024-06-09T14:15:20.397Z"
   },
   {
    "duration": 303,
    "start_time": "2024-06-09T14:15:20.809Z"
   },
   {
    "duration": 30,
    "start_time": "2024-06-09T14:15:21.117Z"
   },
   {
    "duration": 421,
    "start_time": "2024-06-09T14:15:21.151Z"
   },
   {
    "duration": 356,
    "start_time": "2024-06-09T14:15:21.582Z"
   },
   {
    "duration": 31,
    "start_time": "2024-06-09T14:15:21.941Z"
   },
   {
    "duration": 361,
    "start_time": "2024-06-09T14:15:21.976Z"
   },
   {
    "duration": 31,
    "start_time": "2024-06-09T14:15:22.341Z"
   },
   {
    "duration": 173,
    "start_time": "2024-06-09T14:15:22.375Z"
   },
   {
    "duration": 13,
    "start_time": "2024-06-09T14:15:22.552Z"
   },
   {
    "duration": 69,
    "start_time": "2024-06-09T14:15:22.568Z"
   },
   {
    "duration": 13,
    "start_time": "2024-06-09T14:15:22.640Z"
   }
  ],
  "kernelspec": {
   "display_name": "Python 3 (ipykernel)",
   "language": "python",
   "name": "python3"
  },
  "language_info": {
   "codemirror_mode": {
    "name": "ipython",
    "version": 3
   },
   "file_extension": ".py",
   "mimetype": "text/x-python",
   "name": "python",
   "nbconvert_exporter": "python",
   "pygments_lexer": "ipython3",
   "version": "3.9.19"
  },
  "toc": {
   "base_numbering": 1,
   "nav_menu": {},
   "number_sections": true,
   "sideBar": true,
   "skip_h1_title": false,
   "title_cell": "Table of Contents",
   "title_sidebar": "Contents",
   "toc_cell": false,
   "toc_position": {
    "height": "calc(100% - 180px)",
    "left": "10px",
    "top": "150px",
    "width": "373.188px"
   },
   "toc_section_display": true,
   "toc_window_display": false
  }
 },
 "nbformat": 4,
 "nbformat_minor": 2
}
